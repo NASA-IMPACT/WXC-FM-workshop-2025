{
 "cells": [
  {
   "cell_type": "markdown",
   "id": "e7377ef8-58f4-4c91-820a-1214edb2fec9",
   "metadata": {},
   "source": [
    "# Precipitation forecast example\n",
    "\n",
    "This notebook demonstrates how to perform precipitation forecasts using the Prithvi Precip model. The Prithvi Precip is a finetuned version of the Prithvi-WxC foundation model that was finetuned using  IMERG data from January 1st 2000 to December 31 2019."
   ]
  },
  {
   "cell_type": "code",
   "execution_count": 7,
   "id": "26d17732-8b96-4d20-b467-d41572485f76",
   "metadata": {},
   "outputs": [
    {
     "name": "stdout",
     "output_type": "stream",
     "text": [
      "The autoreload extension is already loaded. To reload it, use:\n",
      "  %reload_ext autoreload\n"
     ]
    }
   ],
   "source": [
    "%load_ext autoreload\n",
    "%autoreload 2\n",
    "from pathlib import Path\n",
    "\n",
    "import numpy as np\n",
    "import xarray as xr\n",
    "import matplotlib.pyplot as plt"
   ]
  },
  {
   "cell_type": "markdown",
   "id": "72d85484-85ab-4bcc-872d-5f00b3220d99",
   "metadata": {},
   "source": [
    "## Required packages\n",
    "\n",
    "The code for the Prithvi Precip model is available from this [GitHub](https://github.com/simonpf/prithvi_precip) repository. \n",
    "\n",
    "> **Disclaimer**: This is still early development. From a quality perspective the code is not yet where I would like it to be and is likely to still change in the future."
   ]
  },
  {
   "cell_type": "code",
   "execution_count": 13,
   "id": "29b86658-da2f-4ea3-a568-c0ac6d02cfef",
   "metadata": {
    "scrolled": true
   },
   "outputs": [
    {
     "name": "stdout",
     "output_type": "stream",
     "text": [
      "Collecting git+https://github.com/simonpf/prithvi_precip\n",
      "  Cloning https://github.com/simonpf/prithvi_precip to /tmp/pip-req-build-tp49ln48\n",
      "  Running command git clone --filter=blob:none --quiet https://github.com/simonpf/prithvi_precip /tmp/pip-req-build-tp49ln48\n",
      "  Resolved https://github.com/simonpf/prithvi_precip to commit 9695b2afb4ba2c598859860ff091c4ca80db6c0c\n",
      "  Installing build dependencies ... \u001b[?25ldone\n",
      "\u001b[?25h  Getting requirements to build wheel ... \u001b[?25ldone\n",
      "\u001b[?25h  Preparing metadata (pyproject.toml) ... \u001b[?25ldone\n",
      "\u001b[?25hRequirement already satisfied: matplotlib in /home/simon/miniconda3/lib/python3.10/site-packages (from prithvi_precip==0.0.1) (3.8.0)\n",
      "Requirement already satisfied: pytest in /home/simon/miniconda3/lib/python3.10/site-packages (from prithvi_precip==0.0.1) (7.4.4)\n",
      "Requirement already satisfied: numpy in /home/simon/miniconda3/lib/python3.10/site-packages (from prithvi_precip==0.0.1) (1.26.4)\n",
      "Requirement already satisfied: torch>=2.2 in /home/simon/miniconda3/lib/python3.10/site-packages (from prithvi_precip==0.0.1) (2.3.1)\n",
      "Requirement already satisfied: cartopy in /home/simon/miniconda3/lib/python3.10/site-packages (from prithvi_precip==0.0.1) (0.22.0)\n",
      "Requirement already satisfied: xarray in /home/simon/miniconda3/lib/python3.10/site-packages (from prithvi_precip==0.0.1) (2025.6.1)\n",
      "Collecting pytorch_retrieve>=0.1.4\n",
      "  Downloading pytorch_retrieve-0.1.4-py3-none-any.whl (192 kB)\n",
      "\u001b[2K     \u001b[38;2;114;156;31m━━━━━━━━━━━━━━━━━━━━━━━━━━━━━━━━━━━━━━━\u001b[0m \u001b[32m193.0/193.0 kB\u001b[0m \u001b[31m3.0 MB/s\u001b[0m eta \u001b[36m0:00:00\u001b[0m MB/s\u001b[0m eta \u001b[36m0:00:01\u001b[0m\n",
      "\u001b[?25hRequirement already satisfied: click in /home/simon/miniconda3/lib/python3.10/site-packages (from prithvi_precip==0.0.1) (8.1.7)\n",
      "Collecting axial-attention\n",
      "  Downloading axial_attention-0.6.1-py3-none-any.whl (6.0 kB)\n",
      "Requirement already satisfied: pyyaml in /home/simon/miniconda3/lib/python3.10/site-packages (from pytorch_retrieve>=0.1.4->prithvi_precip==0.0.1) (6.0.2)\n",
      "Requirement already satisfied: toml in /home/simon/miniconda3/lib/python3.10/site-packages (from pytorch_retrieve>=0.1.4->prithvi_precip==0.0.1) (0.10.2)\n",
      "Requirement already satisfied: lightning in /home/simon/miniconda3/lib/python3.10/site-packages (from pytorch_retrieve>=0.1.4->prithvi_precip==0.0.1) (2.3.3)\n",
      "Requirement already satisfied: torchvision in /home/simon/miniconda3/lib/python3.10/site-packages (from pytorch_retrieve>=0.1.4->prithvi_precip==0.0.1) (0.14.0)\n",
      "Collecting tensorboard\n",
      "  Downloading tensorboard-2.20.0-py3-none-any.whl (5.5 MB)\n",
      "\u001b[2K     \u001b[38;2;114;156;31m━━━━━━━━━━━━━━━━━━━━━━━━━━━━━━━━━━━━━━━━\u001b[0m \u001b[32m5.5/5.5 MB\u001b[0m \u001b[31m2.8 MB/s\u001b[0m eta \u001b[36m0:00:00\u001b[0mm eta \u001b[36m0:00:01\u001b[0m[36m0:00:01\u001b[0m\n",
      "\u001b[?25hRequirement already satisfied: rich in /home/simon/miniconda3/lib/python3.10/site-packages (from pytorch_retrieve>=0.1.4->prithvi_precip==0.0.1) (13.6.0)\n",
      "Requirement already satisfied: scipy in /home/simon/miniconda3/lib/python3.10/site-packages (from pytorch_retrieve>=0.1.4->prithvi_precip==0.0.1) (1.15.3)\n",
      "Requirement already satisfied: networkx in /home/simon/miniconda3/lib/python3.10/site-packages (from torch>=2.2->prithvi_precip==0.0.1) (3.2.1)\n",
      "Requirement already satisfied: triton==2.3.1 in /home/simon/miniconda3/lib/python3.10/site-packages (from torch>=2.2->prithvi_precip==0.0.1) (2.3.1)\n",
      "Requirement already satisfied: nvidia-cublas-cu12==12.1.3.1 in /home/simon/miniconda3/lib/python3.10/site-packages (from torch>=2.2->prithvi_precip==0.0.1) (12.1.3.1)\n",
      "Requirement already satisfied: nvidia-nvtx-cu12==12.1.105 in /home/simon/miniconda3/lib/python3.10/site-packages (from torch>=2.2->prithvi_precip==0.0.1) (12.1.105)\n",
      "Requirement already satisfied: typing-extensions>=4.8.0 in /home/simon/miniconda3/lib/python3.10/site-packages (from torch>=2.2->prithvi_precip==0.0.1) (4.8.0)\n",
      "Requirement already satisfied: nvidia-cuda-cupti-cu12==12.1.105 in /home/simon/miniconda3/lib/python3.10/site-packages (from torch>=2.2->prithvi_precip==0.0.1) (12.1.105)\n",
      "Requirement already satisfied: nvidia-cudnn-cu12==8.9.2.26 in /home/simon/miniconda3/lib/python3.10/site-packages (from torch>=2.2->prithvi_precip==0.0.1) (8.9.2.26)\n",
      "Requirement already satisfied: jinja2 in /home/simon/miniconda3/lib/python3.10/site-packages (from torch>=2.2->prithvi_precip==0.0.1) (3.1.2)\n",
      "Requirement already satisfied: nvidia-cusparse-cu12==12.1.0.106 in /home/simon/miniconda3/lib/python3.10/site-packages (from torch>=2.2->prithvi_precip==0.0.1) (12.1.0.106)\n",
      "Requirement already satisfied: nvidia-curand-cu12==10.3.2.106 in /home/simon/miniconda3/lib/python3.10/site-packages (from torch>=2.2->prithvi_precip==0.0.1) (10.3.2.106)\n",
      "Requirement already satisfied: fsspec in /home/simon/miniconda3/lib/python3.10/site-packages (from torch>=2.2->prithvi_precip==0.0.1) (2024.2.0)\n",
      "Requirement already satisfied: filelock in /home/simon/miniconda3/lib/python3.10/site-packages (from torch>=2.2->prithvi_precip==0.0.1) (3.13.1)\n",
      "Requirement already satisfied: nvidia-cuda-nvrtc-cu12==12.1.105 in /home/simon/miniconda3/lib/python3.10/site-packages (from torch>=2.2->prithvi_precip==0.0.1) (12.1.105)\n",
      "Requirement already satisfied: nvidia-nccl-cu12==2.20.5 in /home/simon/miniconda3/lib/python3.10/site-packages (from torch>=2.2->prithvi_precip==0.0.1) (2.20.5)\n",
      "Requirement already satisfied: nvidia-cuda-runtime-cu12==12.1.105 in /home/simon/miniconda3/lib/python3.10/site-packages (from torch>=2.2->prithvi_precip==0.0.1) (12.1.105)\n",
      "Requirement already satisfied: sympy in /home/simon/miniconda3/lib/python3.10/site-packages (from torch>=2.2->prithvi_precip==0.0.1) (1.13.0)\n",
      "Requirement already satisfied: nvidia-cusolver-cu12==11.4.5.107 in /home/simon/miniconda3/lib/python3.10/site-packages (from torch>=2.2->prithvi_precip==0.0.1) (11.4.5.107)\n",
      "Requirement already satisfied: nvidia-cufft-cu12==11.0.2.54 in /home/simon/miniconda3/lib/python3.10/site-packages (from torch>=2.2->prithvi_precip==0.0.1) (11.0.2.54)\n",
      "Requirement already satisfied: nvidia-nvjitlink-cu12 in /home/simon/miniconda3/lib/python3.10/site-packages (from nvidia-cusolver-cu12==11.4.5.107->torch>=2.2->prithvi_precip==0.0.1) (12.5.82)\n",
      "Requirement already satisfied: pyshp>=2.1 in /home/simon/miniconda3/lib/python3.10/site-packages (from cartopy->prithvi_precip==0.0.1) (2.3.1)\n",
      "Requirement already satisfied: pyproj>=3.1.0 in /home/simon/miniconda3/lib/python3.10/site-packages (from cartopy->prithvi_precip==0.0.1) (3.7.1)\n",
      "Requirement already satisfied: shapely>=1.7 in /home/simon/miniconda3/lib/python3.10/site-packages (from cartopy->prithvi_precip==0.0.1) (2.0.1)\n",
      "Requirement already satisfied: packaging>=20 in /home/simon/miniconda3/lib/python3.10/site-packages (from cartopy->prithvi_precip==0.0.1) (25.0)\n",
      "Requirement already satisfied: contourpy>=1.0.1 in /home/simon/miniconda3/lib/python3.10/site-packages (from matplotlib->prithvi_precip==0.0.1) (1.3.2)\n",
      "Requirement already satisfied: cycler>=0.10 in /home/simon/miniconda3/lib/python3.10/site-packages (from matplotlib->prithvi_precip==0.0.1) (0.12.1)\n",
      "Requirement already satisfied: kiwisolver>=1.0.1 in /home/simon/miniconda3/lib/python3.10/site-packages (from matplotlib->prithvi_precip==0.0.1) (1.4.5)\n",
      "Requirement already satisfied: pyparsing>=2.3.1 in /home/simon/miniconda3/lib/python3.10/site-packages (from matplotlib->prithvi_precip==0.0.1) (3.1.1)\n",
      "Requirement already satisfied: pillow>=6.2.0 in /home/simon/miniconda3/lib/python3.10/site-packages (from matplotlib->prithvi_precip==0.0.1) (11.3.0)\n",
      "Requirement already satisfied: python-dateutil>=2.7 in /home/simon/miniconda3/lib/python3.10/site-packages (from matplotlib->prithvi_precip==0.0.1) (2.8.2)\n",
      "Requirement already satisfied: fonttools>=4.22.0 in /home/simon/miniconda3/lib/python3.10/site-packages (from matplotlib->prithvi_precip==0.0.1) (4.59.1)\n",
      "Requirement already satisfied: tomli>=1.0.0 in /home/simon/miniconda3/lib/python3.10/site-packages (from pytest->prithvi_precip==0.0.1) (2.0.1)\n",
      "Requirement already satisfied: pluggy<2.0,>=0.12 in /home/simon/miniconda3/lib/python3.10/site-packages (from pytest->prithvi_precip==0.0.1) (1.0.0)\n",
      "Requirement already satisfied: exceptiongroup>=1.0.0rc8 in /home/simon/miniconda3/lib/python3.10/site-packages (from pytest->prithvi_precip==0.0.1) (1.2.0)\n",
      "Requirement already satisfied: iniconfig in /home/simon/miniconda3/lib/python3.10/site-packages (from pytest->prithvi_precip==0.0.1) (2.0.0)\n",
      "Requirement already satisfied: pandas>=2.1 in /home/simon/miniconda3/lib/python3.10/site-packages (from xarray->prithvi_precip==0.0.1) (2.3.1)\n",
      "Requirement already satisfied: pytz>=2020.1 in /home/simon/miniconda3/lib/python3.10/site-packages (from pandas>=2.1->xarray->prithvi_precip==0.0.1) (2023.3.post1)\n",
      "Requirement already satisfied: tzdata>=2022.7 in /home/simon/miniconda3/lib/python3.10/site-packages (from pandas>=2.1->xarray->prithvi_precip==0.0.1) (2023.3)\n",
      "Requirement already satisfied: certifi in /home/simon/miniconda3/lib/python3.10/site-packages (from pyproj>=3.1.0->cartopy->prithvi_precip==0.0.1) (2025.8.3)\n",
      "Requirement already satisfied: six>=1.5 in /home/simon/miniconda3/lib/python3.10/site-packages (from python-dateutil>=2.7->matplotlib->prithvi_precip==0.0.1) (1.16.0)\n",
      "Requirement already satisfied: MarkupSafe>=2.0 in /home/simon/miniconda3/lib/python3.10/site-packages (from jinja2->torch>=2.2->prithvi_precip==0.0.1) (2.1.3)\n",
      "Requirement already satisfied: torchmetrics<3.0,>=0.7.0 in /home/simon/miniconda3/lib/python3.10/site-packages (from lightning->pytorch_retrieve>=0.1.4->prithvi_precip==0.0.1) (1.3.1)\n",
      "Requirement already satisfied: tqdm<6.0,>=4.57.0 in /home/simon/miniconda3/lib/python3.10/site-packages (from lightning->pytorch_retrieve>=0.1.4->prithvi_precip==0.0.1) (4.67.1)\n",
      "Requirement already satisfied: pytorch-lightning in /home/simon/miniconda3/lib/python3.10/site-packages (from lightning->pytorch_retrieve>=0.1.4->prithvi_precip==0.0.1) (2.2.0.post0)\n",
      "Collecting packaging>=20\n",
      "  Downloading packaging-24.2-py3-none-any.whl (65 kB)\n",
      "\u001b[2K     \u001b[38;2;114;156;31m━━━━━━━━━━━━━━━━━━━━━━━━━━━━━━━━━━━━━━━━\u001b[0m \u001b[32m65.5/65.5 kB\u001b[0m \u001b[31m2.4 MB/s\u001b[0m eta \u001b[36m0:00:00\u001b[0m\n",
      "\u001b[?25hRequirement already satisfied: lightning-utilities<2.0,>=0.10.0 in /home/simon/miniconda3/lib/python3.10/site-packages (from lightning->pytorch_retrieve>=0.1.4->prithvi_precip==0.0.1) (0.10.1)\n",
      "Requirement already satisfied: markdown-it-py>=2.2.0 in /home/simon/miniconda3/lib/python3.10/site-packages (from rich->pytorch_retrieve>=0.1.4->prithvi_precip==0.0.1) (3.0.0)\n",
      "Requirement already satisfied: pygments<3.0.0,>=2.13.0 in /home/simon/miniconda3/lib/python3.10/site-packages (from rich->pytorch_retrieve>=0.1.4->prithvi_precip==0.0.1) (2.18.0)\n",
      "Requirement already satisfied: mpmath<1.4,>=1.1.0 in /home/simon/miniconda3/lib/python3.10/site-packages (from sympy->torch>=2.2->prithvi_precip==0.0.1) (1.3.0)\n",
      "Collecting grpcio>=1.48.2\n",
      "  Downloading grpcio-1.74.0-cp310-cp310-manylinux_2_17_x86_64.manylinux2014_x86_64.whl (6.2 MB)\n",
      "\u001b[2K     \u001b[38;2;114;156;31m━━━━━━━━━━━━━━━━━━━━━━━━━━━━━━━━━━━━━━━━\u001b[0m \u001b[32m6.2/6.2 MB\u001b[0m \u001b[31m2.5 MB/s\u001b[0m eta \u001b[36m0:00:00\u001b[0mm eta \u001b[36m0:00:01\u001b[0m[36m0:00:01\u001b[0m\n",
      "\u001b[?25hCollecting absl-py>=0.4\n",
      "  Downloading absl_py-2.3.1-py3-none-any.whl (135 kB)\n",
      "\u001b[2K     \u001b[38;2;114;156;31m━━━━━━━━━━━━━━━━━━━━━━━━━━━━━━━━━━━━━━━\u001b[0m \u001b[32m135.8/135.8 kB\u001b[0m \u001b[31m2.0 MB/s\u001b[0m eta \u001b[36m0:00:00\u001b[0m MB/s\u001b[0m eta \u001b[36m0:00:01\u001b[0m\n",
      "\u001b[?25hRequirement already satisfied: markdown>=2.6.8 in /home/simon/miniconda3/lib/python3.10/site-packages (from tensorboard->pytorch_retrieve>=0.1.4->prithvi_precip==0.0.1) (3.7)\n",
      "Collecting protobuf!=4.24.0,>=3.19.6\n",
      "  Downloading protobuf-6.32.0-cp39-abi3-manylinux2014_x86_64.whl (322 kB)\n",
      "\u001b[2K     \u001b[38;2;114;156;31m━━━━━━━━━━━━━━━━━━━━━━━━━━━━━━━━━━━━━━━\u001b[0m \u001b[32m322.0/322.0 kB\u001b[0m \u001b[31m2.8 MB/s\u001b[0m eta \u001b[36m0:00:00\u001b[0m[31m2.8 MB/s\u001b[0m eta \u001b[36m0:00:01\u001b[0m\n",
      "\u001b[?25hCollecting tensorboard-data-server<0.8.0,>=0.7.0\n",
      "  Downloading tensorboard_data_server-0.7.2-py3-none-manylinux_2_31_x86_64.whl (6.6 MB)\n",
      "\u001b[2K     \u001b[38;2;114;156;31m━━━━━━━━━━━━━━━━━━━━━━━━━━━━━━━━━━━━━━━━\u001b[0m \u001b[32m6.6/6.6 MB\u001b[0m \u001b[31m2.9 MB/s\u001b[0m eta \u001b[36m0:00:00\u001b[0mm eta \u001b[36m0:00:01\u001b[0m[36m0:00:01\u001b[0m\n",
      "\u001b[?25hRequirement already satisfied: setuptools>=41.0.0 in /home/simon/miniconda3/lib/python3.10/site-packages (from tensorboard->pytorch_retrieve>=0.1.4->prithvi_precip==0.0.1) (65.6.3)\n",
      "Collecting werkzeug>=1.0.1\n",
      "  Downloading werkzeug-3.1.3-py3-none-any.whl (224 kB)\n",
      "\u001b[2K     \u001b[38;2;114;156;31m━━━━━━━━━━━━━━━━━━━━━━━━━━━━━━━━━━━━━━━\u001b[0m \u001b[32m224.5/224.5 kB\u001b[0m \u001b[31m3.4 MB/s\u001b[0m eta \u001b[36m0:00:00\u001b[0m[31m3.6 MB/s\u001b[0m eta \u001b[36m0:00:01\u001b[0m\n",
      "\u001b[?25hCollecting torchvision\n",
      "  Downloading torchvision-0.23.0-cp310-cp310-manylinux_2_28_x86_64.whl (8.6 MB)\n",
      "\u001b[2K     \u001b[38;2;114;156;31m━━━━━━━━━━━━━━━━━━━━━━━━━━━━━━━━━━━━━━━━\u001b[0m \u001b[32m8.6/8.6 MB\u001b[0m \u001b[31m2.2 MB/s\u001b[0m eta \u001b[36m0:00:00\u001b[0mm eta \u001b[36m0:00:01\u001b[0m[36m0:00:01\u001b[0m\n",
      "\u001b[?25hCollecting torch>=2.2\n",
      "  Downloading torch-2.8.0-cp310-cp310-manylinux_2_28_x86_64.whl (888.0 MB)\n",
      "\u001b[2K     \u001b[38;2;114;156;31m━━━━━━━━━━━━━━━━━━━━━━━━━━━━━━━━━━━━━━━\u001b[0m \u001b[32m888.0/888.0 MB\u001b[0m \u001b[31m1.7 MB/s\u001b[0m eta \u001b[36m0:00:00\u001b[0mm eta \u001b[36m0:00:01\u001b[0m[36m0:00:10\u001b[0m\n",
      "\u001b[?25hINFO: pip is looking at multiple versions of torchvision to determine which version is compatible with other requirements. This could take a while.\n",
      "Collecting torchvision\n",
      "  Downloading torchvision-0.22.1-cp310-cp310-manylinux_2_28_x86_64.whl (7.5 MB)\n",
      "\u001b[2K     \u001b[38;2;114;156;31m━━━━━━━━━━━━━━━━━━━━━━━━━━━━━━━━━━━━━━━━\u001b[0m \u001b[32m7.5/7.5 MB\u001b[0m \u001b[31m2.4 MB/s\u001b[0m eta \u001b[36m0:00:00\u001b[0mm eta \u001b[36m0:00:01\u001b[0m[36m0:00:01\u001b[0m\n",
      "\u001b[?25hCollecting torch>=2.2\n",
      "  Downloading torch-2.7.1-cp310-cp310-manylinux_2_28_x86_64.whl (821.2 MB)\n",
      "\u001b[2K     \u001b[38;2;114;156;31m━━━━━━━━━━━━━━━━━━━━━━━━━━━━━━━━━━━━━━━\u001b[0m \u001b[32m821.2/821.2 MB\u001b[0m \u001b[31m1.7 MB/s\u001b[0m eta \u001b[36m0:00:00\u001b[0mm eta \u001b[36m0:00:01\u001b[0m[36m0:00:10\u001b[0m\n",
      "\u001b[?25hCollecting torchvision\n",
      "  Downloading torchvision-0.22.0-cp310-cp310-manylinux_2_28_x86_64.whl (7.4 MB)\n",
      "\u001b[2K     \u001b[38;2;114;156;31m━━━━━━━━━━━━━━━━━━━━━━━━━━━━━━━━━━━━━━━━\u001b[0m \u001b[32m7.4/7.4 MB\u001b[0m \u001b[31m2.1 MB/s\u001b[0m eta \u001b[36m0:00:00\u001b[0mm eta \u001b[36m0:00:01\u001b[0m[36m0:00:01\u001b[0m\n",
      "\u001b[?25hCollecting torch>=2.2\n",
      "  Downloading torch-2.7.0-cp310-cp310-manylinux_2_28_x86_64.whl (865.2 MB)\n",
      "\u001b[2K     \u001b[38;2;114;156;31m━━━━━━━━━━━━━━━━━━━━━━━━━━━━━━━━━━━━━━━\u001b[0m \u001b[32m865.2/865.2 MB\u001b[0m \u001b[31m1.6 MB/s\u001b[0m eta \u001b[36m0:00:00\u001b[0mm eta \u001b[36m0:00:01\u001b[0m[36m0:00:12\u001b[0m\n",
      "\u001b[?25hCollecting torchvision\n",
      "  Downloading torchvision-0.21.0-cp310-cp310-manylinux1_x86_64.whl (7.2 MB)\n",
      "\u001b[2K     \u001b[38;2;114;156;31m━━━━━━━━━━━━━━━━━━━━━━━━━━━━━━━━━━━━━━━━\u001b[0m \u001b[32m7.2/7.2 MB\u001b[0m \u001b[31m2.0 MB/s\u001b[0m eta \u001b[36m0:00:00\u001b[0mm eta \u001b[36m0:00:01\u001b[0m[36m0:00:01\u001b[0m\n",
      "\u001b[?25hCollecting torch>=2.2\n",
      "  Downloading torch-2.6.0-cp310-cp310-manylinux1_x86_64.whl (766.7 MB)\n",
      "\u001b[2K     \u001b[38;2;114;156;31m━━━━━━━━━━━━━━━━━━━━━━━━━━━━━━━━━━━━━━━\u001b[0m \u001b[32m766.7/766.7 MB\u001b[0m \u001b[31m1.8 MB/s\u001b[0m eta \u001b[36m0:00:00\u001b[0mm eta \u001b[36m0:00:01\u001b[0m[36m0:00:09\u001b[0m\n",
      "\u001b[?25hCollecting torchvision\n",
      "  Downloading torchvision-0.20.1-cp310-cp310-manylinux1_x86_64.whl (7.2 MB)\n",
      "\u001b[2K     \u001b[38;2;114;156;31m━━━━━━━━━━━━━━━━━━━━━━━━━━━━━━━━━━━━━━━━\u001b[0m \u001b[32m7.2/7.2 MB\u001b[0m \u001b[31m2.2 MB/s\u001b[0m eta \u001b[36m0:00:00\u001b[0mm eta \u001b[36m0:00:01\u001b[0m[36m0:00:01\u001b[0m\n",
      "\u001b[?25hCollecting torch>=2.2\n",
      "  Downloading torch-2.5.1-cp310-cp310-manylinux1_x86_64.whl (906.4 MB)\n",
      "\u001b[2K     \u001b[38;2;249;38;114m━━━━━━━━━━━━━━━━━━━━\u001b[0m\u001b[38;5;237m╺\u001b[0m\u001b[38;5;237m━━━━━━━━━━━━━━━━━━\u001b[0m \u001b[32m467.2/906.4 MB\u001b[0m \u001b[31m2.4 MB/s\u001b[0m eta \u001b[36m0:03:05\u001b[0m^C7\u001b[0m\n",
      "\u001b[2K     \u001b[38;2;249;38;114m━━━━━━━━━━━━━━━━━━━━\u001b[0m\u001b[38;5;237m╺\u001b[0m\u001b[38;5;237m━━━━━━━━━━━━━━━━━━\u001b[0m \u001b[32m467.3/906.4 MB\u001b[0m \u001b[31m2.4 MB/s\u001b[0m eta \u001b[36m0:03:05\u001b[0m\n",
      "\u001b[?25h\u001b[31mERROR: Operation cancelled by user\u001b[0m\u001b[31m\n",
      "\u001b[0mNote: you may need to restart the kernel to use updated packages.\n"
     ]
    }
   ],
   "source": [
    "pip install  git+https://github.com/simonpf/prithvi_precip"
   ]
  },
  {
   "cell_type": "code",
   "execution_count": 8,
   "id": "7d380eba-8d2d-43ef-a6d0-a8f30f1886f2",
   "metadata": {
    "scrolled": true
   },
   "outputs": [
    {
     "name": "stdout",
     "output_type": "stream",
     "text": [
      "Collecting git+https://github.com/simonpf/prithvi_precip\n",
      "  Cloning https://github.com/simonpf/prithvi_precip to /tmp/pip-req-build-dnw6m428\n",
      "  Resolved https://github.com/simonpf/prithvi_precip to commit 9695b2afb4ba2c598859860ff091c4ca80db6c0c\n",
      "  Installing build dependencies: started\n",
      "  Installing build dependencies: finished with status 'done'\n",
      "  Getting requirements to build wheel: started\n",
      "  Getting requirements to build wheel: finished with status 'done'\n",
      "  Preparing metadata (pyproject.toml): started\n",
      "  Preparing metadata (pyproject.toml): finished with status 'done'\n",
      "Requirement already satisfied: cartopy in /home/simon/miniconda3/envs/prithvi_wxc/lib/python3.12/site-packages (from prithvi_precip==0.0.1) (0.25.0)\n",
      "Requirement already satisfied: click in /home/simon/miniconda3/envs/prithvi_wxc/lib/python3.12/site-packages (from prithvi_precip==0.0.1) (8.2.1)\n",
      "Requirement already satisfied: numpy in /home/simon/miniconda3/envs/prithvi_wxc/lib/python3.12/site-packages (from prithvi_precip==0.0.1) (2.3.2)\n",
      "Requirement already satisfied: xarray in /home/simon/miniconda3/envs/prithvi_wxc/lib/python3.12/site-packages (from prithvi_precip==0.0.1) (2025.8.0)\n",
      "Requirement already satisfied: matplotlib in /home/simon/miniconda3/envs/prithvi_wxc/lib/python3.12/site-packages (from prithvi_precip==0.0.1) (3.10.5)\n",
      "Requirement already satisfied: torch>=2.2 in /home/simon/miniconda3/envs/prithvi_wxc/lib/python3.12/site-packages (from prithvi_precip==0.0.1) (2.8.0)\n",
      "Requirement already satisfied: pytest in /home/simon/miniconda3/envs/prithvi_wxc/lib/python3.12/site-packages (from prithvi_precip==0.0.1) (8.4.1)\n",
      "Requirement already satisfied: pytorch_retrieve>=0.1.4 in /home/simon/miniconda3/envs/prithvi_wxc/lib/python3.12/site-packages (from prithvi_precip==0.0.1) (0.1.4)\n",
      "Requirement already satisfied: pyyaml in /home/simon/miniconda3/envs/prithvi_wxc/lib/python3.12/site-packages (from pytorch_retrieve>=0.1.4->prithvi_precip==0.0.1) (6.0.2)\n",
      "Requirement already satisfied: toml in /home/simon/miniconda3/envs/prithvi_wxc/lib/python3.12/site-packages (from pytorch_retrieve>=0.1.4->prithvi_precip==0.0.1) (0.10.2)\n",
      "Requirement already satisfied: lightning in /home/simon/miniconda3/envs/prithvi_wxc/lib/python3.12/site-packages (from pytorch_retrieve>=0.1.4->prithvi_precip==0.0.1) (2.5.3)\n",
      "Requirement already satisfied: scipy in /home/simon/miniconda3/envs/prithvi_wxc/lib/python3.12/site-packages (from pytorch_retrieve>=0.1.4->prithvi_precip==0.0.1) (1.16.1)\n",
      "Requirement already satisfied: rich in /home/simon/miniconda3/envs/prithvi_wxc/lib/python3.12/site-packages (from pytorch_retrieve>=0.1.4->prithvi_precip==0.0.1) (14.1.0)\n",
      "Requirement already satisfied: tensorboard in /home/simon/miniconda3/envs/prithvi_wxc/lib/python3.12/site-packages (from pytorch_retrieve>=0.1.4->prithvi_precip==0.0.1) (2.20.0)\n",
      "Requirement already satisfied: axial-attention in /home/simon/miniconda3/envs/prithvi_wxc/lib/python3.12/site-packages (from pytorch_retrieve>=0.1.4->prithvi_precip==0.0.1) (0.6.1)\n",
      "Requirement already satisfied: torchvision in /home/simon/miniconda3/envs/prithvi_wxc/lib/python3.12/site-packages (from pytorch_retrieve>=0.1.4->prithvi_precip==0.0.1) (0.23.0)\n",
      "Requirement already satisfied: filelock in /home/simon/miniconda3/envs/prithvi_wxc/lib/python3.12/site-packages (from torch>=2.2->prithvi_precip==0.0.1) (3.19.1)\n",
      "Requirement already satisfied: typing-extensions>=4.10.0 in /home/simon/miniconda3/envs/prithvi_wxc/lib/python3.12/site-packages (from torch>=2.2->prithvi_precip==0.0.1) (4.14.1)\n",
      "Requirement already satisfied: setuptools in /home/simon/miniconda3/envs/prithvi_wxc/lib/python3.12/site-packages (from torch>=2.2->prithvi_precip==0.0.1) (78.1.1)\n",
      "Requirement already satisfied: sympy>=1.13.3 in /home/simon/miniconda3/envs/prithvi_wxc/lib/python3.12/site-packages (from torch>=2.2->prithvi_precip==0.0.1) (1.14.0)\n",
      "Requirement already satisfied: networkx in /home/simon/miniconda3/envs/prithvi_wxc/lib/python3.12/site-packages (from torch>=2.2->prithvi_precip==0.0.1) (3.5)\n",
      "Requirement already satisfied: jinja2 in /home/simon/miniconda3/envs/prithvi_wxc/lib/python3.12/site-packages (from torch>=2.2->prithvi_precip==0.0.1) (3.1.6)\n",
      "Requirement already satisfied: fsspec in /home/simon/miniconda3/envs/prithvi_wxc/lib/python3.12/site-packages (from torch>=2.2->prithvi_precip==0.0.1) (2025.7.0)\n",
      "Requirement already satisfied: nvidia-cuda-nvrtc-cu12==12.8.93 in /home/simon/miniconda3/envs/prithvi_wxc/lib/python3.12/site-packages (from torch>=2.2->prithvi_precip==0.0.1) (12.8.93)\n",
      "Requirement already satisfied: nvidia-cuda-runtime-cu12==12.8.90 in /home/simon/miniconda3/envs/prithvi_wxc/lib/python3.12/site-packages (from torch>=2.2->prithvi_precip==0.0.1) (12.8.90)\n",
      "Requirement already satisfied: nvidia-cuda-cupti-cu12==12.8.90 in /home/simon/miniconda3/envs/prithvi_wxc/lib/python3.12/site-packages (from torch>=2.2->prithvi_precip==0.0.1) (12.8.90)\n",
      "Requirement already satisfied: nvidia-cudnn-cu12==9.10.2.21 in /home/simon/miniconda3/envs/prithvi_wxc/lib/python3.12/site-packages (from torch>=2.2->prithvi_precip==0.0.1) (9.10.2.21)\n",
      "Requirement already satisfied: nvidia-cublas-cu12==12.8.4.1 in /home/simon/miniconda3/envs/prithvi_wxc/lib/python3.12/site-packages (from torch>=2.2->prithvi_precip==0.0.1) (12.8.4.1)\n",
      "Requirement already satisfied: nvidia-cufft-cu12==11.3.3.83 in /home/simon/miniconda3/envs/prithvi_wxc/lib/python3.12/site-packages (from torch>=2.2->prithvi_precip==0.0.1) (11.3.3.83)\n",
      "Requirement already satisfied: nvidia-curand-cu12==10.3.9.90 in /home/simon/miniconda3/envs/prithvi_wxc/lib/python3.12/site-packages (from torch>=2.2->prithvi_precip==0.0.1) (10.3.9.90)\n",
      "Requirement already satisfied: nvidia-cusolver-cu12==11.7.3.90 in /home/simon/miniconda3/envs/prithvi_wxc/lib/python3.12/site-packages (from torch>=2.2->prithvi_precip==0.0.1) (11.7.3.90)\n",
      "Requirement already satisfied: nvidia-cusparse-cu12==12.5.8.93 in /home/simon/miniconda3/envs/prithvi_wxc/lib/python3.12/site-packages (from torch>=2.2->prithvi_precip==0.0.1) (12.5.8.93)\n",
      "Requirement already satisfied: nvidia-cusparselt-cu12==0.7.1 in /home/simon/miniconda3/envs/prithvi_wxc/lib/python3.12/site-packages (from torch>=2.2->prithvi_precip==0.0.1) (0.7.1)\n",
      "Requirement already satisfied: nvidia-nccl-cu12==2.27.3 in /home/simon/miniconda3/envs/prithvi_wxc/lib/python3.12/site-packages (from torch>=2.2->prithvi_precip==0.0.1) (2.27.3)\n",
      "Requirement already satisfied: nvidia-nvtx-cu12==12.8.90 in /home/simon/miniconda3/envs/prithvi_wxc/lib/python3.12/site-packages (from torch>=2.2->prithvi_precip==0.0.1) (12.8.90)\n",
      "Requirement already satisfied: nvidia-nvjitlink-cu12==12.8.93 in /home/simon/miniconda3/envs/prithvi_wxc/lib/python3.12/site-packages (from torch>=2.2->prithvi_precip==0.0.1) (12.8.93)\n",
      "Requirement already satisfied: nvidia-cufile-cu12==1.13.1.3 in /home/simon/miniconda3/envs/prithvi_wxc/lib/python3.12/site-packages (from torch>=2.2->prithvi_precip==0.0.1) (1.13.1.3)\n",
      "Requirement already satisfied: triton==3.4.0 in /home/simon/miniconda3/envs/prithvi_wxc/lib/python3.12/site-packages (from torch>=2.2->prithvi_precip==0.0.1) (3.4.0)\n",
      "Requirement already satisfied: mpmath<1.4,>=1.1.0 in /home/simon/miniconda3/envs/prithvi_wxc/lib/python3.12/site-packages (from sympy>=1.13.3->torch>=2.2->prithvi_precip==0.0.1) (1.3.0)\n",
      "Requirement already satisfied: shapely>=2.0 in /home/simon/miniconda3/envs/prithvi_wxc/lib/python3.12/site-packages (from cartopy->prithvi_precip==0.0.1) (2.1.1)\n",
      "Requirement already satisfied: packaging>=21 in /home/simon/miniconda3/envs/prithvi_wxc/lib/python3.12/site-packages (from cartopy->prithvi_precip==0.0.1) (25.0)\n",
      "Requirement already satisfied: pyshp>=2.3 in /home/simon/miniconda3/envs/prithvi_wxc/lib/python3.12/site-packages (from cartopy->prithvi_precip==0.0.1) (2.3.1)\n",
      "Requirement already satisfied: pyproj>=3.3.1 in /home/simon/miniconda3/envs/prithvi_wxc/lib/python3.12/site-packages (from cartopy->prithvi_precip==0.0.1) (3.7.2)\n",
      "Requirement already satisfied: contourpy>=1.0.1 in /home/simon/miniconda3/envs/prithvi_wxc/lib/python3.12/site-packages (from matplotlib->prithvi_precip==0.0.1) (1.3.3)\n",
      "Requirement already satisfied: cycler>=0.10 in /home/simon/miniconda3/envs/prithvi_wxc/lib/python3.12/site-packages (from matplotlib->prithvi_precip==0.0.1) (0.12.1)\n",
      "Requirement already satisfied: fonttools>=4.22.0 in /home/simon/miniconda3/envs/prithvi_wxc/lib/python3.12/site-packages (from matplotlib->prithvi_precip==0.0.1) (4.59.1)\n",
      "Requirement already satisfied: kiwisolver>=1.3.1 in /home/simon/miniconda3/envs/prithvi_wxc/lib/python3.12/site-packages (from matplotlib->prithvi_precip==0.0.1) (1.4.9)\n",
      "Requirement already satisfied: pillow>=8 in /home/simon/miniconda3/envs/prithvi_wxc/lib/python3.12/site-packages (from matplotlib->prithvi_precip==0.0.1) (11.3.0)\n",
      "Requirement already satisfied: pyparsing>=2.3.1 in /home/simon/miniconda3/envs/prithvi_wxc/lib/python3.12/site-packages (from matplotlib->prithvi_precip==0.0.1) (3.2.3)\n",
      "Requirement already satisfied: python-dateutil>=2.7 in /home/simon/miniconda3/envs/prithvi_wxc/lib/python3.12/site-packages (from matplotlib->prithvi_precip==0.0.1) (2.9.0.post0)\n",
      "Requirement already satisfied: certifi in /home/simon/miniconda3/envs/prithvi_wxc/lib/python3.12/site-packages (from pyproj>=3.3.1->cartopy->prithvi_precip==0.0.1) (2025.8.3)\n",
      "Requirement already satisfied: six>=1.5 in /home/simon/miniconda3/envs/prithvi_wxc/lib/python3.12/site-packages (from python-dateutil>=2.7->matplotlib->prithvi_precip==0.0.1) (1.17.0)\n",
      "Requirement already satisfied: MarkupSafe>=2.0 in /home/simon/miniconda3/envs/prithvi_wxc/lib/python3.12/site-packages (from jinja2->torch>=2.2->prithvi_precip==0.0.1) (3.0.2)\n",
      "Requirement already satisfied: lightning-utilities<2.0,>=0.10.0 in /home/simon/miniconda3/envs/prithvi_wxc/lib/python3.12/site-packages (from lightning->pytorch_retrieve>=0.1.4->prithvi_precip==0.0.1) (0.15.2)\n",
      "Requirement already satisfied: torchmetrics<3.0,>0.7.0 in /home/simon/miniconda3/envs/prithvi_wxc/lib/python3.12/site-packages (from lightning->pytorch_retrieve>=0.1.4->prithvi_precip==0.0.1) (1.8.1)\n",
      "Requirement already satisfied: tqdm<6.0,>=4.57.0 in /home/simon/miniconda3/envs/prithvi_wxc/lib/python3.12/site-packages (from lightning->pytorch_retrieve>=0.1.4->prithvi_precip==0.0.1) (4.67.1)\n",
      "Requirement already satisfied: pytorch-lightning in /home/simon/miniconda3/envs/prithvi_wxc/lib/python3.12/site-packages (from lightning->pytorch_retrieve>=0.1.4->prithvi_precip==0.0.1) (2.5.3)\n",
      "Requirement already satisfied: aiohttp!=4.0.0a0,!=4.0.0a1 in /home/simon/miniconda3/envs/prithvi_wxc/lib/python3.12/site-packages (from fsspec[http]<2027.0,>=2022.5.0->lightning->pytorch_retrieve>=0.1.4->prithvi_precip==0.0.1) (3.12.15)\n",
      "Requirement already satisfied: aiohappyeyeballs>=2.5.0 in /home/simon/miniconda3/envs/prithvi_wxc/lib/python3.12/site-packages (from aiohttp!=4.0.0a0,!=4.0.0a1->fsspec[http]<2027.0,>=2022.5.0->lightning->pytorch_retrieve>=0.1.4->prithvi_precip==0.0.1) (2.6.1)\n",
      "Requirement already satisfied: aiosignal>=1.4.0 in /home/simon/miniconda3/envs/prithvi_wxc/lib/python3.12/site-packages (from aiohttp!=4.0.0a0,!=4.0.0a1->fsspec[http]<2027.0,>=2022.5.0->lightning->pytorch_retrieve>=0.1.4->prithvi_precip==0.0.1) (1.4.0)\n",
      "Requirement already satisfied: attrs>=17.3.0 in /home/simon/miniconda3/envs/prithvi_wxc/lib/python3.12/site-packages (from aiohttp!=4.0.0a0,!=4.0.0a1->fsspec[http]<2027.0,>=2022.5.0->lightning->pytorch_retrieve>=0.1.4->prithvi_precip==0.0.1) (25.3.0)\n",
      "Requirement already satisfied: frozenlist>=1.1.1 in /home/simon/miniconda3/envs/prithvi_wxc/lib/python3.12/site-packages (from aiohttp!=4.0.0a0,!=4.0.0a1->fsspec[http]<2027.0,>=2022.5.0->lightning->pytorch_retrieve>=0.1.4->prithvi_precip==0.0.1) (1.7.0)\n",
      "Requirement already satisfied: multidict<7.0,>=4.5 in /home/simon/miniconda3/envs/prithvi_wxc/lib/python3.12/site-packages (from aiohttp!=4.0.0a0,!=4.0.0a1->fsspec[http]<2027.0,>=2022.5.0->lightning->pytorch_retrieve>=0.1.4->prithvi_precip==0.0.1) (6.6.4)\n",
      "Requirement already satisfied: propcache>=0.2.0 in /home/simon/miniconda3/envs/prithvi_wxc/lib/python3.12/site-packages (from aiohttp!=4.0.0a0,!=4.0.0a1->fsspec[http]<2027.0,>=2022.5.0->lightning->pytorch_retrieve>=0.1.4->prithvi_precip==0.0.1) (0.3.2)\n",
      "Requirement already satisfied: yarl<2.0,>=1.17.0 in /home/simon/miniconda3/envs/prithvi_wxc/lib/python3.12/site-packages (from aiohttp!=4.0.0a0,!=4.0.0a1->fsspec[http]<2027.0,>=2022.5.0->lightning->pytorch_retrieve>=0.1.4->prithvi_precip==0.0.1) (1.20.1)\n",
      "Requirement already satisfied: idna>=2.0 in /home/simon/miniconda3/envs/prithvi_wxc/lib/python3.12/site-packages (from yarl<2.0,>=1.17.0->aiohttp!=4.0.0a0,!=4.0.0a1->fsspec[http]<2027.0,>=2022.5.0->lightning->pytorch_retrieve>=0.1.4->prithvi_precip==0.0.1) (3.10)\n",
      "Requirement already satisfied: iniconfig>=1 in /home/simon/miniconda3/envs/prithvi_wxc/lib/python3.12/site-packages (from pytest->prithvi_precip==0.0.1) (2.1.0)\n",
      "Requirement already satisfied: pluggy<2,>=1.5 in /home/simon/miniconda3/envs/prithvi_wxc/lib/python3.12/site-packages (from pytest->prithvi_precip==0.0.1) (1.6.0)\n",
      "Requirement already satisfied: pygments>=2.7.2 in /home/simon/miniconda3/envs/prithvi_wxc/lib/python3.12/site-packages (from pytest->prithvi_precip==0.0.1) (2.19.2)\n",
      "Requirement already satisfied: markdown-it-py>=2.2.0 in /home/simon/miniconda3/envs/prithvi_wxc/lib/python3.12/site-packages (from rich->pytorch_retrieve>=0.1.4->prithvi_precip==0.0.1) (4.0.0)\n",
      "Requirement already satisfied: mdurl~=0.1 in /home/simon/miniconda3/envs/prithvi_wxc/lib/python3.12/site-packages (from markdown-it-py>=2.2.0->rich->pytorch_retrieve>=0.1.4->prithvi_precip==0.0.1) (0.1.2)\n",
      "Requirement already satisfied: absl-py>=0.4 in /home/simon/miniconda3/envs/prithvi_wxc/lib/python3.12/site-packages (from tensorboard->pytorch_retrieve>=0.1.4->prithvi_precip==0.0.1) (2.3.1)\n",
      "Requirement already satisfied: grpcio>=1.48.2 in /home/simon/miniconda3/envs/prithvi_wxc/lib/python3.12/site-packages (from tensorboard->pytorch_retrieve>=0.1.4->prithvi_precip==0.0.1) (1.74.0)\n",
      "Requirement already satisfied: markdown>=2.6.8 in /home/simon/miniconda3/envs/prithvi_wxc/lib/python3.12/site-packages (from tensorboard->pytorch_retrieve>=0.1.4->prithvi_precip==0.0.1) (3.8.2)\n",
      "Requirement already satisfied: protobuf!=4.24.0,>=3.19.6 in /home/simon/miniconda3/envs/prithvi_wxc/lib/python3.12/site-packages (from tensorboard->pytorch_retrieve>=0.1.4->prithvi_precip==0.0.1) (6.32.0)\n",
      "Requirement already satisfied: tensorboard-data-server<0.8.0,>=0.7.0 in /home/simon/miniconda3/envs/prithvi_wxc/lib/python3.12/site-packages (from tensorboard->pytorch_retrieve>=0.1.4->prithvi_precip==0.0.1) (0.7.2)\n",
      "Requirement already satisfied: werkzeug>=1.0.1 in /home/simon/miniconda3/envs/prithvi_wxc/lib/python3.12/site-packages (from tensorboard->pytorch_retrieve>=0.1.4->prithvi_precip==0.0.1) (3.1.3)\n",
      "Requirement already satisfied: pandas>=2.2 in /home/simon/miniconda3/envs/prithvi_wxc/lib/python3.12/site-packages (from xarray->prithvi_precip==0.0.1) (2.3.1)\n",
      "Requirement already satisfied: pytz>=2020.1 in /home/simon/miniconda3/envs/prithvi_wxc/lib/python3.12/site-packages (from pandas>=2.2->xarray->prithvi_precip==0.0.1) (2025.2)\n",
      "Requirement already satisfied: tzdata>=2022.7 in /home/simon/miniconda3/envs/prithvi_wxc/lib/python3.12/site-packages (from pandas>=2.2->xarray->prithvi_precip==0.0.1) (2025.2)\n",
      "\n",
      "  Running command git clone --filter=blob:none --quiet https://github.com/simonpf/prithvi_precip /tmp/pip-req-build-dnw6m428\n",
      "\n"
     ]
    }
   ],
   "source": [
    "!conda run -n prithvi_wxc pip install git+https://github.com/simonpf/prithvi_precip"
   ]
  },
  {
   "cell_type": "markdown",
   "id": "fe63368d-34df-472b-85ea-dace5a78a661",
   "metadata": {},
   "source": [
    "## Example data\n",
    "\n",
    "The trained Prithvi Precip model is available on HuggingFace. The repository contains the model itself as well as input data from August 26 - 31, 2020. The function below download the model as well as the input data."
   ]
  },
  {
   "cell_type": "code",
   "execution_count": 9,
   "id": "afac9010-8f13-4a5c-9c75-7a04520606d3",
   "metadata": {
    "scrolled": true
   },
   "outputs": [
    {
     "data": {
      "application/vnd.jupyter.widget-view+json": {
       "model_id": "f5ce5b6e5c8e4ac595dcb308699c6ce1",
       "version_major": 2,
       "version_minor": 0
      },
      "text/plain": [
       "Fetching 412 files:   0%|          | 0/412 [00:00<?, ?it/s]"
      ]
     },
     "metadata": {},
     "output_type": "display_data"
    }
   ],
   "source": [
    "from huggingface_hub import snapshot_download\n",
    "\n",
    "\n",
    "local_dir = snapshot_download(\n",
    "    repo_id=\"simonpf/prithvi_precip\",\n",
    "    local_dir=\".\"\n",
    ")"
   ]
  },
  {
   "cell_type": "markdown",
   "id": "5602b2ab-7418-420f-9576-9648ae48784c",
   "metadata": {},
   "source": [
    "The input data is downloaded to the ``data`` dir. The directory contains the static data that the Prithvi-WxC model requires such as the climatology, scaling factors, static input data, as well as the dynamic input data and reference precipitation data."
   ]
  },
  {
   "cell_type": "markdown",
   "id": "970b1584-7496-463b-a132-1f0a0379c4ba",
   "metadata": {},
   "source": [
    "## Loading the model\n",
    "\n",
    "The Prithvi Precip is a slightly modified version of the Prithvi-WxC model. It adds two components to the model:\n",
    "\n",
    "- An observation encoder\n",
    "- A MLP head that predicts precipitation from the original model output.\n",
    "\n",
    "The code for the model itself is part of the [pytorch_retrieve](https://github.com/simonpf/pytorch_retrieve) package. This package was originally developed to simplify building precipitation retrievals (hence the name)  but it now also handles forecasts. The implementation can be found [here](https://github.com/simonpf/pytorch_retrieve/blob/8910dce482cfe4e7259415e727e9323afbfe8a33/pytorch_retrieve/models/prithvi_wxc.py#L374). \n",
    "\n",
    "I provide this here mostly as a future reference in case this may be useful if you aim to develop your own models built on the Prithvi-WxC FM. It is not critical for understanding the remainder of this notebook.\n"
   ]
  },
  {
   "cell_type": "code",
   "execution_count": null,
   "id": "68fd9b26-dc48-48da-b810-e022a9ae4f3f",
   "metadata": {},
   "outputs": [],
   "source": [
    "%env PRITHVI_DATA_PATH=data/scaling_factors"
   ]
  },
  {
   "cell_type": "code",
   "execution_count": null,
   "id": "f1c23e3b-45c1-49d7-87c3-f6b58c31cc1e",
   "metadata": {},
   "outputs": [],
   "source": [
    "from pytorch_retrieve import load_model\n",
    "model = load_model(\"prithvi_precip_obs.pt\").eval()"
   ]
  },
  {
   "cell_type": "markdown",
   "id": "b04ba602-b671-43d7-9769-0a7b4c97bea8",
   "metadata": {},
   "source": [
    "## Input data\n",
    "\n",
    "The input data expected by the Prithvi Precip is very similar to that of the Prithvi-WxC model. Just as the Prithvi-WxC model, the model expects a dictionary containing the dynamic input (``x``), static input (``static``), the climatology (``climatology``), as well as the lead time in hours (``lead_time``) and the time difference between the two input steps (``input_time``).\n",
    "\n",
    "Additionally, the model expects two tensors ``obs`` and ``obs_meta`` containing the satellite observations and their meta data. The meta data is information describing the observations. It consists of:\n",
    "\n",
    " - The log of the observations frequency\n",
    " - The channel offsets for passive microwave channels with symmetric offsets (0 for all others)\n",
    " - The relative time within the input data window.\n",
    " - One-hot encoded polarization: \"H\", \"V\", \"QH\", \"QV\", or none."
   ]
  },
  {
   "cell_type": "markdown",
   "id": "36b6dd75-90c2-484f-b6fa-46fec1a24a73",
   "metadata": {},
   "source": [
    "### Loading data\n",
    "\n",
    "The loading is again performed using a custom dataset class."
   ]
  },
  {
   "cell_type": "code",
   "execution_count": 14,
   "id": "cb9a23e2-713a-49d5-9ae0-7177cb46a52b",
   "metadata": {},
   "outputs": [
    {
     "ename": "ModuleNotFoundError",
     "evalue": "No module named 'prithvi_precip'",
     "output_type": "error",
     "traceback": [
      "\u001b[0;31m---------------------------------------------------------------------------\u001b[0m",
      "\u001b[0;31mModuleNotFoundError\u001b[0m                       Traceback (most recent call last)",
      "Cell \u001b[0;32mIn[14], line 1\u001b[0m\n\u001b[0;32m----> 1\u001b[0m \u001b[38;5;28;01mfrom\u001b[39;00m \u001b[38;5;21;01mprithvi_precip\u001b[39;00m\u001b[38;5;21;01m.\u001b[39;00m\u001b[38;5;21;01mdatasets\u001b[39;00m \u001b[38;5;28;01mimport\u001b[39;00m DirectPrecipForecastWithObsDataset\n\u001b[1;32m      3\u001b[0m dataset \u001b[38;5;241m=\u001b[39m DirectPrecipForecastWithObsDataset(\n\u001b[1;32m      4\u001b[0m     \u001b[38;5;124m\"\u001b[39m\u001b[38;5;124m/home/simon/src/prithvi_precip_hf/data/input_data/\u001b[39m\u001b[38;5;124m\"\u001b[39m\n\u001b[1;32m      5\u001b[0m )\n\u001b[1;32m      6\u001b[0m initialization_time \u001b[38;5;241m=\u001b[39m np\u001b[38;5;241m.\u001b[39mdatetime64(\u001b[38;5;124m\"\u001b[39m\u001b[38;5;124m2020-08-26T12:00:00\u001b[39m\u001b[38;5;124m\"\u001b[39m)\n",
      "\u001b[0;31mModuleNotFoundError\u001b[0m: No module named 'prithvi_precip'"
     ]
    }
   ],
   "source": [
    "from prithvi_precip.datasets import DirectPrecipForecastWithObsDataset\n",
    "\n",
    "dataset = DirectPrecipForecastWithObsDataset(\n",
    "    \"/home/simon/src/prithvi_precip_hf/data/input_data/\"\n",
    ")\n",
    "initialization_time = np.datetime64(\"2020-08-26T12:00:00\")\n",
    "input_data = dataset.get_direct_forecast_input(initialization_time, 1)"
   ]
  },
  {
   "cell_type": "code",
   "execution_count": null,
   "id": "4e1dbe17-82db-4364-9489-a09863ad4c12",
   "metadata": {},
   "outputs": [],
   "source": [
    "import cartopy.crs as ccrs\n",
    "from matplotlib.colors import LogNorm\n",
    "from matplotlib.gridspec import GridSpec\n",
    "\n",
    "gs = GridSpec(1, 3, width_ratios=[1.0, 1.0, 0.05])\n",
    "fig = plt.figure(figsize=(13, 4))\n",
    "\n",
    "ax = fig.add_suplot(gs[0, 0])"
   ]
  },
  {
   "cell_type": "markdown",
   "id": "63f3ec0d-88e3-439f-8a16-b739dac66778",
   "metadata": {},
   "source": [
    "## Forecast from MERRA data\n",
    "\n",
    "As a baseline, we will run a precipitation forecast using only the MERRA-2 data as input. An important difference to the original Pritvhvi-WxC model is that the Prithvi Precip model does not require unrolling because it has been trained to predict lead time from 3 to 96 hours.\n",
    "\n",
    "> **Note**: We set ``model_only=True``. This sets all observations in the input to 0 forcing the model to ignore them."
   ]
  },
  {
   "cell_type": "code",
   "execution_count": null,
   "id": "4ff1bb3b-3fe2-4a06-8183-46c1dcc56505",
   "metadata": {
    "scrolled": true
   },
   "outputs": [],
   "source": [
    "import torch\n",
    "from tqdm import tqdm\n",
    "\n",
    "device = \"cuda:1\"\n",
    "dtype = torch.float32\n",
    "forecast_steps = 16\n",
    "\n",
    "model = model.to(device=device, dtype=dtype)\n",
    "\n",
    "batch_iterator = dataset.get_batched_direct_forecast_input(initialization_time, n_steps=forecast_steps, batch_size=1)\n",
    "results = []\n",
    "\n",
    "step = 1\n",
    "for inpt in tqdm(batch_iterator, total=forecast_steps, desc=\"Running forecast\"):\n",
    "    lats = np.rad2deg(inpt[\"static\"][0, 0].float().cpu().numpy())[:, 0]\n",
    "    lons = np.rad2deg(inpt[\"static\"][0, 1].float().cpu().numpy())[0]\n",
    "    valid_time = initialization_time + np.timedelta64(3, \"h\") * step\n",
    "    step += 1\n",
    "\n",
    "    # Move input to GPU and case to target dtype.\n",
    "    inpt = {\n",
    "        name: tnsr.to(device=device, dtype=dtype) for name,tnsr in inpt.items()\n",
    "    }\n",
    "\n",
    "    # Run inference\n",
    "    with torch.no_grad():\n",
    "        pred = model(inpt, model_only=True)[\"surface_precip\"]\n",
    "        expected_value = pred.expected_value().cpu().float().numpy()[0, 0] # Drop batch and feature dimensions.\n",
    "        p_1 = pred.probability_greater_than(1.0).cpu().float().numpy()[0, 0]\n",
    "        p_10 = pred.probability_greater_than(10.0).cpu().float().numpy()[0, 0]\n",
    "\n",
    "    result = xr.Dataset({\n",
    "        \"latitude\": ((\"latitude\",), lats),\n",
    "        \"longitude\": ((\"longitude\",), lons),\n",
    "        \"valid_time\": valid_time,\n",
    "        \"surface_precip\": ((\"latitude\", \"longitude\"), expected_value),\n",
    "        \"p_1mm\": ((\"latitude\", \"longitude\"), p_1,),\n",
    "        \"p_10mm\": ((\"latitude\", \"longitude\"), p_10)\n",
    "    })\n",
    "    results.append(result)\n",
    "    \n",
    "results = xr.concat(results, dim=\"valid_time\")\n",
    "results[\"initialization_time\"] = initialization_time\n",
    "        "
   ]
  },
  {
   "cell_type": "markdown",
   "id": "4e316215-5d73-4f8b-aa40-de3af33c1c47",
   "metadata": {},
   "source": [
    "## Reference data\n",
    "\n",
    "In order to have something to compare the forecasts to, we load reference precipitation data from MERRA-2 and IMERG. MERRA-2 is the dataset that the original Prithvi-WxC model was trained on, however, the model did not use precipitation as a input or output variables. IMERG, on the other hand, is the satellite precipitation product that the Prithvi Precip model was trained on."
   ]
  },
  {
   "cell_type": "code",
   "execution_count": null,
   "id": "c48a6d1c-8b22-4344-a2f1-fe8c03b24e70",
   "metadata": {},
   "outputs": [],
   "source": [
    "results_imerg = []\n",
    "results_merra = []\n",
    "\n",
    "reference_data_path = Path(\"data/input_data/\")\n",
    "\n",
    "\n",
    "for time in results.valid_time.data:\n",
    "    time = time.astype(\"datetime64[s]\").item()\n",
    "\n",
    "    imerg_file = time.strftime(\"imerg_3/%Y/%m/imerg_%Y%m%d%H%M.nc\")\n",
    "    imerg_data = xr.load_dataset(reference_data_path / imerg_file)\n",
    "    imerg_data[\"p_10mm\"] = 5 < imerg_data.surface_precip\n",
    "    results_imerg.append(imerg_data)\n",
    "    \n",
    "    merra_file = time.strftime(\"merra2_precip_3/%Y/%m/merra2_precip_%Y%m%d%H%M.nc\")\n",
    "    merra_data = xr.load_dataset(reference_data_path / merra_file)[{\"lat\": slice(0, -1)}].rename(lat=\"latitude\", lon=\"longitude\")\n",
    "    merra_data[\"p_10mm\"] = 5 < imerg_data.surface_precip\n",
    "    results_merra.append(merra_data)\n",
    "\n",
    "results_imerg = xr.concat(results_imerg, dim=\"time\").rename(time=\"valid_time\")\n",
    "results_imerg[\"initialization_time\"] = initialization_time\n",
    "results_merra = xr.concat(results_merra, dim=\"time\").rename(time=\"valid_time\")\n",
    "results_merra[\"initialization_time\"] = initialization_time"
   ]
  },
  {
   "cell_type": "markdown",
   "id": "30694e0e-944c-4946-b5d0-4ed53b1b5e17",
   "metadata": {},
   "source": [
    "## Forecast results\n",
    "\n",
    "### Global"
   ]
  },
  {
   "cell_type": "code",
   "execution_count": null,
   "id": "b4b2eecc-0ae0-4b83-90a0-144cd0744867",
   "metadata": {},
   "outputs": [],
   "source": [
    "from prithvi_precip.plotting import set_style, animate_results\n",
    "from IPython.display import HTML\n",
    "set_style()\n",
    "\n",
    "ani = animate_results({\n",
    "    \"Prithvi Precip\": results,\n",
    "    \"MERRA-2\": results_merra,\n",
    "    \"IMERG\": results_imerg\n",
    "})\n",
    "HTML(ani.to_jshtml())"
   ]
  },
  {
   "cell_type": "markdown",
   "id": "766ec835-5a22-40c4-9604-a2043f7914fa",
   "metadata": {},
   "source": [
    "## Hurricane Laura\n",
    "\n",
    "The forecast period covers the landfall of Hurricane Laura in 2020 so we take a closer look at the Gulf of America. \n",
    "\n",
    "> **Note**: The variables ``lon_min, lon_max, lat_min, lat_max`` define the bounding box for the region of interes (ROI). Feel free to change it to explore other regions of the forecast."
   ]
  },
  {
   "cell_type": "code",
   "execution_count": null,
   "id": "b5acfe4e-16eb-4686-8277-ff8718382325",
   "metadata": {},
   "outputs": [],
   "source": [
    "lon_min = -105\n",
    "lon_max = -75\n",
    "lat_min = 15\n",
    "lat_max = 40\n",
    "\n",
    "lon_mask = (lon_min <= results.longitude) * (results.longitude <= lon_max)\n",
    "lat_mask = (lat_min <= results.latitude) * (results.latitude <= lat_max)\n",
    "\n",
    "results_roi = results[{\"latitude\": lat_mask, \"longitude\": lon_mask}]\n",
    "results_merra_roi = results_merra[{\"latitude\": lat_mask.data, \"longitude\": lon_mask.data}]\n",
    "results_imerg_roi = results_imerg[{\"latitude\": lat_mask.data, \"longitude\": lon_mask.data}]"
   ]
  },
  {
   "cell_type": "code",
   "execution_count": null,
   "id": "9a415e58-71a0-4340-9683-28721589a381",
   "metadata": {},
   "outputs": [],
   "source": [
    "from prithvi_precip.plotting import set_style, animate_results\n",
    "from IPython.display import HTML\n",
    "\n",
    "ani = animate_results(\n",
    "    {\n",
    "        \"IMERG\": results_imerg_roi,\n",
    "        \"MERRA-2\": results_merra_roi,\n",
    "        \"Prithvi Precip\": results_roi,\n",
    "    },\n",
    "    include_metrics=True\n",
    ")\n",
    "HTML(ani.to_jshtml())"
   ]
  },
  {
   "cell_type": "markdown",
   "id": "1a0599ee-35aa-43bc-b45d-9d6c55bcbe16",
   "metadata": {},
   "source": [
    "# Adding observations\n",
    "\n",
    "As mentioned above, the input for the Prithvi Precip model adds observations (``obs``) and observation meta data to the input (``obs_meta``). Due to the way the model handles observations, the observations are not loaded on the global grid but on the tiling that the Prithvi-WxC model expects. The shape of the tensors is $[n_b, n_t, n_{g,lat}, n_{g,lon}, n_{obs}, 1, n_{l,lat}, n_{l, lon}]$ where\n",
    "\n",
    "- $n_b$: Is the batch dimension\n",
    "- $n_t$: Is the number of input timesteps\n",
    "- $n_{g, lat}$: Is the number of tiles along the meridional direction.\n",
    "- $n_{g, lon}$: Is the number of tiles along the zonal direction.\n",
    "- $n_{obs}$: Is the number of loaded observation layers (32)\n",
    "- $n_{l, lat}$: Is the size of each tile along the meridional dimension.\n",
    "- $n_{l, lon}$: Is the size of each tile along the zonal dimension."
   ]
  },
  {
   "cell_type": "markdown",
   "id": "911e424f-5f23-4820-bcd5-5028fc8bfc34",
   "metadata": {},
   "source": [
    "## Plotting a single observation tile\n",
    "\n",
    "The observation data passed into the model is already normalized. The model uses a very simple normalization scheme. Observations are stored using reflectivities in percent and brightness temperatures. These are normalized by mapping values in the range [0, 300] to [-1, 1]."
   ]
  },
  {
   "cell_type": "code",
   "execution_count": null,
   "id": "0d0616d1-6c1c-4782-9460-9a277f668711",
   "metadata": {},
   "outputs": [],
   "source": []
  },
  {
   "cell_type": "code",
   "execution_count": null,
   "id": "b2af3e14-e07c-470d-a3ab-b57403e4508b",
   "metadata": {},
   "outputs": [],
   "source": [
    "input_data = dataset.get_direct_forecast_input(initialization_time, 1)"
   ]
  },
  {
   "cell_type": "code",
   "execution_count": null,
   "id": "72e369a9-7b4d-41c1-9f45-7f61c6807545",
   "metadata": {},
   "outputs": [],
   "source": [
    "plt.pcolormesh(input_data[\"obs\"][0, 0, 4, 0, 0, 0])\n",
    "plt.colorbar()"
   ]
  },
  {
   "cell_type": "markdown",
   "id": "62f65ef0-a9ce-401c-966e-6f905070a66a",
   "metadata": {},
   "source": [
    "Visualizing a single tile is generally not very helpful so the ``prithvi_precip`` package also provides a function to visualize the full grid of tiles. We use this function below to visualize all of the 32 observation layers.\n",
    "\n",
    "Note that you may want to load the image in a new tab (right click + open image in new tab) and zoom in to make out any detail."
   ]
  },
  {
   "cell_type": "code",
   "execution_count": null,
   "id": "3e9f36d0-e188-4a33-aef2-e2fda548d574",
   "metadata": {},
   "outputs": [],
   "source": [
    "obs, meta = dataset.obs_loader.load_observations(np.datetime64(\"2020-08-26T12:00:00\"), randomize=False)"
   ]
  },
  {
   "cell_type": "code",
   "execution_count": null,
   "id": "b75dd22f-99c2-476a-920b-cbe6272ebc10",
   "metadata": {},
   "outputs": [],
   "source": [
    "from prithvi_precip.plotting import plot_tiles\n",
    "\n",
    "import torch\n",
    "from matplotlib.gridspec import GridSpec\n",
    "from prithvi_precip.plotting import plot_tiles, set_style\n",
    "from matplotlib import colormaps\n",
    "set_style()\n",
    "\n",
    "cmap = colormaps.get_cmap(\"magma\")\n",
    "cmap.set_bad(\"grey\")\n",
    "fig = plt.figure(figsize=(20, 8))\n",
    "gs = GridSpec(4, 8, wspace=0.2, hspace=0.2)\n",
    "\n",
    "for row_ind in range(4):\n",
    "    for col_ind in range(8):\n",
    "        layer_ind = row_ind * 8 + col_ind\n",
    "        ax = fig.add_subplot(gs[row_ind, col_ind])\n",
    "        ax.set_title(f\"Layer {layer_ind + 1}\")\n",
    "        tile = obs[:, :, layer_ind, 0].clone()\n",
    "        tile[tile < -1] = torch.nan\n",
    "        plot_tiles(tile, 0, 1, 2, 3, ax=ax, colorbar=False, cmap=cmap)\n",
    "\n",
    "        ax.set_xticks([])\n",
    "        ax.set_yticks([])"
   ]
  },
  {
   "cell_type": "markdown",
   "id": "b0b11c4d-5ba2-4d2f-88e8-59dafa449aec",
   "metadata": {},
   "source": [
    "## Forecast with observations"
   ]
  },
  {
   "cell_type": "code",
   "execution_count": null,
   "id": "8b424d59-698a-4ec1-a708-15b30a1a39c0",
   "metadata": {},
   "outputs": [],
   "source": [
    "import torch\n",
    "from tqdm import tqdm\n",
    "\n",
    "device = \"cuda:1\"\n",
    "dtype = torch.float32\n",
    "forecast_steps = 32\n",
    "\n",
    "model = model.to(device=device, dtype=dtype)\n",
    "\n",
    "batch_iterator = dataset.get_batched_direct_forecast_input(initialization_time, n_steps=forecast_steps, batch_size=1)\n",
    "results_obs = []\n",
    "\n",
    "step = 1\n",
    "for inpt in tqdm(batch_iterator, total=forecast_steps, desc=\"Running forecast\"):\n",
    "    lats = np.rad2deg(inpt[\"static\"][0, 0].float().cpu().numpy())[:, 0]\n",
    "    lons = np.rad2deg(inpt[\"static\"][0, 1].float().cpu().numpy())[0]\n",
    "    valid_time = initialization_time + np.timedelta64(3, \"h\") * step\n",
    "    step += 1\n",
    "\n",
    "    # Move input to GPU and case to target dtype.\n",
    "    inpt = {\n",
    "        name: tnsr.to(device=device, dtype=dtype) for name,tnsr in inpt.items()\n",
    "    }\n",
    "\n",
    "    # Run inference\n",
    "    with torch.no_grad():\n",
    "        pred = model(inpt, model_only=False)[\"surface_precip\"]\n",
    "        expected_value = pred.expected_value().cpu().float().numpy()[0, 0] # Drop batch and feature dimensions.\n",
    "        p_1 = pred.probability_greater_than(1.0).cpu().float().numpy()[0, 0]\n",
    "        p_10 = pred.probability_greater_than(10.0).cpu().float().numpy()[0, 0]\n",
    "\n",
    "    result = xr.Dataset({\n",
    "        \"latitude\": ((\"latitude\",), lats),\n",
    "        \"longitude\": ((\"longitude\",), lons),\n",
    "        \"valid_time\": valid_time,\n",
    "        \"surface_precip\": ((\"latitude\", \"longitude\"), expected_value),\n",
    "        \"p_1mm\": ((\"latitude\", \"longitude\"), p_1,),\n",
    "        \"p_10mm\": ((\"latitude\", \"longitude\"), p_10)\n",
    "    })\n",
    "    results_obs.append(result)\n",
    "    \n",
    "results_obs = xr.concat(results_obs, dim=\"valid_time\")\n",
    "results_obs[\"initialization_time\"] = initialization_time\n",
    "results_obs_roi = results_obs[{\"latitude\": lat_mask.data, \"longitude\": lon_mask.data}]"
   ]
  },
  {
   "cell_type": "code",
   "execution_count": null,
   "id": "7e1d7a54-d0b2-4f69-b878-5f30ac602882",
   "metadata": {},
   "outputs": [],
   "source": [
    "from prithvi_precip.plotting import set_style, animate_results\n",
    "from IPython.display import HTML\n",
    "\n",
    "ani = animate_results(\n",
    "    {\n",
    "        \"IMERG\": results_imerg,\n",
    "        \"MERRA-2\": results_merra,\n",
    "        \"Prithvi Precip\": results,\n",
    "        \"Prithvi Precip (Obs)\": results_obs,\n",
    "    },\n",
    "    include_metrics=True,\n",
    "    panel_width=8,\n",
    "    n_cols=2\n",
    ")\n",
    "HTML(ani.to_jshtml())"
   ]
  },
  {
   "cell_type": "code",
   "execution_count": null,
   "id": "92d5bf85-a93b-4bea-ba19-5b6266d5b43d",
   "metadata": {},
   "outputs": [],
   "source": [
    "from prithvi_precip.plotting import set_style, animate_results\n",
    "from IPython.display import HTML\n",
    "\n",
    "ani = animate_results(\n",
    "    {\n",
    "        \"IMERG\": results_imerg_roi,\n",
    "        \"MERRA-2\": results_merra_roi,\n",
    "        \"Prithvi Precip\": results_roi,\n",
    "        \"Prithvi Precip (Obs)\": results_obs_roi,\n",
    "    },\n",
    "    include_metrics=True,\n",
    "    n_cols=2\n",
    ")\n",
    "HTML(ani.to_jshtml())"
   ]
  },
  {
   "cell_type": "markdown",
   "id": "dfa6ac92-44cf-4c69-8148-d495695000a7",
   "metadata": {},
   "source": [
    "## Observation-only forecast\n",
    "\n",
    "Finally we also run an observation-only forecast. We do this by setting the ``obs_only`` flag to ``True``."
   ]
  },
  {
   "cell_type": "code",
   "execution_count": null,
   "id": "5d5f2a93-249e-46b8-aa9d-0adb11b11e47",
   "metadata": {},
   "outputs": [],
   "source": [
    "import torch\n",
    "from tqdm import tqdm\n",
    "\n",
    "device = \"cuda:1\"\n",
    "dtype = torch.float32\n",
    "forecast_steps = 32\n",
    "\n",
    "model = model.to(device=device, dtype=dtype)\n",
    "\n",
    "batch_iterator = dataset.get_batched_direct_forecast_input(initialization_time, n_steps=forecast_steps, batch_size=1)\n",
    "results_obs_only = []\n",
    "\n",
    "step = 1\n",
    "for inpt in tqdm(batch_iterator, total=forecast_steps, desc=\"Running forecast\"):\n",
    "    lats = np.rad2deg(inpt[\"static\"][0, 0].float().cpu().numpy())[:, 0]\n",
    "    lons = np.rad2deg(inpt[\"static\"][0, 1].float().cpu().numpy())[0]\n",
    "    valid_time = initialization_time + np.timedelta64(3, \"h\") * step\n",
    "    step += 1\n",
    "\n",
    "    # Move input to GPU and case to target dtype.\n",
    "    inpt = {\n",
    "        name: tnsr.to(device=device, dtype=dtype) for name,tnsr in inpt.items()\n",
    "    }\n",
    "\n",
    "    # Run inference\n",
    "    with torch.no_grad():\n",
    "        pred = model(inpt, obs_only=True)[\"surface_precip\"]\n",
    "        expected_value = pred.expected_value().cpu().float().numpy()[0, 0] # Drop batch and feature dimensions.\n",
    "        p_1 = pred.probability_greater_than(1.0).cpu().float().numpy()[0, 0]\n",
    "        p_10 = pred.probability_greater_than(10.0).cpu().float().numpy()[0, 0]\n",
    "\n",
    "    result = xr.Dataset({\n",
    "        \"latitude\": ((\"latitude\",), lats),\n",
    "        \"longitude\": ((\"longitude\",), lons),\n",
    "        \"valid_time\": valid_time,\n",
    "        \"surface_precip\": ((\"latitude\", \"longitude\"), expected_value),\n",
    "        \"p_1mm\": ((\"latitude\", \"longitude\"), p_1,),\n",
    "        \"p_10mm\": ((\"latitude\", \"longitude\"), p_10)\n",
    "    })\n",
    "    results_obs_only.append(result)\n",
    "    \n",
    "results_obs_only = xr.concat(results_obs_only, dim=\"valid_time\")\n",
    "results_obs_only[\"initialization_time\"] = initialization_time\n",
    "results_obs_only_roi = results_obs_only[{\"latitude\": lat_mask.data, \"longitude\": lon_mask.data}]"
   ]
  },
  {
   "cell_type": "code",
   "execution_count": null,
   "id": "13de269b-2897-4927-adc8-4953a973ff0e",
   "metadata": {},
   "outputs": [],
   "source": [
    "results_obs_only_roi = results_obs_only[{\"latitude\": lat_mask.data, \"longitude\": lon_mask.data}]"
   ]
  },
  {
   "cell_type": "code",
   "execution_count": null,
   "id": "3fbbf067-e6b6-4436-be85-17a2beb56a10",
   "metadata": {},
   "outputs": [],
   "source": []
  },
  {
   "cell_type": "code",
   "execution_count": null,
   "id": "bce28df3-22b3-4fe5-b2ae-40112f68d55d",
   "metadata": {},
   "outputs": [],
   "source": []
  },
  {
   "cell_type": "markdown",
   "id": "31997da2-418f-4843-98ba-08399a53eecf",
   "metadata": {},
   "source": [
    "## Global"
   ]
  },
  {
   "cell_type": "code",
   "execution_count": null,
   "id": "2ecb9ab9-f84c-408c-967d-934e67a355ab",
   "metadata": {},
   "outputs": [],
   "source": [
    "from prithvi_precip.plotting import set_style, animate_results\n",
    "from IPython.display import HTML\n",
    "\n",
    "ani = animate_results(\n",
    "    {\n",
    "        \"IMERG\": results_imerg,\n",
    "        \"Prithvi Precip\": results,\n",
    "        \"Prithvi Precip (Obs)\": results_obs,\n",
    "        \"Prithvi Precip (Obs only)\": results_obs_only,\n",
    "    },\n",
    "    include_metrics=True,\n",
    "    n_cols=2,\n",
    "    panel_width=8\n",
    ")\n",
    "HTML(ani.to_jshtml())"
   ]
  },
  {
   "cell_type": "markdown",
   "id": "d84096b4-ad10-4907-b055-91caffee6bbb",
   "metadata": {},
   "source": [
    "## Local"
   ]
  },
  {
   "cell_type": "code",
   "execution_count": null,
   "id": "74a324f0-a956-4805-9c82-073c5c57ab75",
   "metadata": {},
   "outputs": [],
   "source": [
    "from prithvi_precip.plotting import set_style, animate_results\n",
    "from IPython.display import HTML\n",
    "\n",
    "ani = animate_results(\n",
    "    {\n",
    "        \"IMERG\": results_imerg_roi,\n",
    "        \"MERRA-2\": results_merra_roi,\n",
    "        \"Prithvi Precip\": results_roi,\n",
    "        \"Prithvi Precip (Obs)\": results_obs_roi,\n",
    "        \"Prithvi Precip (Obs only)\": results_obs_only_roi,\n",
    "    },\n",
    "    include_metrics=True,\n",
    "    n_cols=2\n",
    ")\n",
    "HTML(ani.to_jshtml())"
   ]
  }
 ],
 "metadata": {
  "kernelspec": {
   "display_name": "prithvi_wxc",
   "language": "python",
   "name": "prithvi_wxc"
  },
  "language_info": {
   "codemirror_mode": {
    "name": "ipython",
    "version": 3
   },
   "file_extension": ".py",
   "mimetype": "text/x-python",
   "name": "python",
   "nbconvert_exporter": "python",
   "pygments_lexer": "ipython3",
   "version": "3.10.12"
  }
 },
 "nbformat": 4,
 "nbformat_minor": 5
}
