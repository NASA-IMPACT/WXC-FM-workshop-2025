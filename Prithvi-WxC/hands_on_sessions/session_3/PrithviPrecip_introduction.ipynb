{
 "cells": [
  {
   "cell_type": "markdown",
   "id": "e7377ef8-58f4-4c91-820a-1214edb2fec9",
   "metadata": {},
   "source": [
    "# Precipitation forecast example\n",
    "\n",
    "This notebook demonstrates how to perform precipitation forecasts using the Prithvi Precip model. The Prithvi Precip is a finetuned version of the Prithvi-WxC foundation model that was finetuned using  IMERG data from January 1st 2000 to December 31 2019."
   ]
  },
  {
   "cell_type": "code",
   "execution_count": 1,
   "id": "26d17732-8b96-4d20-b467-d41572485f76",
   "metadata": {},
   "outputs": [
    {
     "name": "stderr",
     "output_type": "stream",
     "text": [
      "/home/simon/miniconda3/lib/python3.10/site-packages/pandas/core/arrays/masked.py:61: UserWarning: Pandas requires version '1.3.6' or newer of 'bottleneck' (version '1.3.5' currently installed).\n",
      "  from pandas.core import (\n"
     ]
    }
   ],
   "source": [
    "%load_ext autoreload\n",
    "%autoreload 2\n",
    "from pathlib import Path\n",
    "\n",
    "import numpy as np\n",
    "import xarray as xr\n",
    "import matplotlib.pyplot as plt"
   ]
  },
  {
   "cell_type": "markdown",
   "id": "72d85484-85ab-4bcc-872d-5f00b3220d99",
   "metadata": {},
   "source": [
    "## Required packages\n",
    "\n",
    "The code for the Prithvi Precip model is available from this [GitHub](https://github.com/simonpf/prithvi_precip) repository. \n",
    "\n",
    "> **Disclaimer**: This is still early development. From a quality perspective the code is not yet where I would like it to be and is likely to still change in the future."
   ]
  },
  {
   "cell_type": "code",
   "execution_count": 2,
   "id": "7d380eba-8d2d-43ef-a6d0-a8f30f1886f2",
   "metadata": {
    "scrolled": true
   },
   "outputs": [
    {
     "name": "stdout",
     "output_type": "stream",
     "text": [
      "Collecting git+https://github.com/simonpf/prithvi_precip\n",
      "  Cloning https://github.com/simonpf/prithvi_precip to /tmp/pip-req-build-fjcbqd1s\n",
      "  Resolved https://github.com/simonpf/prithvi_precip to commit 9695b2afb4ba2c598859860ff091c4ca80db6c0c\n",
      "  Installing build dependencies: started\n",
      "  Installing build dependencies: finished with status 'done'\n",
      "  Getting requirements to build wheel: started\n",
      "  Getting requirements to build wheel: finished with status 'done'\n",
      "  Preparing metadata (pyproject.toml): started\n",
      "  Preparing metadata (pyproject.toml): finished with status 'done'\n",
      "Requirement already satisfied: cartopy in /home/simon/miniconda3/envs/prithvi_wxc/lib/python3.12/site-packages (from prithvi_precip==0.0.1) (0.25.0)\n",
      "Requirement already satisfied: click in /home/simon/miniconda3/envs/prithvi_wxc/lib/python3.12/site-packages (from prithvi_precip==0.0.1) (8.2.1)\n",
      "Requirement already satisfied: numpy in /home/simon/miniconda3/envs/prithvi_wxc/lib/python3.12/site-packages (from prithvi_precip==0.0.1) (2.3.2)\n",
      "Requirement already satisfied: xarray in /home/simon/miniconda3/envs/prithvi_wxc/lib/python3.12/site-packages (from prithvi_precip==0.0.1) (2025.8.0)\n",
      "Requirement already satisfied: matplotlib in /home/simon/miniconda3/envs/prithvi_wxc/lib/python3.12/site-packages (from prithvi_precip==0.0.1) (3.10.5)\n",
      "Requirement already satisfied: torch>=2.2 in /home/simon/miniconda3/envs/prithvi_wxc/lib/python3.12/site-packages (from prithvi_precip==0.0.1) (2.8.0)\n",
      "Requirement already satisfied: pytest in /home/simon/miniconda3/envs/prithvi_wxc/lib/python3.12/site-packages (from prithvi_precip==0.0.1) (8.4.1)\n",
      "Requirement already satisfied: pytorch_retrieve>=0.1.4 in /home/simon/miniconda3/envs/prithvi_wxc/lib/python3.12/site-packages (from prithvi_precip==0.0.1) (0.1.4)\n",
      "Requirement already satisfied: pyyaml in /home/simon/miniconda3/envs/prithvi_wxc/lib/python3.12/site-packages (from pytorch_retrieve>=0.1.4->prithvi_precip==0.0.1) (6.0.2)\n",
      "Requirement already satisfied: toml in /home/simon/miniconda3/envs/prithvi_wxc/lib/python3.12/site-packages (from pytorch_retrieve>=0.1.4->prithvi_precip==0.0.1) (0.10.2)\n",
      "Requirement already satisfied: lightning in /home/simon/miniconda3/envs/prithvi_wxc/lib/python3.12/site-packages (from pytorch_retrieve>=0.1.4->prithvi_precip==0.0.1) (2.5.3)\n",
      "Requirement already satisfied: scipy in /home/simon/miniconda3/envs/prithvi_wxc/lib/python3.12/site-packages (from pytorch_retrieve>=0.1.4->prithvi_precip==0.0.1) (1.16.1)\n",
      "Requirement already satisfied: rich in /home/simon/miniconda3/envs/prithvi_wxc/lib/python3.12/site-packages (from pytorch_retrieve>=0.1.4->prithvi_precip==0.0.1) (14.1.0)\n",
      "Requirement already satisfied: tensorboard in /home/simon/miniconda3/envs/prithvi_wxc/lib/python3.12/site-packages (from pytorch_retrieve>=0.1.4->prithvi_precip==0.0.1) (2.20.0)\n",
      "Requirement already satisfied: axial-attention in /home/simon/miniconda3/envs/prithvi_wxc/lib/python3.12/site-packages (from pytorch_retrieve>=0.1.4->prithvi_precip==0.0.1) (0.6.1)\n",
      "Requirement already satisfied: torchvision in /home/simon/miniconda3/envs/prithvi_wxc/lib/python3.12/site-packages (from pytorch_retrieve>=0.1.4->prithvi_precip==0.0.1) (0.23.0)\n",
      "Requirement already satisfied: filelock in /home/simon/miniconda3/envs/prithvi_wxc/lib/python3.12/site-packages (from torch>=2.2->prithvi_precip==0.0.1) (3.19.1)\n",
      "Requirement already satisfied: typing-extensions>=4.10.0 in /home/simon/miniconda3/envs/prithvi_wxc/lib/python3.12/site-packages (from torch>=2.2->prithvi_precip==0.0.1) (4.14.1)\n",
      "Requirement already satisfied: setuptools in /home/simon/miniconda3/envs/prithvi_wxc/lib/python3.12/site-packages (from torch>=2.2->prithvi_precip==0.0.1) (78.1.1)\n",
      "Requirement already satisfied: sympy>=1.13.3 in /home/simon/miniconda3/envs/prithvi_wxc/lib/python3.12/site-packages (from torch>=2.2->prithvi_precip==0.0.1) (1.14.0)\n",
      "Requirement already satisfied: networkx in /home/simon/miniconda3/envs/prithvi_wxc/lib/python3.12/site-packages (from torch>=2.2->prithvi_precip==0.0.1) (3.5)\n",
      "Requirement already satisfied: jinja2 in /home/simon/miniconda3/envs/prithvi_wxc/lib/python3.12/site-packages (from torch>=2.2->prithvi_precip==0.0.1) (3.1.6)\n",
      "Requirement already satisfied: fsspec in /home/simon/miniconda3/envs/prithvi_wxc/lib/python3.12/site-packages (from torch>=2.2->prithvi_precip==0.0.1) (2025.7.0)\n",
      "Requirement already satisfied: nvidia-cuda-nvrtc-cu12==12.8.93 in /home/simon/miniconda3/envs/prithvi_wxc/lib/python3.12/site-packages (from torch>=2.2->prithvi_precip==0.0.1) (12.8.93)\n",
      "Requirement already satisfied: nvidia-cuda-runtime-cu12==12.8.90 in /home/simon/miniconda3/envs/prithvi_wxc/lib/python3.12/site-packages (from torch>=2.2->prithvi_precip==0.0.1) (12.8.90)\n",
      "Requirement already satisfied: nvidia-cuda-cupti-cu12==12.8.90 in /home/simon/miniconda3/envs/prithvi_wxc/lib/python3.12/site-packages (from torch>=2.2->prithvi_precip==0.0.1) (12.8.90)\n",
      "Requirement already satisfied: nvidia-cudnn-cu12==9.10.2.21 in /home/simon/miniconda3/envs/prithvi_wxc/lib/python3.12/site-packages (from torch>=2.2->prithvi_precip==0.0.1) (9.10.2.21)\n",
      "Requirement already satisfied: nvidia-cublas-cu12==12.8.4.1 in /home/simon/miniconda3/envs/prithvi_wxc/lib/python3.12/site-packages (from torch>=2.2->prithvi_precip==0.0.1) (12.8.4.1)\n",
      "Requirement already satisfied: nvidia-cufft-cu12==11.3.3.83 in /home/simon/miniconda3/envs/prithvi_wxc/lib/python3.12/site-packages (from torch>=2.2->prithvi_precip==0.0.1) (11.3.3.83)\n",
      "Requirement already satisfied: nvidia-curand-cu12==10.3.9.90 in /home/simon/miniconda3/envs/prithvi_wxc/lib/python3.12/site-packages (from torch>=2.2->prithvi_precip==0.0.1) (10.3.9.90)\n",
      "Requirement already satisfied: nvidia-cusolver-cu12==11.7.3.90 in /home/simon/miniconda3/envs/prithvi_wxc/lib/python3.12/site-packages (from torch>=2.2->prithvi_precip==0.0.1) (11.7.3.90)\n",
      "Requirement already satisfied: nvidia-cusparse-cu12==12.5.8.93 in /home/simon/miniconda3/envs/prithvi_wxc/lib/python3.12/site-packages (from torch>=2.2->prithvi_precip==0.0.1) (12.5.8.93)\n",
      "Requirement already satisfied: nvidia-cusparselt-cu12==0.7.1 in /home/simon/miniconda3/envs/prithvi_wxc/lib/python3.12/site-packages (from torch>=2.2->prithvi_precip==0.0.1) (0.7.1)\n",
      "Requirement already satisfied: nvidia-nccl-cu12==2.27.3 in /home/simon/miniconda3/envs/prithvi_wxc/lib/python3.12/site-packages (from torch>=2.2->prithvi_precip==0.0.1) (2.27.3)\n",
      "Requirement already satisfied: nvidia-nvtx-cu12==12.8.90 in /home/simon/miniconda3/envs/prithvi_wxc/lib/python3.12/site-packages (from torch>=2.2->prithvi_precip==0.0.1) (12.8.90)\n",
      "Requirement already satisfied: nvidia-nvjitlink-cu12==12.8.93 in /home/simon/miniconda3/envs/prithvi_wxc/lib/python3.12/site-packages (from torch>=2.2->prithvi_precip==0.0.1) (12.8.93)\n",
      "Requirement already satisfied: nvidia-cufile-cu12==1.13.1.3 in /home/simon/miniconda3/envs/prithvi_wxc/lib/python3.12/site-packages (from torch>=2.2->prithvi_precip==0.0.1) (1.13.1.3)\n",
      "Requirement already satisfied: triton==3.4.0 in /home/simon/miniconda3/envs/prithvi_wxc/lib/python3.12/site-packages (from torch>=2.2->prithvi_precip==0.0.1) (3.4.0)\n",
      "Requirement already satisfied: mpmath<1.4,>=1.1.0 in /home/simon/miniconda3/envs/prithvi_wxc/lib/python3.12/site-packages (from sympy>=1.13.3->torch>=2.2->prithvi_precip==0.0.1) (1.3.0)\n",
      "Requirement already satisfied: shapely>=2.0 in /home/simon/miniconda3/envs/prithvi_wxc/lib/python3.12/site-packages (from cartopy->prithvi_precip==0.0.1) (2.1.1)\n",
      "Requirement already satisfied: packaging>=21 in /home/simon/miniconda3/envs/prithvi_wxc/lib/python3.12/site-packages (from cartopy->prithvi_precip==0.0.1) (25.0)\n",
      "Requirement already satisfied: pyshp>=2.3 in /home/simon/miniconda3/envs/prithvi_wxc/lib/python3.12/site-packages (from cartopy->prithvi_precip==0.0.1) (2.3.1)\n",
      "Requirement already satisfied: pyproj>=3.3.1 in /home/simon/miniconda3/envs/prithvi_wxc/lib/python3.12/site-packages (from cartopy->prithvi_precip==0.0.1) (3.7.2)\n",
      "Requirement already satisfied: contourpy>=1.0.1 in /home/simon/miniconda3/envs/prithvi_wxc/lib/python3.12/site-packages (from matplotlib->prithvi_precip==0.0.1) (1.3.3)\n",
      "Requirement already satisfied: cycler>=0.10 in /home/simon/miniconda3/envs/prithvi_wxc/lib/python3.12/site-packages (from matplotlib->prithvi_precip==0.0.1) (0.12.1)\n",
      "Requirement already satisfied: fonttools>=4.22.0 in /home/simon/miniconda3/envs/prithvi_wxc/lib/python3.12/site-packages (from matplotlib->prithvi_precip==0.0.1) (4.59.1)\n",
      "Requirement already satisfied: kiwisolver>=1.3.1 in /home/simon/miniconda3/envs/prithvi_wxc/lib/python3.12/site-packages (from matplotlib->prithvi_precip==0.0.1) (1.4.9)\n",
      "Requirement already satisfied: pillow>=8 in /home/simon/miniconda3/envs/prithvi_wxc/lib/python3.12/site-packages (from matplotlib->prithvi_precip==0.0.1) (11.3.0)\n",
      "Requirement already satisfied: pyparsing>=2.3.1 in /home/simon/miniconda3/envs/prithvi_wxc/lib/python3.12/site-packages (from matplotlib->prithvi_precip==0.0.1) (3.2.3)\n",
      "Requirement already satisfied: python-dateutil>=2.7 in /home/simon/miniconda3/envs/prithvi_wxc/lib/python3.12/site-packages (from matplotlib->prithvi_precip==0.0.1) (2.9.0.post0)\n",
      "Requirement already satisfied: certifi in /home/simon/miniconda3/envs/prithvi_wxc/lib/python3.12/site-packages (from pyproj>=3.3.1->cartopy->prithvi_precip==0.0.1) (2025.8.3)\n",
      "Requirement already satisfied: six>=1.5 in /home/simon/miniconda3/envs/prithvi_wxc/lib/python3.12/site-packages (from python-dateutil>=2.7->matplotlib->prithvi_precip==0.0.1) (1.17.0)\n",
      "Requirement already satisfied: MarkupSafe>=2.0 in /home/simon/miniconda3/envs/prithvi_wxc/lib/python3.12/site-packages (from jinja2->torch>=2.2->prithvi_precip==0.0.1) (3.0.2)\n",
      "Requirement already satisfied: lightning-utilities<2.0,>=0.10.0 in /home/simon/miniconda3/envs/prithvi_wxc/lib/python3.12/site-packages (from lightning->pytorch_retrieve>=0.1.4->prithvi_precip==0.0.1) (0.15.2)\n",
      "Requirement already satisfied: torchmetrics<3.0,>0.7.0 in /home/simon/miniconda3/envs/prithvi_wxc/lib/python3.12/site-packages (from lightning->pytorch_retrieve>=0.1.4->prithvi_precip==0.0.1) (1.8.1)\n",
      "Requirement already satisfied: tqdm<6.0,>=4.57.0 in /home/simon/miniconda3/envs/prithvi_wxc/lib/python3.12/site-packages (from lightning->pytorch_retrieve>=0.1.4->prithvi_precip==0.0.1) (4.67.1)\n",
      "Requirement already satisfied: pytorch-lightning in /home/simon/miniconda3/envs/prithvi_wxc/lib/python3.12/site-packages (from lightning->pytorch_retrieve>=0.1.4->prithvi_precip==0.0.1) (2.5.3)\n",
      "Requirement already satisfied: aiohttp!=4.0.0a0,!=4.0.0a1 in /home/simon/miniconda3/envs/prithvi_wxc/lib/python3.12/site-packages (from fsspec[http]<2027.0,>=2022.5.0->lightning->pytorch_retrieve>=0.1.4->prithvi_precip==0.0.1) (3.12.15)\n",
      "Requirement already satisfied: aiohappyeyeballs>=2.5.0 in /home/simon/miniconda3/envs/prithvi_wxc/lib/python3.12/site-packages (from aiohttp!=4.0.0a0,!=4.0.0a1->fsspec[http]<2027.0,>=2022.5.0->lightning->pytorch_retrieve>=0.1.4->prithvi_precip==0.0.1) (2.6.1)\n",
      "Requirement already satisfied: aiosignal>=1.4.0 in /home/simon/miniconda3/envs/prithvi_wxc/lib/python3.12/site-packages (from aiohttp!=4.0.0a0,!=4.0.0a1->fsspec[http]<2027.0,>=2022.5.0->lightning->pytorch_retrieve>=0.1.4->prithvi_precip==0.0.1) (1.4.0)\n",
      "Requirement already satisfied: attrs>=17.3.0 in /home/simon/miniconda3/envs/prithvi_wxc/lib/python3.12/site-packages (from aiohttp!=4.0.0a0,!=4.0.0a1->fsspec[http]<2027.0,>=2022.5.0->lightning->pytorch_retrieve>=0.1.4->prithvi_precip==0.0.1) (25.3.0)\n",
      "Requirement already satisfied: frozenlist>=1.1.1 in /home/simon/miniconda3/envs/prithvi_wxc/lib/python3.12/site-packages (from aiohttp!=4.0.0a0,!=4.0.0a1->fsspec[http]<2027.0,>=2022.5.0->lightning->pytorch_retrieve>=0.1.4->prithvi_precip==0.0.1) (1.7.0)\n",
      "Requirement already satisfied: multidict<7.0,>=4.5 in /home/simon/miniconda3/envs/prithvi_wxc/lib/python3.12/site-packages (from aiohttp!=4.0.0a0,!=4.0.0a1->fsspec[http]<2027.0,>=2022.5.0->lightning->pytorch_retrieve>=0.1.4->prithvi_precip==0.0.1) (6.6.4)\n",
      "Requirement already satisfied: propcache>=0.2.0 in /home/simon/miniconda3/envs/prithvi_wxc/lib/python3.12/site-packages (from aiohttp!=4.0.0a0,!=4.0.0a1->fsspec[http]<2027.0,>=2022.5.0->lightning->pytorch_retrieve>=0.1.4->prithvi_precip==0.0.1) (0.3.2)\n",
      "Requirement already satisfied: yarl<2.0,>=1.17.0 in /home/simon/miniconda3/envs/prithvi_wxc/lib/python3.12/site-packages (from aiohttp!=4.0.0a0,!=4.0.0a1->fsspec[http]<2027.0,>=2022.5.0->lightning->pytorch_retrieve>=0.1.4->prithvi_precip==0.0.1) (1.20.1)\n",
      "Requirement already satisfied: idna>=2.0 in /home/simon/miniconda3/envs/prithvi_wxc/lib/python3.12/site-packages (from yarl<2.0,>=1.17.0->aiohttp!=4.0.0a0,!=4.0.0a1->fsspec[http]<2027.0,>=2022.5.0->lightning->pytorch_retrieve>=0.1.4->prithvi_precip==0.0.1) (3.10)\n",
      "Requirement already satisfied: iniconfig>=1 in /home/simon/miniconda3/envs/prithvi_wxc/lib/python3.12/site-packages (from pytest->prithvi_precip==0.0.1) (2.1.0)\n",
      "Requirement already satisfied: pluggy<2,>=1.5 in /home/simon/miniconda3/envs/prithvi_wxc/lib/python3.12/site-packages (from pytest->prithvi_precip==0.0.1) (1.6.0)\n",
      "Requirement already satisfied: pygments>=2.7.2 in /home/simon/miniconda3/envs/prithvi_wxc/lib/python3.12/site-packages (from pytest->prithvi_precip==0.0.1) (2.19.2)\n",
      "Requirement already satisfied: markdown-it-py>=2.2.0 in /home/simon/miniconda3/envs/prithvi_wxc/lib/python3.12/site-packages (from rich->pytorch_retrieve>=0.1.4->prithvi_precip==0.0.1) (4.0.0)\n",
      "Requirement already satisfied: mdurl~=0.1 in /home/simon/miniconda3/envs/prithvi_wxc/lib/python3.12/site-packages (from markdown-it-py>=2.2.0->rich->pytorch_retrieve>=0.1.4->prithvi_precip==0.0.1) (0.1.2)\n",
      "Requirement already satisfied: absl-py>=0.4 in /home/simon/miniconda3/envs/prithvi_wxc/lib/python3.12/site-packages (from tensorboard->pytorch_retrieve>=0.1.4->prithvi_precip==0.0.1) (2.3.1)\n",
      "Requirement already satisfied: grpcio>=1.48.2 in /home/simon/miniconda3/envs/prithvi_wxc/lib/python3.12/site-packages (from tensorboard->pytorch_retrieve>=0.1.4->prithvi_precip==0.0.1) (1.74.0)\n",
      "Requirement already satisfied: markdown>=2.6.8 in /home/simon/miniconda3/envs/prithvi_wxc/lib/python3.12/site-packages (from tensorboard->pytorch_retrieve>=0.1.4->prithvi_precip==0.0.1) (3.8.2)\n",
      "Requirement already satisfied: protobuf!=4.24.0,>=3.19.6 in /home/simon/miniconda3/envs/prithvi_wxc/lib/python3.12/site-packages (from tensorboard->pytorch_retrieve>=0.1.4->prithvi_precip==0.0.1) (6.32.0)\n",
      "Requirement already satisfied: tensorboard-data-server<0.8.0,>=0.7.0 in /home/simon/miniconda3/envs/prithvi_wxc/lib/python3.12/site-packages (from tensorboard->pytorch_retrieve>=0.1.4->prithvi_precip==0.0.1) (0.7.2)\n",
      "Requirement already satisfied: werkzeug>=1.0.1 in /home/simon/miniconda3/envs/prithvi_wxc/lib/python3.12/site-packages (from tensorboard->pytorch_retrieve>=0.1.4->prithvi_precip==0.0.1) (3.1.3)\n",
      "Requirement already satisfied: pandas>=2.2 in /home/simon/miniconda3/envs/prithvi_wxc/lib/python3.12/site-packages (from xarray->prithvi_precip==0.0.1) (2.3.1)\n",
      "Requirement already satisfied: pytz>=2020.1 in /home/simon/miniconda3/envs/prithvi_wxc/lib/python3.12/site-packages (from pandas>=2.2->xarray->prithvi_precip==0.0.1) (2025.2)\n",
      "Requirement already satisfied: tzdata>=2022.7 in /home/simon/miniconda3/envs/prithvi_wxc/lib/python3.12/site-packages (from pandas>=2.2->xarray->prithvi_precip==0.0.1) (2025.2)\n",
      "\n",
      "  Running command git clone --filter=blob:none --quiet https://github.com/simonpf/prithvi_precip /tmp/pip-req-build-fjcbqd1s\n",
      "\n"
     ]
    }
   ],
   "source": [
    "!conda run -n prithvi_wxc pip install git+https://github.com/simonpf/prithvi_precip"
   ]
  },
  {
   "cell_type": "markdown",
   "id": "fe63368d-34df-472b-85ea-dace5a78a661",
   "metadata": {},
   "source": [
    "## Example data\n",
    "\n",
    "The trained Prithvi Precip model is available on HuggingFace. The repository contains the model itself as well as input data from August 26 - 31, 2020. The function below download the model as well as the input data."
   ]
  },
  {
   "cell_type": "code",
   "execution_count": 13,
   "id": "afac9010-8f13-4a5c-9c75-7a04520606d3",
   "metadata": {
    "scrolled": true
   },
   "outputs": [
    {
     "data": {
      "application/vnd.jupyter.widget-view+json": {
       "model_id": "46efec641f3c4ee39bbdc66ab9149feb",
       "version_major": 2,
       "version_minor": 0
      },
      "text/plain": [
       "Fetching 412 files:   0%|          | 0/412 [00:00<?, ?it/s]"
      ]
     },
     "metadata": {},
     "output_type": "display_data"
    },
    {
     "data": {
      "application/vnd.jupyter.widget-view+json": {
       "model_id": "77756af8656f45ef840b4f77c339e4df",
       "version_major": 2,
       "version_minor": 0
      },
      "text/plain": [
       "data/input_data/imerg_3/2020/08/imerg_20(…):   0%|          | 0.00/350k [00:00<?, ?B/s]"
      ]
     },
     "metadata": {},
     "output_type": "display_data"
    },
    {
     "data": {
      "application/vnd.jupyter.widget-view+json": {
       "model_id": "e4faaf07e83e4a29b8efcd39901e6005",
       "version_major": 2,
       "version_minor": 0
      },
      "text/plain": [
       "data/input_data/imerg_3/2020/08/imerg_20(…):   0%|          | 0.00/358k [00:00<?, ?B/s]"
      ]
     },
     "metadata": {},
     "output_type": "display_data"
    },
    {
     "data": {
      "application/vnd.jupyter.widget-view+json": {
       "model_id": "8b3b26d8f3344b338b5aafdcb5ff548b",
       "version_major": 2,
       "version_minor": 0
      },
      "text/plain": [
       "data/input_data/imerg_3/2020/08/imerg_20(…):   0%|          | 0.00/348k [00:00<?, ?B/s]"
      ]
     },
     "metadata": {},
     "output_type": "display_data"
    },
    {
     "data": {
      "application/vnd.jupyter.widget-view+json": {
       "model_id": "bf0ec088ac7f488cae06ce12f626cbe9",
       "version_major": 2,
       "version_minor": 0
      },
      "text/plain": [
       "data/input_data/imerg_3/2020/08/imerg_20(…):   0%|          | 0.00/358k [00:00<?, ?B/s]"
      ]
     },
     "metadata": {},
     "output_type": "display_data"
    },
    {
     "data": {
      "application/vnd.jupyter.widget-view+json": {
       "model_id": "095db6d0efc349bba7324a6d880648cf",
       "version_major": 2,
       "version_minor": 0
      },
      "text/plain": [
       "data/input_data/imerg_3/2020/08/imerg_20(…):   0%|          | 0.00/350k [00:00<?, ?B/s]"
      ]
     },
     "metadata": {},
     "output_type": "display_data"
    },
    {
     "data": {
      "application/vnd.jupyter.widget-view+json": {
       "model_id": "f4501959fe0742d8b86094c5856f3200",
       "version_major": 2,
       "version_minor": 0
      },
      "text/plain": [
       "data/input_data/imerg_3/2020/08/imerg_20(…):   0%|          | 0.00/359k [00:00<?, ?B/s]"
      ]
     },
     "metadata": {},
     "output_type": "display_data"
    },
    {
     "data": {
      "application/vnd.jupyter.widget-view+json": {
       "model_id": "d68dc74bf3b24ce0bc6b40a4c0d4424b",
       "version_major": 2,
       "version_minor": 0
      },
      "text/plain": [
       "data/input_data/imerg_3/2020/08/imerg_20(…):   0%|          | 0.00/356k [00:00<?, ?B/s]"
      ]
     },
     "metadata": {},
     "output_type": "display_data"
    },
    {
     "data": {
      "application/vnd.jupyter.widget-view+json": {
       "model_id": "d9ccc9366a584a74a26695e8b3fb6906",
       "version_major": 2,
       "version_minor": 0
      },
      "text/plain": [
       "data/input_data/imerg_3/2020/08/imerg_20(…):   0%|          | 0.00/358k [00:00<?, ?B/s]"
      ]
     },
     "metadata": {},
     "output_type": "display_data"
    },
    {
     "data": {
      "application/vnd.jupyter.widget-view+json": {
       "model_id": "a8b8e58fa2704f328fe1ed0aef784e03",
       "version_major": 2,
       "version_minor": 0
      },
      "text/plain": [
       "data/input_data/imerg_3/2020/08/imerg_20(…):   0%|          | 0.00/365k [00:00<?, ?B/s]"
      ]
     },
     "metadata": {},
     "output_type": "display_data"
    },
    {
     "data": {
      "application/vnd.jupyter.widget-view+json": {
       "model_id": "1d52af8c0d61411a8d011eb03a7edb00",
       "version_major": 2,
       "version_minor": 0
      },
      "text/plain": [
       "data/input_data/imerg_3/2020/08/imerg_20(…):   0%|          | 0.00/366k [00:00<?, ?B/s]"
      ]
     },
     "metadata": {},
     "output_type": "display_data"
    },
    {
     "data": {
      "application/vnd.jupyter.widget-view+json": {
       "model_id": "41a1d86ac6b646fca963140e830507c1",
       "version_major": 2,
       "version_minor": 0
      },
      "text/plain": [
       "data/input_data/imerg_3/2020/08/imerg_20(…):   0%|          | 0.00/365k [00:00<?, ?B/s]"
      ]
     },
     "metadata": {},
     "output_type": "display_data"
    },
    {
     "data": {
      "application/vnd.jupyter.widget-view+json": {
       "model_id": "35b16271da9e4fe59a8253800471d0c2",
       "version_major": 2,
       "version_minor": 0
      },
      "text/plain": [
       "data/input_data/imerg_3/2020/08/imerg_20(…):   0%|          | 0.00/362k [00:00<?, ?B/s]"
      ]
     },
     "metadata": {},
     "output_type": "display_data"
    },
    {
     "data": {
      "application/vnd.jupyter.widget-view+json": {
       "model_id": "31044bc742b54e0aa866d58e9351fc10",
       "version_major": 2,
       "version_minor": 0
      },
      "text/plain": [
       "data/input_data/imerg_3/2020/08/imerg_20(…):   0%|          | 0.00/365k [00:00<?, ?B/s]"
      ]
     },
     "metadata": {},
     "output_type": "display_data"
    },
    {
     "data": {
      "application/vnd.jupyter.widget-view+json": {
       "model_id": "ae77d0179f0140f587e394841164aa46",
       "version_major": 2,
       "version_minor": 0
      },
      "text/plain": [
       "data/input_data/imerg_3/2020/08/imerg_20(…):   0%|          | 0.00/361k [00:00<?, ?B/s]"
      ]
     },
     "metadata": {},
     "output_type": "display_data"
    },
    {
     "data": {
      "application/vnd.jupyter.widget-view+json": {
       "model_id": "9f7601f02c3d49e39d4a78b27a97a3a7",
       "version_major": 2,
       "version_minor": 0
      },
      "text/plain": [
       "data/input_data/imerg_3/2020/08/imerg_20(…):   0%|          | 0.00/359k [00:00<?, ?B/s]"
      ]
     },
     "metadata": {},
     "output_type": "display_data"
    },
    {
     "data": {
      "application/vnd.jupyter.widget-view+json": {
       "model_id": "766ab8e0a7e447269dd3eed4d8e7120e",
       "version_major": 2,
       "version_minor": 0
      },
      "text/plain": [
       "data/input_data/imerg_3/2020/08/imerg_20(…):   0%|          | 0.00/357k [00:00<?, ?B/s]"
      ]
     },
     "metadata": {},
     "output_type": "display_data"
    },
    {
     "data": {
      "application/vnd.jupyter.widget-view+json": {
       "model_id": "1ab89fb6922146ed8d1ba04dd438ff84",
       "version_major": 2,
       "version_minor": 0
      },
      "text/plain": [
       "data/input_data/imerg_3/2020/08/imerg_20(…):   0%|          | 0.00/360k [00:00<?, ?B/s]"
      ]
     },
     "metadata": {},
     "output_type": "display_data"
    },
    {
     "data": {
      "application/vnd.jupyter.widget-view+json": {
       "model_id": "cf72899e762c48b9866a02e2ad846f38",
       "version_major": 2,
       "version_minor": 0
      },
      "text/plain": [
       "data/input_data/imerg_3/2020/08/imerg_20(…):   0%|          | 0.00/368k [00:00<?, ?B/s]"
      ]
     },
     "metadata": {},
     "output_type": "display_data"
    },
    {
     "data": {
      "application/vnd.jupyter.widget-view+json": {
       "model_id": "fd3bc9ff1ac54bf5bc0dc81b22e0da5a",
       "version_major": 2,
       "version_minor": 0
      },
      "text/plain": [
       "data/input_data/imerg_3/2020/08/imerg_20(…):   0%|          | 0.00/369k [00:00<?, ?B/s]"
      ]
     },
     "metadata": {},
     "output_type": "display_data"
    },
    {
     "data": {
      "application/vnd.jupyter.widget-view+json": {
       "model_id": "ab8a47e1745c47f29c0eaeefc69ee1e6",
       "version_major": 2,
       "version_minor": 0
      },
      "text/plain": [
       "data/input_data/imerg_3/2020/08/imerg_20(…):   0%|          | 0.00/370k [00:00<?, ?B/s]"
      ]
     },
     "metadata": {},
     "output_type": "display_data"
    },
    {
     "data": {
      "application/vnd.jupyter.widget-view+json": {
       "model_id": "da55316bc7be476d9a58c18b4dca8e6f",
       "version_major": 2,
       "version_minor": 0
      },
      "text/plain": [
       "data/input_data/imerg_3/2020/08/imerg_20(…):   0%|          | 0.00/369k [00:00<?, ?B/s]"
      ]
     },
     "metadata": {},
     "output_type": "display_data"
    },
    {
     "data": {
      "application/vnd.jupyter.widget-view+json": {
       "model_id": "9feb1485828240989089d23ce5fd4b15",
       "version_major": 2,
       "version_minor": 0
      },
      "text/plain": [
       "data/input_data/imerg_3/2020/08/imerg_20(…):   0%|          | 0.00/364k [00:00<?, ?B/s]"
      ]
     },
     "metadata": {},
     "output_type": "display_data"
    },
    {
     "data": {
      "application/vnd.jupyter.widget-view+json": {
       "model_id": "1f6c26c588084edc951b665f48e5129d",
       "version_major": 2,
       "version_minor": 0
      },
      "text/plain": [
       "data/input_data/imerg_3/2020/08/imerg_20(…):   0%|          | 0.00/365k [00:00<?, ?B/s]"
      ]
     },
     "metadata": {},
     "output_type": "display_data"
    },
    {
     "data": {
      "application/vnd.jupyter.widget-view+json": {
       "model_id": "305ee29b500d4ee796fbb152bd39e8b4",
       "version_major": 2,
       "version_minor": 0
      },
      "text/plain": [
       "data/input_data/imerg_3/2020/08/imerg_20(…):   0%|          | 0.00/358k [00:00<?, ?B/s]"
      ]
     },
     "metadata": {},
     "output_type": "display_data"
    },
    {
     "data": {
      "application/vnd.jupyter.widget-view+json": {
       "model_id": "a3bdb7b9986e48b9b06e7127f08a938e",
       "version_major": 2,
       "version_minor": 0
      },
      "text/plain": [
       "data/input_data/imerg_3/2020/08/imerg_20(…):   0%|          | 0.00/358k [00:00<?, ?B/s]"
      ]
     },
     "metadata": {},
     "output_type": "display_data"
    },
    {
     "data": {
      "application/vnd.jupyter.widget-view+json": {
       "model_id": "2b5ec111d63b4892a0cac556a9a0ad23",
       "version_major": 2,
       "version_minor": 0
      },
      "text/plain": [
       "data/input_data/imerg_3/2020/08/imerg_20(…):   0%|          | 0.00/364k [00:00<?, ?B/s]"
      ]
     },
     "metadata": {},
     "output_type": "display_data"
    },
    {
     "data": {
      "application/vnd.jupyter.widget-view+json": {
       "model_id": "2175647adf2541cba1f91fe497425361",
       "version_major": 2,
       "version_minor": 0
      },
      "text/plain": [
       "data/input_data/imerg_3/2020/08/imerg_20(…):   0%|          | 0.00/366k [00:00<?, ?B/s]"
      ]
     },
     "metadata": {},
     "output_type": "display_data"
    },
    {
     "data": {
      "application/vnd.jupyter.widget-view+json": {
       "model_id": "190d01935fa9425b8579ca285642f6d7",
       "version_major": 2,
       "version_minor": 0
      },
      "text/plain": [
       "data/input_data/imerg_3/2020/08/imerg_20(…):   0%|          | 0.00/364k [00:00<?, ?B/s]"
      ]
     },
     "metadata": {},
     "output_type": "display_data"
    },
    {
     "data": {
      "application/vnd.jupyter.widget-view+json": {
       "model_id": "9efb5a0bd05f4252b2d1f600266212ca",
       "version_major": 2,
       "version_minor": 0
      },
      "text/plain": [
       "data/input_data/imerg_3/2020/08/imerg_20(…):   0%|          | 0.00/365k [00:00<?, ?B/s]"
      ]
     },
     "metadata": {},
     "output_type": "display_data"
    },
    {
     "data": {
      "application/vnd.jupyter.widget-view+json": {
       "model_id": "1ef21d6dcfaf423f9a1e51e47c387c8c",
       "version_major": 2,
       "version_minor": 0
      },
      "text/plain": [
       "data/input_data/imerg_3/2020/08/imerg_20(…):   0%|          | 0.00/362k [00:00<?, ?B/s]"
      ]
     },
     "metadata": {},
     "output_type": "display_data"
    },
    {
     "data": {
      "application/vnd.jupyter.widget-view+json": {
       "model_id": "a30ffa2b19ee4ec880ea26ca9f511b09",
       "version_major": 2,
       "version_minor": 0
      },
      "text/plain": [
       "data/input_data/imerg_3/2020/08/imerg_20(…):   0%|          | 0.00/361k [00:00<?, ?B/s]"
      ]
     },
     "metadata": {},
     "output_type": "display_data"
    },
    {
     "data": {
      "application/vnd.jupyter.widget-view+json": {
       "model_id": "bf001029b1bc457c822a1ef663d097f6",
       "version_major": 2,
       "version_minor": 0
      },
      "text/plain": [
       "data/input_data/imerg_3/2020/08/imerg_20(…):   0%|          | 0.00/363k [00:00<?, ?B/s]"
      ]
     },
     "metadata": {},
     "output_type": "display_data"
    },
    {
     "data": {
      "application/vnd.jupyter.widget-view+json": {
       "model_id": "9114507cd1cd418fbb9dbf9ff27700f0",
       "version_major": 2,
       "version_minor": 0
      },
      "text/plain": [
       "data/input_data/imerg_3/2020/08/imerg_20(…):   0%|          | 0.00/367k [00:00<?, ?B/s]"
      ]
     },
     "metadata": {},
     "output_type": "display_data"
    },
    {
     "data": {
      "application/vnd.jupyter.widget-view+json": {
       "model_id": "2d4a66bb4a1d44648be2f5ff2dc0e7fa",
       "version_major": 2,
       "version_minor": 0
      },
      "text/plain": [
       "data/input_data/imerg_3/2020/08/imerg_20(…):   0%|          | 0.00/369k [00:00<?, ?B/s]"
      ]
     },
     "metadata": {},
     "output_type": "display_data"
    },
    {
     "data": {
      "application/vnd.jupyter.widget-view+json": {
       "model_id": "d99b2f090fea4b4487e48271d51c7f01",
       "version_major": 2,
       "version_minor": 0
      },
      "text/plain": [
       "data/input_data/imerg_3/2020/08/imerg_20(…):   0%|          | 0.00/369k [00:00<?, ?B/s]"
      ]
     },
     "metadata": {},
     "output_type": "display_data"
    },
    {
     "data": {
      "application/vnd.jupyter.widget-view+json": {
       "model_id": "5bb16f0df47446009c349692a7ce3a22",
       "version_major": 2,
       "version_minor": 0
      },
      "text/plain": [
       "data/input_data/imerg_3/2020/08/imerg_20(…):   0%|          | 0.00/372k [00:00<?, ?B/s]"
      ]
     },
     "metadata": {},
     "output_type": "display_data"
    },
    {
     "data": {
      "application/vnd.jupyter.widget-view+json": {
       "model_id": "e0944070492b4fdbbb2be8877142d329",
       "version_major": 2,
       "version_minor": 0
      },
      "text/plain": [
       "data/input_data/imerg_3/2020/08/imerg_20(…):   0%|          | 0.00/371k [00:00<?, ?B/s]"
      ]
     },
     "metadata": {},
     "output_type": "display_data"
    },
    {
     "data": {
      "application/vnd.jupyter.widget-view+json": {
       "model_id": "44752931d98e4abe995c4f9419f463e8",
       "version_major": 2,
       "version_minor": 0
      },
      "text/plain": [
       "data/input_data/imerg_3/2020/08/imerg_20(…):   0%|          | 0.00/366k [00:00<?, ?B/s]"
      ]
     },
     "metadata": {},
     "output_type": "display_data"
    },
    {
     "data": {
      "application/vnd.jupyter.widget-view+json": {
       "model_id": "14550fe829ba455ebb9ebbc97bbc124d",
       "version_major": 2,
       "version_minor": 0
      },
      "text/plain": [
       "data/input_data/imerg_3/2020/08/imerg_20(…):   0%|          | 0.00/365k [00:00<?, ?B/s]"
      ]
     },
     "metadata": {},
     "output_type": "display_data"
    },
    {
     "data": {
      "application/vnd.jupyter.widget-view+json": {
       "model_id": "384621c372764f829c8bd0e35093b88b",
       "version_major": 2,
       "version_minor": 0
      },
      "text/plain": [
       "data/input_data/merra2_precip_3/08/merra(…):   0%|          | 0.00/644k [00:00<?, ?B/s]"
      ]
     },
     "metadata": {},
     "output_type": "display_data"
    },
    {
     "data": {
      "application/vnd.jupyter.widget-view+json": {
       "model_id": "c02acdf1dfc945c3b57a69f1f30b7415",
       "version_major": 2,
       "version_minor": 0
      },
      "text/plain": [
       "data/input_data/merra2_precip_3/08/merra(…):   0%|          | 0.00/645k [00:00<?, ?B/s]"
      ]
     },
     "metadata": {},
     "output_type": "display_data"
    },
    {
     "data": {
      "application/vnd.jupyter.widget-view+json": {
       "model_id": "27381bf7217e4449aefc322e8227eaaf",
       "version_major": 2,
       "version_minor": 0
      },
      "text/plain": [
       "data/input_data/merra2_precip_3/08/merra(…):   0%|          | 0.00/645k [00:00<?, ?B/s]"
      ]
     },
     "metadata": {},
     "output_type": "display_data"
    },
    {
     "data": {
      "application/vnd.jupyter.widget-view+json": {
       "model_id": "a18a46b8cca6460fb09f4e98c0e3d202",
       "version_major": 2,
       "version_minor": 0
      },
      "text/plain": [
       "data/input_data/merra2_precip_3/08/merra(…):   0%|          | 0.00/644k [00:00<?, ?B/s]"
      ]
     },
     "metadata": {},
     "output_type": "display_data"
    },
    {
     "data": {
      "application/vnd.jupyter.widget-view+json": {
       "model_id": "8d32b4a650504bb2bafc31fb583c5834",
       "version_major": 2,
       "version_minor": 0
      },
      "text/plain": [
       "data/input_data/merra2_precip_3/08/merra(…):   0%|          | 0.00/644k [00:00<?, ?B/s]"
      ]
     },
     "metadata": {},
     "output_type": "display_data"
    },
    {
     "data": {
      "application/vnd.jupyter.widget-view+json": {
       "model_id": "105bf7365d5749c3aa5dd4c71914b40f",
       "version_major": 2,
       "version_minor": 0
      },
      "text/plain": [
       "data/input_data/merra2_precip_3/08/merra(…):   0%|          | 0.00/644k [00:00<?, ?B/s]"
      ]
     },
     "metadata": {},
     "output_type": "display_data"
    },
    {
     "data": {
      "application/vnd.jupyter.widget-view+json": {
       "model_id": "631c33d4143c41c2946e260f187b1bab",
       "version_major": 2,
       "version_minor": 0
      },
      "text/plain": [
       "data/input_data/merra2_precip_3/08/merra(…):   0%|          | 0.00/647k [00:00<?, ?B/s]"
      ]
     },
     "metadata": {},
     "output_type": "display_data"
    },
    {
     "data": {
      "application/vnd.jupyter.widget-view+json": {
       "model_id": "7f42e2202f564f5a81f000a6bbfc8b03",
       "version_major": 2,
       "version_minor": 0
      },
      "text/plain": [
       "data/input_data/merra2_precip_3/08/merra(…):   0%|          | 0.00/645k [00:00<?, ?B/s]"
      ]
     },
     "metadata": {},
     "output_type": "display_data"
    },
    {
     "data": {
      "application/vnd.jupyter.widget-view+json": {
       "model_id": "cba2c879399746c2b465b2a1c752adb6",
       "version_major": 2,
       "version_minor": 0
      },
      "text/plain": [
       "data/input_data/merra2_precip_3/08/merra(…):   0%|          | 0.00/645k [00:00<?, ?B/s]"
      ]
     },
     "metadata": {},
     "output_type": "display_data"
    },
    {
     "data": {
      "application/vnd.jupyter.widget-view+json": {
       "model_id": "4f9471ba226348ad89c7f8fe7ebda653",
       "version_major": 2,
       "version_minor": 0
      },
      "text/plain": [
       "data/input_data/merra2_precip_3/08/merra(…):   0%|          | 0.00/645k [00:00<?, ?B/s]"
      ]
     },
     "metadata": {},
     "output_type": "display_data"
    },
    {
     "data": {
      "application/vnd.jupyter.widget-view+json": {
       "model_id": "fa13005c86964cb9a13375276e872f40",
       "version_major": 2,
       "version_minor": 0
      },
      "text/plain": [
       "data/input_data/merra2_precip_3/08/merra(…):   0%|          | 0.00/645k [00:00<?, ?B/s]"
      ]
     },
     "metadata": {},
     "output_type": "display_data"
    },
    {
     "data": {
      "application/vnd.jupyter.widget-view+json": {
       "model_id": "bb97d586b6f049b8b5da7be0fe453c44",
       "version_major": 2,
       "version_minor": 0
      },
      "text/plain": [
       "data/input_data/merra2_precip_3/08/merra(…):   0%|          | 0.00/643k [00:00<?, ?B/s]"
      ]
     },
     "metadata": {},
     "output_type": "display_data"
    },
    {
     "data": {
      "application/vnd.jupyter.widget-view+json": {
       "model_id": "c2f05006de494fa3895390d90fbc0b63",
       "version_major": 2,
       "version_minor": 0
      },
      "text/plain": [
       "data/input_data/merra2_precip_3/08/merra(…):   0%|          | 0.00/642k [00:00<?, ?B/s]"
      ]
     },
     "metadata": {},
     "output_type": "display_data"
    },
    {
     "data": {
      "application/vnd.jupyter.widget-view+json": {
       "model_id": "8d2efadaf3fb49dc9e4e1f5e87ebaca6",
       "version_major": 2,
       "version_minor": 0
      },
      "text/plain": [
       "data/input_data/merra2_precip_3/08/merra(…):   0%|          | 0.00/644k [00:00<?, ?B/s]"
      ]
     },
     "metadata": {},
     "output_type": "display_data"
    },
    {
     "data": {
      "application/vnd.jupyter.widget-view+json": {
       "model_id": "70258c913a674c688ddcd0a7a2bc0a49",
       "version_major": 2,
       "version_minor": 0
      },
      "text/plain": [
       "data/input_data/merra2_precip_3/08/merra(…):   0%|          | 0.00/642k [00:00<?, ?B/s]"
      ]
     },
     "metadata": {},
     "output_type": "display_data"
    },
    {
     "data": {
      "application/vnd.jupyter.widget-view+json": {
       "model_id": "9d9dbef2cfbb424ab82410de9af30813",
       "version_major": 2,
       "version_minor": 0
      },
      "text/plain": [
       "data/input_data/merra2_precip_3/08/merra(…):   0%|          | 0.00/644k [00:00<?, ?B/s]"
      ]
     },
     "metadata": {},
     "output_type": "display_data"
    },
    {
     "data": {
      "application/vnd.jupyter.widget-view+json": {
       "model_id": "d35272554ed44742b844a051d42fe844",
       "version_major": 2,
       "version_minor": 0
      },
      "text/plain": [
       "data/input_data/merra2_precip_3/08/merra(…):   0%|          | 0.00/644k [00:00<?, ?B/s]"
      ]
     },
     "metadata": {},
     "output_type": "display_data"
    },
    {
     "data": {
      "application/vnd.jupyter.widget-view+json": {
       "model_id": "57f7fa4f06db40d4a16d8a90eb2631ee",
       "version_major": 2,
       "version_minor": 0
      },
      "text/plain": [
       "data/input_data/merra2_precip_3/08/merra(…):   0%|          | 0.00/644k [00:00<?, ?B/s]"
      ]
     },
     "metadata": {},
     "output_type": "display_data"
    },
    {
     "data": {
      "application/vnd.jupyter.widget-view+json": {
       "model_id": "082448d3e6eb4945976a84b32218c67f",
       "version_major": 2,
       "version_minor": 0
      },
      "text/plain": [
       "data/input_data/merra2_precip_3/08/merra(…):   0%|          | 0.00/642k [00:00<?, ?B/s]"
      ]
     },
     "metadata": {},
     "output_type": "display_data"
    },
    {
     "data": {
      "application/vnd.jupyter.widget-view+json": {
       "model_id": "ac27990d319a485b9a9258d5c17f62d7",
       "version_major": 2,
       "version_minor": 0
      },
      "text/plain": [
       "data/input_data/merra2_precip_3/08/merra(…):   0%|          | 0.00/639k [00:00<?, ?B/s]"
      ]
     },
     "metadata": {},
     "output_type": "display_data"
    },
    {
     "data": {
      "application/vnd.jupyter.widget-view+json": {
       "model_id": "4ec04090fe4e464591abf94f5ab4b2e4",
       "version_major": 2,
       "version_minor": 0
      },
      "text/plain": [
       "data/input_data/merra2_precip_3/08/merra(…):   0%|          | 0.00/639k [00:00<?, ?B/s]"
      ]
     },
     "metadata": {},
     "output_type": "display_data"
    },
    {
     "data": {
      "application/vnd.jupyter.widget-view+json": {
       "model_id": "dc12ac937771497e89557d93f7b50e9d",
       "version_major": 2,
       "version_minor": 0
      },
      "text/plain": [
       "data/input_data/merra2_precip_3/08/merra(…):   0%|          | 0.00/640k [00:00<?, ?B/s]"
      ]
     },
     "metadata": {},
     "output_type": "display_data"
    },
    {
     "data": {
      "application/vnd.jupyter.widget-view+json": {
       "model_id": "674a3b8af0c84ff5b6e7dc39b2ba9e3b",
       "version_major": 2,
       "version_minor": 0
      },
      "text/plain": [
       "data/input_data/merra2_precip_3/08/merra(…):   0%|          | 0.00/642k [00:00<?, ?B/s]"
      ]
     },
     "metadata": {},
     "output_type": "display_data"
    },
    {
     "data": {
      "application/vnd.jupyter.widget-view+json": {
       "model_id": "e908392060d64add8d196f3952c84d37",
       "version_major": 2,
       "version_minor": 0
      },
      "text/plain": [
       "data/input_data/merra2_precip_3/08/merra(…):   0%|          | 0.00/641k [00:00<?, ?B/s]"
      ]
     },
     "metadata": {},
     "output_type": "display_data"
    },
    {
     "data": {
      "application/vnd.jupyter.widget-view+json": {
       "model_id": "502469778ebc46b0af3fcb56c064523b",
       "version_major": 2,
       "version_minor": 0
      },
      "text/plain": [
       "data/input_data/merra2_precip_3/08/merra(…):   0%|          | 0.00/641k [00:00<?, ?B/s]"
      ]
     },
     "metadata": {},
     "output_type": "display_data"
    },
    {
     "data": {
      "application/vnd.jupyter.widget-view+json": {
       "model_id": "d34cc91fbbed46a58907f6f256cc17b7",
       "version_major": 2,
       "version_minor": 0
      },
      "text/plain": [
       "data/input_data/merra2_precip_3/08/merra(…):   0%|          | 0.00/641k [00:00<?, ?B/s]"
      ]
     },
     "metadata": {},
     "output_type": "display_data"
    },
    {
     "data": {
      "application/vnd.jupyter.widget-view+json": {
       "model_id": "27038563057d4a9a8ecc79201beb6b97",
       "version_major": 2,
       "version_minor": 0
      },
      "text/plain": [
       "data/input_data/merra2_precip_3/08/merra(…):   0%|          | 0.00/641k [00:00<?, ?B/s]"
      ]
     },
     "metadata": {},
     "output_type": "display_data"
    },
    {
     "data": {
      "application/vnd.jupyter.widget-view+json": {
       "model_id": "64f9de117a6842c8bf5aa247a99c2408",
       "version_major": 2,
       "version_minor": 0
      },
      "text/plain": [
       "data/input_data/merra2_precip_3/08/merra(…):   0%|          | 0.00/639k [00:00<?, ?B/s]"
      ]
     },
     "metadata": {},
     "output_type": "display_data"
    },
    {
     "data": {
      "application/vnd.jupyter.widget-view+json": {
       "model_id": "0c9254f8fa47416793c38313086a9a03",
       "version_major": 2,
       "version_minor": 0
      },
      "text/plain": [
       "data/input_data/merra2_precip_3/08/merra(…):   0%|          | 0.00/640k [00:00<?, ?B/s]"
      ]
     },
     "metadata": {},
     "output_type": "display_data"
    },
    {
     "data": {
      "application/vnd.jupyter.widget-view+json": {
       "model_id": "0665e817da634cf6a27aeed42e0389df",
       "version_major": 2,
       "version_minor": 0
      },
      "text/plain": [
       "data/input_data/merra2_precip_3/08/merra(…):   0%|          | 0.00/641k [00:00<?, ?B/s]"
      ]
     },
     "metadata": {},
     "output_type": "display_data"
    },
    {
     "data": {
      "application/vnd.jupyter.widget-view+json": {
       "model_id": "0b439f560cd842ca912524c1894947bb",
       "version_major": 2,
       "version_minor": 0
      },
      "text/plain": [
       "data/input_data/merra2_precip_3/08/merra(…):   0%|          | 0.00/641k [00:00<?, ?B/s]"
      ]
     },
     "metadata": {},
     "output_type": "display_data"
    },
    {
     "data": {
      "application/vnd.jupyter.widget-view+json": {
       "model_id": "741e7e84b2d74c64b0b085bcc195628d",
       "version_major": 2,
       "version_minor": 0
      },
      "text/plain": [
       "data/input_data/merra2_precip_3/08/merra(…):   0%|          | 0.00/641k [00:00<?, ?B/s]"
      ]
     },
     "metadata": {},
     "output_type": "display_data"
    },
    {
     "data": {
      "application/vnd.jupyter.widget-view+json": {
       "model_id": "f4b619223e944789b987908c295b2228",
       "version_major": 2,
       "version_minor": 0
      },
      "text/plain": [
       "data/input_data/merra2_precip_3/08/merra(…):   0%|          | 0.00/642k [00:00<?, ?B/s]"
      ]
     },
     "metadata": {},
     "output_type": "display_data"
    },
    {
     "data": {
      "application/vnd.jupyter.widget-view+json": {
       "model_id": "762a7c1d94be436e8c50837d96e203b2",
       "version_major": 2,
       "version_minor": 0
      },
      "text/plain": [
       "data/input_data/merra2_precip_3/08/merra(…):   0%|          | 0.00/643k [00:00<?, ?B/s]"
      ]
     },
     "metadata": {},
     "output_type": "display_data"
    },
    {
     "data": {
      "application/vnd.jupyter.widget-view+json": {
       "model_id": "075141161d034370b49972f69f1ac1dc",
       "version_major": 2,
       "version_minor": 0
      },
      "text/plain": [
       "data/input_data/merra2_precip_3/08/merra(…):   0%|          | 0.00/642k [00:00<?, ?B/s]"
      ]
     },
     "metadata": {},
     "output_type": "display_data"
    },
    {
     "data": {
      "application/vnd.jupyter.widget-view+json": {
       "model_id": "d278ed9e51b340a1bd4a82799f0c74bf",
       "version_major": 2,
       "version_minor": 0
      },
      "text/plain": [
       "data/input_data/merra2_precip_3/08/merra(…):   0%|          | 0.00/641k [00:00<?, ?B/s]"
      ]
     },
     "metadata": {},
     "output_type": "display_data"
    },
    {
     "data": {
      "application/vnd.jupyter.widget-view+json": {
       "model_id": "259f0db7cbc64ebc9fee12097c87641e",
       "version_major": 2,
       "version_minor": 0
      },
      "text/plain": [
       "data/input_data/merra2_precip_3/08/merra(…):   0%|          | 0.00/640k [00:00<?, ?B/s]"
      ]
     },
     "metadata": {},
     "output_type": "display_data"
    },
    {
     "data": {
      "application/vnd.jupyter.widget-view+json": {
       "model_id": "88107bbe69ce49a6aebbb3d91467cbd8",
       "version_major": 2,
       "version_minor": 0
      },
      "text/plain": [
       "data/input_data/merra2_precip_3/08/merra(…):   0%|          | 0.00/641k [00:00<?, ?B/s]"
      ]
     },
     "metadata": {},
     "output_type": "display_data"
    },
    {
     "data": {
      "application/vnd.jupyter.widget-view+json": {
       "model_id": "e66172ad10004a7abc810f839b20ed30",
       "version_major": 2,
       "version_minor": 0
      },
      "text/plain": [
       "data/input_data/merra2_precip_3/08/merra(…):   0%|          | 0.00/641k [00:00<?, ?B/s]"
      ]
     },
     "metadata": {},
     "output_type": "display_data"
    },
    {
     "data": {
      "application/vnd.jupyter.widget-view+json": {
       "model_id": "c81161a3127a485991d24664e4232220",
       "version_major": 2,
       "version_minor": 0
      },
      "text/plain": [
       "data/input_data/merra2_precip_3/08/merra(…):   0%|          | 0.00/640k [00:00<?, ?B/s]"
      ]
     },
     "metadata": {},
     "output_type": "display_data"
    },
    {
     "data": {
      "application/vnd.jupyter.widget-view+json": {
       "model_id": "54bc9bf36c7741cbbe6ad8cc358c572c",
       "version_major": 2,
       "version_minor": 0
      },
      "text/plain": [
       "data/input_data/merra2_precip_3/08/merra(…):   0%|          | 0.00/641k [00:00<?, ?B/s]"
      ]
     },
     "metadata": {},
     "output_type": "display_data"
    },
    {
     "data": {
      "application/vnd.jupyter.widget-view+json": {
       "model_id": "ebe4abd34f4b4a8ebc6edf78f969762f",
       "version_major": 2,
       "version_minor": 0
      },
      "text/plain": [
       "data/input_data/merra2_precip_3/08/merra(…):   0%|          | 0.00/643k [00:00<?, ?B/s]"
      ]
     },
     "metadata": {},
     "output_type": "display_data"
    },
    {
     "data": {
      "application/vnd.jupyter.widget-view+json": {
       "model_id": "cea6743fb1544fadb42f08e09fda007b",
       "version_major": 2,
       "version_minor": 0
      },
      "text/plain": [
       "data/input_data/merra2_precip_3/08/merra(…):   0%|          | 0.00/642k [00:00<?, ?B/s]"
      ]
     },
     "metadata": {},
     "output_type": "display_data"
    },
    {
     "data": {
      "application/vnd.jupyter.widget-view+json": {
       "model_id": "4fa7156f56a54d1fab32be2cacb6e353",
       "version_major": 2,
       "version_minor": 0
      },
      "text/plain": [
       "data/input_data/merra2_precip_3/08/merra(…):   0%|          | 0.00/640k [00:00<?, ?B/s]"
      ]
     },
     "metadata": {},
     "output_type": "display_data"
    },
    {
     "data": {
      "application/vnd.jupyter.widget-view+json": {
       "model_id": "c54749721f5241f1a5f8d89523bc978e",
       "version_major": 2,
       "version_minor": 0
      },
      "text/plain": [
       "data/input_data/merra2_precip_3/08/merra(…):   0%|          | 0.00/641k [00:00<?, ?B/s]"
      ]
     },
     "metadata": {},
     "output_type": "display_data"
    },
    {
     "data": {
      "application/vnd.jupyter.widget-view+json": {
       "model_id": "01542de8235c444abeebe3ebac804414",
       "version_major": 2,
       "version_minor": 0
      },
      "text/plain": [
       "data/input_data/merra2_precip_3/08/merra(…):   0%|          | 0.00/643k [00:00<?, ?B/s]"
      ]
     },
     "metadata": {},
     "output_type": "display_data"
    },
    {
     "data": {
      "application/vnd.jupyter.widget-view+json": {
       "model_id": "6173b73c80a94e6f8df1de1cde0ae74c",
       "version_major": 2,
       "version_minor": 0
      },
      "text/plain": [
       "data/input_data/merra2_precip_3/08/merra(…):   0%|          | 0.00/643k [00:00<?, ?B/s]"
      ]
     },
     "metadata": {},
     "output_type": "display_data"
    },
    {
     "data": {
      "application/vnd.jupyter.widget-view+json": {
       "model_id": "d682d36ccd434c22a1895d3d3c3d4c72",
       "version_major": 2,
       "version_minor": 0
      },
      "text/plain": [
       "data/input_data/merra2_precip_3/2020/08/(…):   0%|          | 0.00/644k [00:00<?, ?B/s]"
      ]
     },
     "metadata": {},
     "output_type": "display_data"
    },
    {
     "data": {
      "application/vnd.jupyter.widget-view+json": {
       "model_id": "fa825ba6bbc1442ca6ccb5fba2fb5892",
       "version_major": 2,
       "version_minor": 0
      },
      "text/plain": [
       "data/input_data/merra2_precip_3/08/merra(…):   0%|          | 0.00/644k [00:00<?, ?B/s]"
      ]
     },
     "metadata": {},
     "output_type": "display_data"
    },
    {
     "data": {
      "application/vnd.jupyter.widget-view+json": {
       "model_id": "731fe2f57b4745eaa88a79ddaafec9db",
       "version_major": 2,
       "version_minor": 0
      },
      "text/plain": [
       "data/input_data/merra2_precip_3/2020/08/(…):   0%|          | 0.00/645k [00:00<?, ?B/s]"
      ]
     },
     "metadata": {},
     "output_type": "display_data"
    },
    {
     "data": {
      "application/vnd.jupyter.widget-view+json": {
       "model_id": "e3a606bb4d104a37b00846bf52aa8826",
       "version_major": 2,
       "version_minor": 0
      },
      "text/plain": [
       "data/input_data/merra2_precip_3/2020/08/(…):   0%|          | 0.00/645k [00:00<?, ?B/s]"
      ]
     },
     "metadata": {},
     "output_type": "display_data"
    },
    {
     "data": {
      "application/vnd.jupyter.widget-view+json": {
       "model_id": "de10175be10f4759be0bb707ac30dd36",
       "version_major": 2,
       "version_minor": 0
      },
      "text/plain": [
       "data/input_data/merra2_precip_3/2020/08/(…):   0%|          | 0.00/644k [00:00<?, ?B/s]"
      ]
     },
     "metadata": {},
     "output_type": "display_data"
    },
    {
     "data": {
      "application/vnd.jupyter.widget-view+json": {
       "model_id": "99dc0f6318574addbcc4641a8de31f93",
       "version_major": 2,
       "version_minor": 0
      },
      "text/plain": [
       "data/input_data/merra2_precip_3/2020/08/(…):   0%|          | 0.00/644k [00:00<?, ?B/s]"
      ]
     },
     "metadata": {},
     "output_type": "display_data"
    },
    {
     "data": {
      "application/vnd.jupyter.widget-view+json": {
       "model_id": "a37c7b077d494b92986af134c0440396",
       "version_major": 2,
       "version_minor": 0
      },
      "text/plain": [
       "data/input_data/merra2_precip_3/2020/08/(…):   0%|          | 0.00/644k [00:00<?, ?B/s]"
      ]
     },
     "metadata": {},
     "output_type": "display_data"
    },
    {
     "data": {
      "application/vnd.jupyter.widget-view+json": {
       "model_id": "7a74643a40974707b7bc6ec90ae94b7b",
       "version_major": 2,
       "version_minor": 0
      },
      "text/plain": [
       "data/input_data/merra2_precip_3/2020/08/(…):   0%|          | 0.00/647k [00:00<?, ?B/s]"
      ]
     },
     "metadata": {},
     "output_type": "display_data"
    },
    {
     "data": {
      "application/vnd.jupyter.widget-view+json": {
       "model_id": "1ac7a10a192a4edcbf658c585fe344e6",
       "version_major": 2,
       "version_minor": 0
      },
      "text/plain": [
       "data/input_data/merra2_precip_3/2020/08/(…):   0%|          | 0.00/645k [00:00<?, ?B/s]"
      ]
     },
     "metadata": {},
     "output_type": "display_data"
    },
    {
     "data": {
      "application/vnd.jupyter.widget-view+json": {
       "model_id": "7fdb64faad4e44c89451d0cc2e91628a",
       "version_major": 2,
       "version_minor": 0
      },
      "text/plain": [
       "data/input_data/merra2_precip_3/2020/08/(…):   0%|          | 0.00/645k [00:00<?, ?B/s]"
      ]
     },
     "metadata": {},
     "output_type": "display_data"
    },
    {
     "data": {
      "application/vnd.jupyter.widget-view+json": {
       "model_id": "322b71ba64b44491b1c71a69389b6b06",
       "version_major": 2,
       "version_minor": 0
      },
      "text/plain": [
       "data/input_data/merra2_precip_3/2020/08/(…):   0%|          | 0.00/645k [00:00<?, ?B/s]"
      ]
     },
     "metadata": {},
     "output_type": "display_data"
    },
    {
     "data": {
      "application/vnd.jupyter.widget-view+json": {
       "model_id": "db9fff61f70a43a6b442928046c45e8f",
       "version_major": 2,
       "version_minor": 0
      },
      "text/plain": [
       "data/input_data/merra2_precip_3/2020/08/(…):   0%|          | 0.00/645k [00:00<?, ?B/s]"
      ]
     },
     "metadata": {},
     "output_type": "display_data"
    },
    {
     "data": {
      "application/vnd.jupyter.widget-view+json": {
       "model_id": "db503214159d476e8c82e88b8314289f",
       "version_major": 2,
       "version_minor": 0
      },
      "text/plain": [
       "data/input_data/merra2_precip_3/2020/08/(…):   0%|          | 0.00/643k [00:00<?, ?B/s]"
      ]
     },
     "metadata": {},
     "output_type": "display_data"
    },
    {
     "data": {
      "application/vnd.jupyter.widget-view+json": {
       "model_id": "6a813b71d0624e09be8dd4d3ed67ea16",
       "version_major": 2,
       "version_minor": 0
      },
      "text/plain": [
       "data/input_data/merra2_precip_3/2020/08/(…):   0%|          | 0.00/642k [00:00<?, ?B/s]"
      ]
     },
     "metadata": {},
     "output_type": "display_data"
    },
    {
     "data": {
      "application/vnd.jupyter.widget-view+json": {
       "model_id": "eb1c1476f2ea41f5a41b0b790581a589",
       "version_major": 2,
       "version_minor": 0
      },
      "text/plain": [
       "data/input_data/merra2_precip_3/2020/08/(…):   0%|          | 0.00/642k [00:00<?, ?B/s]"
      ]
     },
     "metadata": {},
     "output_type": "display_data"
    },
    {
     "data": {
      "application/vnd.jupyter.widget-view+json": {
       "model_id": "a3e44d4f61944e65880748eb3d5d5253",
       "version_major": 2,
       "version_minor": 0
      },
      "text/plain": [
       "data/input_data/merra2_precip_3/2020/08/(…):   0%|          | 0.00/644k [00:00<?, ?B/s]"
      ]
     },
     "metadata": {},
     "output_type": "display_data"
    },
    {
     "data": {
      "application/vnd.jupyter.widget-view+json": {
       "model_id": "0b0a435d81444a82865ccefa961997c3",
       "version_major": 2,
       "version_minor": 0
      },
      "text/plain": [
       "data/input_data/merra2_precip_3/2020/08/(…):   0%|          | 0.00/644k [00:00<?, ?B/s]"
      ]
     },
     "metadata": {},
     "output_type": "display_data"
    },
    {
     "data": {
      "application/vnd.jupyter.widget-view+json": {
       "model_id": "d393a43f61b84049a9d439904fb1b477",
       "version_major": 2,
       "version_minor": 0
      },
      "text/plain": [
       "data/input_data/merra2_precip_3/2020/08/(…):   0%|          | 0.00/644k [00:00<?, ?B/s]"
      ]
     },
     "metadata": {},
     "output_type": "display_data"
    },
    {
     "data": {
      "application/vnd.jupyter.widget-view+json": {
       "model_id": "34aed98918144fc794db2ab27c92545a",
       "version_major": 2,
       "version_minor": 0
      },
      "text/plain": [
       "data/input_data/merra2_precip_3/2020/08/(…):   0%|          | 0.00/644k [00:00<?, ?B/s]"
      ]
     },
     "metadata": {},
     "output_type": "display_data"
    },
    {
     "data": {
      "application/vnd.jupyter.widget-view+json": {
       "model_id": "c1e8b60bac3c422685752a8a3b65a739",
       "version_major": 2,
       "version_minor": 0
      },
      "text/plain": [
       "data/input_data/merra2_precip_3/2020/08/(…):   0%|          | 0.00/639k [00:00<?, ?B/s]"
      ]
     },
     "metadata": {},
     "output_type": "display_data"
    },
    {
     "data": {
      "application/vnd.jupyter.widget-view+json": {
       "model_id": "6fff956e3b6140358889facb8b676c43",
       "version_major": 2,
       "version_minor": 0
      },
      "text/plain": [
       "data/input_data/merra2_precip_3/2020/08/(…):   0%|          | 0.00/639k [00:00<?, ?B/s]"
      ]
     },
     "metadata": {},
     "output_type": "display_data"
    },
    {
     "data": {
      "application/vnd.jupyter.widget-view+json": {
       "model_id": "ba4fd21406e84a7a9acb96e746658078",
       "version_major": 2,
       "version_minor": 0
      },
      "text/plain": [
       "data/input_data/merra2_precip_3/2020/08/(…):   0%|          | 0.00/642k [00:00<?, ?B/s]"
      ]
     },
     "metadata": {},
     "output_type": "display_data"
    },
    {
     "data": {
      "application/vnd.jupyter.widget-view+json": {
       "model_id": "2eafd27718dc463db0e37c5a4a3bc84c",
       "version_major": 2,
       "version_minor": 0
      },
      "text/plain": [
       "data/input_data/merra2_precip_3/2020/08/(…):   0%|          | 0.00/640k [00:00<?, ?B/s]"
      ]
     },
     "metadata": {},
     "output_type": "display_data"
    },
    {
     "data": {
      "application/vnd.jupyter.widget-view+json": {
       "model_id": "34406886550045d8ad4d4f3e8b664490",
       "version_major": 2,
       "version_minor": 0
      },
      "text/plain": [
       "data/input_data/merra2_precip_3/2020/08/(…):   0%|          | 0.00/642k [00:00<?, ?B/s]"
      ]
     },
     "metadata": {},
     "output_type": "display_data"
    },
    {
     "data": {
      "application/vnd.jupyter.widget-view+json": {
       "model_id": "9477bbe4ee5c481bbdac52da35191096",
       "version_major": 2,
       "version_minor": 0
      },
      "text/plain": [
       "data/input_data/merra2_precip_3/2020/08/(…):   0%|          | 0.00/641k [00:00<?, ?B/s]"
      ]
     },
     "metadata": {},
     "output_type": "display_data"
    },
    {
     "data": {
      "application/vnd.jupyter.widget-view+json": {
       "model_id": "acb813d4b3914389a1bf7e3983e7f97a",
       "version_major": 2,
       "version_minor": 0
      },
      "text/plain": [
       "data/input_data/merra2_precip_3/2020/08/(…):   0%|          | 0.00/641k [00:00<?, ?B/s]"
      ]
     },
     "metadata": {},
     "output_type": "display_data"
    },
    {
     "data": {
      "application/vnd.jupyter.widget-view+json": {
       "model_id": "384aaf110a0f4bb396e3b37e692d26c2",
       "version_major": 2,
       "version_minor": 0
      },
      "text/plain": [
       "data/input_data/merra2_precip_3/2020/08/(…):   0%|          | 0.00/641k [00:00<?, ?B/s]"
      ]
     },
     "metadata": {},
     "output_type": "display_data"
    },
    {
     "data": {
      "application/vnd.jupyter.widget-view+json": {
       "model_id": "8acf06afb6a0461e9762b29cecf79acd",
       "version_major": 2,
       "version_minor": 0
      },
      "text/plain": [
       "data/input_data/merra2_precip_3/2020/08/(…):   0%|          | 0.00/639k [00:00<?, ?B/s]"
      ]
     },
     "metadata": {},
     "output_type": "display_data"
    },
    {
     "data": {
      "application/vnd.jupyter.widget-view+json": {
       "model_id": "81beaa332e5c4838b207fce44417dc2d",
       "version_major": 2,
       "version_minor": 0
      },
      "text/plain": [
       "data/input_data/merra2_precip_3/2020/08/(…):   0%|          | 0.00/641k [00:00<?, ?B/s]"
      ]
     },
     "metadata": {},
     "output_type": "display_data"
    },
    {
     "data": {
      "application/vnd.jupyter.widget-view+json": {
       "model_id": "acd1045e7b33478988c3825692e62a62",
       "version_major": 2,
       "version_minor": 0
      },
      "text/plain": [
       "data/input_data/merra2_precip_3/2020/08/(…):   0%|          | 0.00/640k [00:00<?, ?B/s]"
      ]
     },
     "metadata": {},
     "output_type": "display_data"
    },
    {
     "data": {
      "application/vnd.jupyter.widget-view+json": {
       "model_id": "7608ac55813a417fb4895eb1cb8a53d3",
       "version_major": 2,
       "version_minor": 0
      },
      "text/plain": [
       "data/input_data/merra2_precip_3/2020/08/(…):   0%|          | 0.00/641k [00:00<?, ?B/s]"
      ]
     },
     "metadata": {},
     "output_type": "display_data"
    },
    {
     "data": {
      "application/vnd.jupyter.widget-view+json": {
       "model_id": "00f85f6ca824410b91ca0ab44633c2e8",
       "version_major": 2,
       "version_minor": 0
      },
      "text/plain": [
       "data/input_data/merra2_precip_3/2020/08/(…):   0%|          | 0.00/641k [00:00<?, ?B/s]"
      ]
     },
     "metadata": {},
     "output_type": "display_data"
    },
    {
     "data": {
      "application/vnd.jupyter.widget-view+json": {
       "model_id": "1e0184eb3313425a814fdec8d3245c5e",
       "version_major": 2,
       "version_minor": 0
      },
      "text/plain": [
       "data/input_data/merra2_precip_3/2020/08/(…):   0%|          | 0.00/643k [00:00<?, ?B/s]"
      ]
     },
     "metadata": {},
     "output_type": "display_data"
    },
    {
     "data": {
      "application/vnd.jupyter.widget-view+json": {
       "model_id": "d7f7c9ff043f4c56b3061a52c5827875",
       "version_major": 2,
       "version_minor": 0
      },
      "text/plain": [
       "data/input_data/merra2_precip_3/2020/08/(…):   0%|          | 0.00/641k [00:00<?, ?B/s]"
      ]
     },
     "metadata": {},
     "output_type": "display_data"
    },
    {
     "data": {
      "application/vnd.jupyter.widget-view+json": {
       "model_id": "ea26f95baaa34fefbd01ccbe709de401",
       "version_major": 2,
       "version_minor": 0
      },
      "text/plain": [
       "data/input_data/merra2_precip_3/2020/08/(…):   0%|          | 0.00/642k [00:00<?, ?B/s]"
      ]
     },
     "metadata": {},
     "output_type": "display_data"
    },
    {
     "data": {
      "application/vnd.jupyter.widget-view+json": {
       "model_id": "b611f3099dd44855945e658fbc5f3842",
       "version_major": 2,
       "version_minor": 0
      },
      "text/plain": [
       "data/input_data/merra2_precip_3/2020/08/(…):   0%|          | 0.00/641k [00:00<?, ?B/s]"
      ]
     },
     "metadata": {},
     "output_type": "display_data"
    },
    {
     "data": {
      "application/vnd.jupyter.widget-view+json": {
       "model_id": "6c66dca40f594abe8558c958fc817c7d",
       "version_major": 2,
       "version_minor": 0
      },
      "text/plain": [
       "data/input_data/merra2_precip_3/2020/08/(…):   0%|          | 0.00/642k [00:00<?, ?B/s]"
      ]
     },
     "metadata": {},
     "output_type": "display_data"
    },
    {
     "data": {
      "application/vnd.jupyter.widget-view+json": {
       "model_id": "e1aa826903f64fe5a41d7cf232cbe7b1",
       "version_major": 2,
       "version_minor": 0
      },
      "text/plain": [
       "data/input_data/merra2_precip_3/2020/08/(…):   0%|          | 0.00/640k [00:00<?, ?B/s]"
      ]
     },
     "metadata": {},
     "output_type": "display_data"
    },
    {
     "data": {
      "application/vnd.jupyter.widget-view+json": {
       "model_id": "cacfdc0cf2044a7189f026b8e18b1a7e",
       "version_major": 2,
       "version_minor": 0
      },
      "text/plain": [
       "data/input_data/merra2_precip_3/2020/08/(…):   0%|          | 0.00/641k [00:00<?, ?B/s]"
      ]
     },
     "metadata": {},
     "output_type": "display_data"
    },
    {
     "data": {
      "application/vnd.jupyter.widget-view+json": {
       "model_id": "415296b3a09e4ecab619afdcbde6760c",
       "version_major": 2,
       "version_minor": 0
      },
      "text/plain": [
       "data/input_data/merra2_precip_3/2020/08/(…):   0%|          | 0.00/641k [00:00<?, ?B/s]"
      ]
     },
     "metadata": {},
     "output_type": "display_data"
    },
    {
     "data": {
      "application/vnd.jupyter.widget-view+json": {
       "model_id": "d5a2097d62b043a6838aa7ef86087da0",
       "version_major": 2,
       "version_minor": 0
      },
      "text/plain": [
       "data/input_data/merra2_precip_3/2020/08/(…):   0%|          | 0.00/640k [00:00<?, ?B/s]"
      ]
     },
     "metadata": {},
     "output_type": "display_data"
    },
    {
     "data": {
      "application/vnd.jupyter.widget-view+json": {
       "model_id": "429c83eed838471897929d53b3c5954e",
       "version_major": 2,
       "version_minor": 0
      },
      "text/plain": [
       "data/input_data/merra2_precip_3/2020/08/(…):   0%|          | 0.00/641k [00:00<?, ?B/s]"
      ]
     },
     "metadata": {},
     "output_type": "display_data"
    },
    {
     "data": {
      "application/vnd.jupyter.widget-view+json": {
       "model_id": "8837222cd1c5454ab1ee23bb943b5376",
       "version_major": 2,
       "version_minor": 0
      },
      "text/plain": [
       "data/input_data/merra2_precip_3/2020/08/(…):   0%|          | 0.00/643k [00:00<?, ?B/s]"
      ]
     },
     "metadata": {},
     "output_type": "display_data"
    },
    {
     "data": {
      "application/vnd.jupyter.widget-view+json": {
       "model_id": "b67b99229ff145aca5f95ff8bcd7f281",
       "version_major": 2,
       "version_minor": 0
      },
      "text/plain": [
       "data/input_data/merra2_precip_3/2020/08/(…):   0%|          | 0.00/641k [00:00<?, ?B/s]"
      ]
     },
     "metadata": {},
     "output_type": "display_data"
    },
    {
     "data": {
      "application/vnd.jupyter.widget-view+json": {
       "model_id": "07558337c9dd49dcac7472b883b61e6d",
       "version_major": 2,
       "version_minor": 0
      },
      "text/plain": [
       "data/input_data/merra2_precip_3/2020/08/(…):   0%|          | 0.00/643k [00:00<?, ?B/s]"
      ]
     },
     "metadata": {},
     "output_type": "display_data"
    },
    {
     "data": {
      "application/vnd.jupyter.widget-view+json": {
       "model_id": "600ad64d87e94c668c1e8b170b5d594f",
       "version_major": 2,
       "version_minor": 0
      },
      "text/plain": [
       "data/input_data/merra2_precip_3/2020/08/(…):   0%|          | 0.00/640k [00:00<?, ?B/s]"
      ]
     },
     "metadata": {},
     "output_type": "display_data"
    },
    {
     "data": {
      "application/vnd.jupyter.widget-view+json": {
       "model_id": "a0b7ac452ad24013ab802f1f76756786",
       "version_major": 2,
       "version_minor": 0
      },
      "text/plain": [
       "data/input_data/merra2_precip_3/2020/08/(…):   0%|          | 0.00/642k [00:00<?, ?B/s]"
      ]
     },
     "metadata": {},
     "output_type": "display_data"
    },
    {
     "data": {
      "application/vnd.jupyter.widget-view+json": {
       "model_id": "a92791aa295e4f40be4f75f234dd3336",
       "version_major": 2,
       "version_minor": 0
      },
      "text/plain": [
       "data/input_data/merra2_precip_3/2020/08/(…):   0%|          | 0.00/643k [00:00<?, ?B/s]"
      ]
     },
     "metadata": {},
     "output_type": "display_data"
    },
    {
     "data": {
      "application/vnd.jupyter.widget-view+json": {
       "model_id": "16f55c58012248279057ed0f532de548",
       "version_major": 2,
       "version_minor": 0
      },
      "text/plain": [
       "data/input_data/obs/2020/08/26/obs_20200(…):   0%|          | 0.00/11.5M [00:00<?, ?B/s]"
      ]
     },
     "metadata": {},
     "output_type": "display_data"
    },
    {
     "data": {
      "application/vnd.jupyter.widget-view+json": {
       "model_id": "dd73ada8c3b24afaa265d8462b88fed6",
       "version_major": 2,
       "version_minor": 0
      },
      "text/plain": [
       "data/input_data/obs/2020/08/26/obs_20200(…):   0%|          | 0.00/11.2M [00:00<?, ?B/s]"
      ]
     },
     "metadata": {},
     "output_type": "display_data"
    },
    {
     "data": {
      "application/vnd.jupyter.widget-view+json": {
       "model_id": "809248a573ae45f7a15190c5fd564330",
       "version_major": 2,
       "version_minor": 0
      },
      "text/plain": [
       "data/input_data/obs/2020/08/26/obs_20200(…):   0%|          | 0.00/10.8M [00:00<?, ?B/s]"
      ]
     },
     "metadata": {},
     "output_type": "display_data"
    },
    {
     "data": {
      "application/vnd.jupyter.widget-view+json": {
       "model_id": "4dd883382c134bf789a21316021e93e6",
       "version_major": 2,
       "version_minor": 0
      },
      "text/plain": [
       "data/input_data/obs/2020/08/26/obs_20200(…):   0%|          | 0.00/10.4M [00:00<?, ?B/s]"
      ]
     },
     "metadata": {},
     "output_type": "display_data"
    },
    {
     "data": {
      "application/vnd.jupyter.widget-view+json": {
       "model_id": "94cacfbc4ac540a1b9d9dbf82a8767f2",
       "version_major": 2,
       "version_minor": 0
      },
      "text/plain": [
       "data/input_data/obs/2020/08/26/obs_20200(…):   0%|          | 0.00/12.2M [00:00<?, ?B/s]"
      ]
     },
     "metadata": {},
     "output_type": "display_data"
    },
    {
     "data": {
      "application/vnd.jupyter.widget-view+json": {
       "model_id": "fa946740492f4695877d28c162d13522",
       "version_major": 2,
       "version_minor": 0
      },
      "text/plain": [
       "data/input_data/obs/2020/08/26/obs_20200(…):   0%|          | 0.00/10.3M [00:00<?, ?B/s]"
      ]
     },
     "metadata": {},
     "output_type": "display_data"
    },
    {
     "data": {
      "application/vnd.jupyter.widget-view+json": {
       "model_id": "597da5512875488daabaa774bc41e2d4",
       "version_major": 2,
       "version_minor": 0
      },
      "text/plain": [
       "data/input_data/merra2_precip_3/2020/08/(…):   0%|          | 0.00/644k [00:00<?, ?B/s]"
      ]
     },
     "metadata": {},
     "output_type": "display_data"
    },
    {
     "data": {
      "application/vnd.jupyter.widget-view+json": {
       "model_id": "77fdc06a90be45faab7b4c279f044052",
       "version_major": 2,
       "version_minor": 0
      },
      "text/plain": [
       "data/input_data/obs/2020/08/26/obs_20200(…):   0%|          | 0.00/11.7M [00:00<?, ?B/s]"
      ]
     },
     "metadata": {},
     "output_type": "display_data"
    },
    {
     "data": {
      "application/vnd.jupyter.widget-view+json": {
       "model_id": "37e0efccd484456590bec0096c747cd4",
       "version_major": 2,
       "version_minor": 0
      },
      "text/plain": [
       "data/input_data/obs/2020/08/26/obs_20200(…):   0%|          | 0.00/13.9M [00:00<?, ?B/s]"
      ]
     },
     "metadata": {},
     "output_type": "display_data"
    },
    {
     "data": {
      "application/vnd.jupyter.widget-view+json": {
       "model_id": "05535cba3e414e87aeff19d93cd9150b",
       "version_major": 2,
       "version_minor": 0
      },
      "text/plain": [
       "data/input_data/obs/2020/08/27/obs_20200(…):   0%|          | 0.00/5.76M [00:00<?, ?B/s]"
      ]
     },
     "metadata": {},
     "output_type": "display_data"
    },
    {
     "data": {
      "application/vnd.jupyter.widget-view+json": {
       "model_id": "09947d4888d54159b8f2f4beccbb5088",
       "version_major": 2,
       "version_minor": 0
      },
      "text/plain": [
       "data/input_data/obs/2020/08/27/obs_20200(…):   0%|          | 0.00/6.61M [00:00<?, ?B/s]"
      ]
     },
     "metadata": {},
     "output_type": "display_data"
    },
    {
     "data": {
      "application/vnd.jupyter.widget-view+json": {
       "model_id": "89901827d66943158aedf01270efaa68",
       "version_major": 2,
       "version_minor": 0
      },
      "text/plain": [
       "data/input_data/obs/2020/08/27/obs_20200(…):   0%|          | 0.00/6.15M [00:00<?, ?B/s]"
      ]
     },
     "metadata": {},
     "output_type": "display_data"
    },
    {
     "data": {
      "application/vnd.jupyter.widget-view+json": {
       "model_id": "ccd312b20944471088cf19410a62c537",
       "version_major": 2,
       "version_minor": 0
      },
      "text/plain": [
       "data/input_data/obs/2020/08/27/obs_20200(…):   0%|          | 0.00/6.55M [00:00<?, ?B/s]"
      ]
     },
     "metadata": {},
     "output_type": "display_data"
    },
    {
     "data": {
      "application/vnd.jupyter.widget-view+json": {
       "model_id": "a69a3406281648ed9b80918146c1d8b0",
       "version_major": 2,
       "version_minor": 0
      },
      "text/plain": [
       "data/input_data/obs/2020/08/27/obs_20200(…):   0%|          | 0.00/6.08M [00:00<?, ?B/s]"
      ]
     },
     "metadata": {},
     "output_type": "display_data"
    },
    {
     "data": {
      "application/vnd.jupyter.widget-view+json": {
       "model_id": "d7e2ce38c101431897f7cb10977ce832",
       "version_major": 2,
       "version_minor": 0
      },
      "text/plain": [
       "data/input_data/obs/2020/08/27/obs_20200(…):   0%|          | 0.00/6.09M [00:00<?, ?B/s]"
      ]
     },
     "metadata": {},
     "output_type": "display_data"
    },
    {
     "data": {
      "application/vnd.jupyter.widget-view+json": {
       "model_id": "dd035f7062fb4023a3d0198f87f300dd",
       "version_major": 2,
       "version_minor": 0
      },
      "text/plain": [
       "data/input_data/obs/2020/08/27/obs_20200(…):   0%|          | 0.00/6.68M [00:00<?, ?B/s]"
      ]
     },
     "metadata": {},
     "output_type": "display_data"
    },
    {
     "data": {
      "application/vnd.jupyter.widget-view+json": {
       "model_id": "6a8fd219cb2b4bf1b8697c26012135f9",
       "version_major": 2,
       "version_minor": 0
      },
      "text/plain": [
       "data/input_data/obs/2020/08/27/obs_20200(…):   0%|          | 0.00/6.45M [00:00<?, ?B/s]"
      ]
     },
     "metadata": {},
     "output_type": "display_data"
    },
    {
     "data": {
      "application/vnd.jupyter.widget-view+json": {
       "model_id": "970f10f04e2944d78adc96a54343ff7a",
       "version_major": 2,
       "version_minor": 0
      },
      "text/plain": [
       "data/input_data/obs/2020/08/28/obs_20200(…):   0%|          | 0.00/6.57M [00:00<?, ?B/s]"
      ]
     },
     "metadata": {},
     "output_type": "display_data"
    },
    {
     "data": {
      "application/vnd.jupyter.widget-view+json": {
       "model_id": "f72a8a07477b4d35b183844229d007b6",
       "version_major": 2,
       "version_minor": 0
      },
      "text/plain": [
       "data/input_data/obs/2020/08/28/obs_20200(…):   0%|          | 0.00/5.72M [00:00<?, ?B/s]"
      ]
     },
     "metadata": {},
     "output_type": "display_data"
    },
    {
     "data": {
      "application/vnd.jupyter.widget-view+json": {
       "model_id": "ebd2331b0b8d45e2937e8ae40d2c1a30",
       "version_major": 2,
       "version_minor": 0
      },
      "text/plain": [
       "data/input_data/obs/2020/08/28/obs_20200(…):   0%|          | 0.00/6.50M [00:00<?, ?B/s]"
      ]
     },
     "metadata": {},
     "output_type": "display_data"
    },
    {
     "data": {
      "application/vnd.jupyter.widget-view+json": {
       "model_id": "3937a0843f48464e99c0c148ad2f488f",
       "version_major": 2,
       "version_minor": 0
      },
      "text/plain": [
       "data/input_data/obs/2020/08/28/obs_20200(…):   0%|          | 0.00/6.09M [00:00<?, ?B/s]"
      ]
     },
     "metadata": {},
     "output_type": "display_data"
    },
    {
     "data": {
      "application/vnd.jupyter.widget-view+json": {
       "model_id": "7236b5c720a044cfac4835be7dbd988e",
       "version_major": 2,
       "version_minor": 0
      },
      "text/plain": [
       "data/input_data/obs/2020/08/28/obs_20200(…):   0%|          | 0.00/6.64M [00:00<?, ?B/s]"
      ]
     },
     "metadata": {},
     "output_type": "display_data"
    },
    {
     "data": {
      "application/vnd.jupyter.widget-view+json": {
       "model_id": "e32512e58df644b2994cddf657ad298c",
       "version_major": 2,
       "version_minor": 0
      },
      "text/plain": [
       "data/input_data/obs/2020/08/28/obs_20200(…):   0%|          | 0.00/6.08M [00:00<?, ?B/s]"
      ]
     },
     "metadata": {},
     "output_type": "display_data"
    },
    {
     "data": {
      "application/vnd.jupyter.widget-view+json": {
       "model_id": "ca341df16b074ba0828a6dc8d022685e",
       "version_major": 2,
       "version_minor": 0
      },
      "text/plain": [
       "data/input_data/obs/2020/08/28/obs_20200(…):   0%|          | 0.00/6.07M [00:00<?, ?B/s]"
      ]
     },
     "metadata": {},
     "output_type": "display_data"
    },
    {
     "data": {
      "application/vnd.jupyter.widget-view+json": {
       "model_id": "b2523d401c2746f48411b88003a58ae1",
       "version_major": 2,
       "version_minor": 0
      },
      "text/plain": [
       "data/input_data/obs/2020/08/28/obs_20200(…):   0%|          | 0.00/6.92M [00:00<?, ?B/s]"
      ]
     },
     "metadata": {},
     "output_type": "display_data"
    },
    {
     "data": {
      "application/vnd.jupyter.widget-view+json": {
       "model_id": "198aba3e6c4942c58ac0b3655ebe1b0c",
       "version_major": 2,
       "version_minor": 0
      },
      "text/plain": [
       "data/input_data/obs/stats.nc:   0%|          | 0.00/233k [00:00<?, ?B/s]"
      ]
     },
     "metadata": {},
     "output_type": "display_data"
    },
    {
     "data": {
      "application/vnd.jupyter.widget-view+json": {
       "model_id": "a9bf695dda0a4c808ac75ac31d87f165",
       "version_major": 2,
       "version_minor": 0
      },
      "text/plain": [
       "anomaly_variance_surface.nc:   0%|          | 0.00/11.8k [00:00<?, ?B/s]"
      ]
     },
     "metadata": {},
     "output_type": "display_data"
    },
    {
     "data": {
      "application/vnd.jupyter.widget-view+json": {
       "model_id": "67111b09cfe949c5baf755dc9c45afed",
       "version_major": 2,
       "version_minor": 0
      },
      "text/plain": [
       "anomaly_variance_vertical.nc:   0%|          | 0.00/38.2k [00:00<?, ?B/s]"
      ]
     },
     "metadata": {},
     "output_type": "display_data"
    },
    {
     "data": {
      "application/vnd.jupyter.widget-view+json": {
       "model_id": "a0f40c8416724351a4a7e6cd77905fae",
       "version_major": 2,
       "version_minor": 0
      },
      "text/plain": [
       "musigma_surface.nc:   0%|          | 0.00/79.3k [00:00<?, ?B/s]"
      ]
     },
     "metadata": {},
     "output_type": "display_data"
    },
    {
     "data": {
      "application/vnd.jupyter.widget-view+json": {
       "model_id": "995aa878adea4eed900cac190f2182af",
       "version_major": 2,
       "version_minor": 0
      },
      "text/plain": [
       "musigma_vertical.nc:   0%|          | 0.00/49.9k [00:00<?, ?B/s]"
      ]
     },
     "metadata": {},
     "output_type": "display_data"
    },
    {
     "data": {
      "application/vnd.jupyter.widget-view+json": {
       "model_id": "8f1de25c245e4e2680ac7c877d0a6f28",
       "version_major": 2,
       "version_minor": 0
      },
      "text/plain": [
       "data/static/static.nc:   0%|          | 0.00/12.2M [00:00<?, ?B/s]"
      ]
     },
     "metadata": {},
     "output_type": "display_data"
    },
    {
     "data": {
      "application/vnd.jupyter.widget-view+json": {
       "model_id": "962fcbc261ce4c5a824b821de56b03be",
       "version_major": 2,
       "version_minor": 0
      },
      "text/plain": [
       "prithvi_precip_obs.pt:   0%|          | 0.00/1.36G [00:00<?, ?B/s]"
      ]
     },
     "metadata": {},
     "output_type": "display_data"
    }
   ],
   "source": [
    "from huggingface_hub import snapshot_download\n",
    "\n",
    "\n",
    "local_dir = snapshot_download(\n",
    "    repo_id=\"simonpf/prithvi_precip\",\n",
    "    local_dir=\".\"\n",
    ")"
   ]
  },
  {
   "cell_type": "markdown",
   "id": "5602b2ab-7418-420f-9576-9648ae48784c",
   "metadata": {},
   "source": [
    "The input data is downloaded to the ``data`` dir. The directory contains the static data that the Prithvi-WxC model requires such as the climatology, scaling factors, static input data, as well as the dynamic input data and reference precipitation data."
   ]
  },
  {
   "cell_type": "markdown",
   "id": "970b1584-7496-463b-a132-1f0a0379c4ba",
   "metadata": {},
   "source": [
    "## Loading the model\n",
    "\n",
    "The Prithvi Precip is a slightly modified version of the Prithvi-WxC model. It adds two components to the model:\n",
    "\n",
    "- An observation encoder\n",
    "- A MLP head that predicts precipitation from the original model output.\n",
    "\n",
    "The code for the model itself is part of the [pytorch_retrieve](https://github.com/simonpf/pytorch_retrieve) package. This package was originally developed to simplify building precipitation retrievals (hence the name)  but it now also handles forecasts. The implementation can be found [here](https://github.com/simonpf/pytorch_retrieve/blob/8910dce482cfe4e7259415e727e9323afbfe8a33/pytorch_retrieve/models/prithvi_wxc.py#L374). \n",
    "\n",
    "I provide this here mostly as a future reference in case this may be useful if you aim to develop your own models built on the Prithvi-WxC FM. It is not critical for understanding the remainder of this notebook.\n"
   ]
  },
  {
   "cell_type": "code",
   "execution_count": 23,
   "id": "68fd9b26-dc48-48da-b810-e022a9ae4f3f",
   "metadata": {},
   "outputs": [
    {
     "name": "stdout",
     "output_type": "stream",
     "text": [
      "env: PRITHVI_DATA_PATH=data/scaling_factors\n"
     ]
    }
   ],
   "source": [
    "%env PRITHVI_DATA_PATH=data/scaling_factors"
   ]
  },
  {
   "cell_type": "code",
   "execution_count": 30,
   "id": "f1c23e3b-45c1-49d7-87c3-f6b58c31cc1e",
   "metadata": {},
   "outputs": [],
   "source": [
    "from pytorch_retrieve import load_model\n",
    "model = load_model(\"prithvi_precip_obs.pt\").eval()"
   ]
  },
  {
   "cell_type": "markdown",
   "id": "b04ba602-b671-43d7-9769-0a7b4c97bea8",
   "metadata": {},
   "source": [
    "## Input data\n",
    "\n",
    "The input data expected by the Prithvi Precip is very similar to that of the Prithvi-WxC model. Just as the Prithvi-WxC model, the model expects a dictionary containing the dynamic input (``x``), static input (``static``), the climatology (``climatology``), as well as the lead time in hours (``lead_time``) and the time difference between the two input steps (``input_time``).\n",
    "\n",
    "Additionally, the model expects two tensors ``obs`` and ``obs_meta`` containing the satellite observations and their meta data. The meta data is information describing the observations. It consists of:\n",
    "\n",
    " - The log of the observations frequency\n",
    " - The channel offsets for passive microwave channels with symmetric offsets (0 for all others)\n",
    " - The relative time within the input data window.\n",
    " - One-hot encoded polarization: \"H\", \"V\", \"QH\", \"QV\", or none."
   ]
  },
  {
   "cell_type": "markdown",
   "id": "36b6dd75-90c2-484f-b6fa-46fec1a24a73",
   "metadata": {},
   "source": [
    "### Loading data\n",
    "\n",
    "The loading is again performed using a custom dataset class."
   ]
  },
  {
   "cell_type": "code",
   "execution_count": 33,
   "id": "cb9a23e2-713a-49d5-9ae0-7177cb46a52b",
   "metadata": {},
   "outputs": [
    {
     "ename": "ModuleNotFoundError",
     "evalue": "No module named 'prithvi_precip'",
     "output_type": "error",
     "traceback": [
      "\u001b[0;31m---------------------------------------------------------------------------\u001b[0m",
      "\u001b[0;31mModuleNotFoundError\u001b[0m                       Traceback (most recent call last)",
      "Cell \u001b[0;32mIn[33], line 1\u001b[0m\n\u001b[0;32m----> 1\u001b[0m \u001b[38;5;28;01mfrom\u001b[39;00m \u001b[38;5;21;01mprithvi_precip\u001b[39;00m\u001b[38;5;21;01m.\u001b[39;00m\u001b[38;5;21;01mdatasets\u001b[39;00m \u001b[38;5;28;01mimport\u001b[39;00m DirectPrecipForecastWithObsDataset\n\u001b[1;32m      3\u001b[0m dataset \u001b[38;5;241m=\u001b[39m DirectPrecipForecastWithObsDataset(\n\u001b[1;32m      4\u001b[0m     \u001b[38;5;124m\"\u001b[39m\u001b[38;5;124m/home/simon/src/prithvi_precip_hf/data/input_data/\u001b[39m\u001b[38;5;124m\"\u001b[39m\n\u001b[1;32m      5\u001b[0m )\n\u001b[1;32m      6\u001b[0m initialization_time \u001b[38;5;241m=\u001b[39m np\u001b[38;5;241m.\u001b[39mdatetime64(\u001b[38;5;124m\"\u001b[39m\u001b[38;5;124m2020-08-26T12:00:00\u001b[39m\u001b[38;5;124m\"\u001b[39m)\n",
      "\u001b[0;31mModuleNotFoundError\u001b[0m: No module named 'prithvi_precip'"
     ]
    }
   ],
   "source": [
    "from prithvi_precip.datasets import DirectPrecipForecastWithObsDataset\n",
    "\n",
    "dataset = DirectPrecipForecastWithObsDataset(\n",
    "    \"/home/simon/src/prithvi_precip_hf/data/input_data/\"\n",
    ")\n",
    "initialization_time = np.datetime64(\"2020-08-26T12:00:00\")\n",
    "input_data = dataset.get_direct_forecast_input(initialization_time, 1)"
   ]
  },
  {
   "cell_type": "markdown",
   "id": "63f3ec0d-88e3-439f-8a16-b739dac66778",
   "metadata": {},
   "source": [
    "## Forecast from MERRA data\n",
    "\n",
    "As a baseline, we will run a precipitation forecast using only the MERRA-2 data as input. An important difference to the original Pritvhvi-WxC model is that the Prithvi Precip model does not require unrolling because it has been trained to predict lead time from 3 to 96 hours.\n",
    "\n",
    "> **Note**: We set ``model_only=True``. This sets all observations in the input to 0 forcing the model to ignore them."
   ]
  },
  {
   "cell_type": "code",
   "execution_count": null,
   "id": "4ff1bb3b-3fe2-4a06-8183-46c1dcc56505",
   "metadata": {
    "scrolled": true
   },
   "outputs": [],
   "source": [
    "import torch\n",
    "from tqdm import tqdm\n",
    "\n",
    "device = \"cuda:1\"\n",
    "dtype = torch.float32\n",
    "forecast_steps = 16\n",
    "\n",
    "model = model.to(device=device, dtype=dtype)\n",
    "\n",
    "batch_iterator = dataset.get_batched_direct_forecast_input(initialization_time, n_steps=forecast_steps, batch_size=1)\n",
    "results = []\n",
    "\n",
    "step = 1\n",
    "for inpt in tqdm(batch_iterator, total=forecast_steps, desc=\"Running forecast\"):\n",
    "    lats = np.rad2deg(inpt[\"static\"][0, 0].float().cpu().numpy())[:, 0]\n",
    "    lons = np.rad2deg(inpt[\"static\"][0, 1].float().cpu().numpy())[0]\n",
    "    valid_time = initialization_time + np.timedelta64(3, \"h\") * step\n",
    "    step += 1\n",
    "\n",
    "    # Move input to GPU and case to target dtype.\n",
    "    inpt = {\n",
    "        name: tnsr.to(device=device, dtype=dtype) for name,tnsr in inpt.items()\n",
    "    }\n",
    "\n",
    "    # Run inference\n",
    "    with torch.no_grad():\n",
    "        pred = model(inpt, model_only=True)[\"surface_precip\"]\n",
    "        expected_value = pred.expected_value().cpu().float().numpy()[0, 0] # Drop batch and feature dimensions.\n",
    "        p_1 = pred.probability_greater_than(1.0).cpu().float().numpy()[0, 0]\n",
    "        p_10 = pred.probability_greater_than(10.0).cpu().float().numpy()[0, 0]\n",
    "\n",
    "    result = xr.Dataset({\n",
    "        \"latitude\": ((\"latitude\",), lats),\n",
    "        \"longitude\": ((\"longitude\",), lons),\n",
    "        \"valid_time\": valid_time,\n",
    "        \"surface_precip\": ((\"latitude\", \"longitude\"), expected_value),\n",
    "        \"p_1mm\": ((\"latitude\", \"longitude\"), p_1,),\n",
    "        \"p_10mm\": ((\"latitude\", \"longitude\"), p_10)\n",
    "    })\n",
    "    results.append(result)\n",
    "    \n",
    "results = xr.concat(results, dim=\"valid_time\")\n",
    "results[\"initialization_time\"] = initialization_time\n",
    "        "
   ]
  },
  {
   "cell_type": "markdown",
   "id": "4e316215-5d73-4f8b-aa40-de3af33c1c47",
   "metadata": {},
   "source": [
    "## Reference data\n",
    "\n",
    "In order to have something to compare the forecasts to, we load reference precipitation data from MERRA-2 and IMERG. MERRA-2 is the dataset that the original Prithvi-WxC model was trained on, however, the model did not use precipitation as a input or output variables. IMERG, on the other hand, is the satellite precipitation product that the Prithvi Precip model was trained on."
   ]
  },
  {
   "cell_type": "code",
   "execution_count": null,
   "id": "c48a6d1c-8b22-4344-a2f1-fe8c03b24e70",
   "metadata": {},
   "outputs": [],
   "source": [
    "results_imerg = []\n",
    "results_merra = []\n",
    "\n",
    "reference_data_path = Path(\"data/input_data/\")\n",
    "\n",
    "\n",
    "for time in results.valid_time.data:\n",
    "    time = time.astype(\"datetime64[s]\").item()\n",
    "\n",
    "    imerg_file = time.strftime(\"imerg_3/%Y/%m/imerg_%Y%m%d%H%M.nc\")\n",
    "    imerg_data = xr.load_dataset(reference_data_path / imerg_file)\n",
    "    imerg_data[\"p_10mm\"] = 5 < imerg_data.surface_precip\n",
    "    results_imerg.append(imerg_data)\n",
    "    \n",
    "    merra_file = time.strftime(\"merra2_precip_3/%Y/%m/merra2_precip_%Y%m%d%H%M.nc\")\n",
    "    merra_data = xr.load_dataset(reference_data_path / merra_file)[{\"lat\": slice(0, -1)}].rename(lat=\"latitude\", lon=\"longitude\")\n",
    "    merra_data[\"p_10mm\"] = 5 < imerg_data.surface_precip\n",
    "    results_merra.append(merra_data)\n",
    "\n",
    "results_imerg = xr.concat(results_imerg, dim=\"time\").rename(time=\"valid_time\")\n",
    "results_imerg[\"initialization_time\"] = initialization_time\n",
    "results_merra = xr.concat(results_merra, dim=\"time\").rename(time=\"valid_time\")\n",
    "results_merra[\"initialization_time\"] = initialization_time"
   ]
  },
  {
   "cell_type": "markdown",
   "id": "30694e0e-944c-4946-b5d0-4ed53b1b5e17",
   "metadata": {},
   "source": [
    "## Forecast results\n",
    "\n",
    "### Global"
   ]
  },
  {
   "cell_type": "code",
   "execution_count": null,
   "id": "b4b2eecc-0ae0-4b83-90a0-144cd0744867",
   "metadata": {},
   "outputs": [],
   "source": [
    "from prithvi_precip.plotting import set_style, animate_results\n",
    "from IPython.display import HTML\n",
    "set_style()\n",
    "\n",
    "ani = animate_results({\n",
    "    \"Prithvi Precip\": results,\n",
    "    \"MERRA-2\": results_merra,\n",
    "    \"IMERG\": results_imerg\n",
    "})\n",
    "HTML(ani.to_jshtml())"
   ]
  },
  {
   "cell_type": "markdown",
   "id": "766ec835-5a22-40c4-9604-a2043f7914fa",
   "metadata": {},
   "source": [
    "## Hurricane Laura\n",
    "\n",
    "The forecast period covers the landfall of Hurricane Laura in 2020 so we take a closer look at the Gulf of America. \n",
    "\n",
    "> **Note**: The variables ``lon_min, lon_max, lat_min, lat_max`` define the bounding box for the region of interes (ROI). Feel free to change it to explore other regions of the forecast."
   ]
  },
  {
   "cell_type": "code",
   "execution_count": null,
   "id": "b5acfe4e-16eb-4686-8277-ff8718382325",
   "metadata": {},
   "outputs": [],
   "source": [
    "lon_min = -105\n",
    "lon_max = -75\n",
    "lat_min = 15\n",
    "lat_max = 40\n",
    "\n",
    "lon_mask = (lon_min <= results.longitude) * (results.longitude <= lon_max)\n",
    "lat_mask = (lat_min <= results.latitude) * (results.latitude <= lat_max)\n",
    "\n",
    "results_roi = results[{\"latitude\": lat_mask, \"longitude\": lon_mask}]\n",
    "results_merra_roi = results_merra[{\"latitude\": lat_mask.data, \"longitude\": lon_mask.data}]\n",
    "results_imerg_roi = results_imerg[{\"latitude\": lat_mask.data, \"longitude\": lon_mask.data}]"
   ]
  },
  {
   "cell_type": "code",
   "execution_count": null,
   "id": "9a415e58-71a0-4340-9683-28721589a381",
   "metadata": {},
   "outputs": [],
   "source": [
    "from prithvi_precip.plotting import set_style, animate_results\n",
    "from IPython.display import HTML\n",
    "\n",
    "ani = animate_results(\n",
    "    {\n",
    "        \"IMERG\": results_imerg_roi,\n",
    "        \"MERRA-2\": results_merra_roi,\n",
    "        \"Prithvi Precip\": results_roi,\n",
    "    },\n",
    "    include_metrics=True\n",
    ")\n",
    "HTML(ani.to_jshtml())"
   ]
  },
  {
   "cell_type": "markdown",
   "id": "1a0599ee-35aa-43bc-b45d-9d6c55bcbe16",
   "metadata": {},
   "source": [
    "# Adding observations\n",
    "\n",
    "As mentioned above, the input for the Prithvi Precip model adds observations (``obs``) and observation meta data to the input (``obs_meta``). Due to the way the model handles observations, the observations are not loaded on the global grid but on the tiling that the Prithvi-WxC model expects. The shape of the tensors is $[n_b, n_t, n_{g,lat}, n_{g,lon}, n_{obs}, 1, n_{l,lat}, n_{l, lon}]$ where\n",
    "\n",
    "- $n_b$: Is the batch dimension\n",
    "- $n_t$: Is the number of input timesteps\n",
    "- $n_{g, lat}$: Is the number of tiles along the meridional direction.\n",
    "- $n_{g, lon}$: Is the number of tiles along the zonal direction.\n",
    "- $n_{obs}$: Is the number of loaded observation layers (32)\n",
    "- $n_{l, lat}$: Is the size of each tile along the meridional dimension.\n",
    "- $n_{l, lon}$: Is the size of each tile along the zonal dimension."
   ]
  },
  {
   "cell_type": "markdown",
   "id": "911e424f-5f23-4820-bcd5-5028fc8bfc34",
   "metadata": {},
   "source": [
    "## Plotting a single observation tile\n",
    "\n",
    "The observation data passed into the model is already normalized. The model uses a very simple normalization scheme. Observations are stored using reflectivities in percent and brightness temperatures. These are normalized by mapping values in the range [0, 300] to [-1, 1]."
   ]
  },
  {
   "cell_type": "code",
   "execution_count": null,
   "id": "0d0616d1-6c1c-4782-9460-9a277f668711",
   "metadata": {},
   "outputs": [],
   "source": []
  },
  {
   "cell_type": "code",
   "execution_count": null,
   "id": "b2af3e14-e07c-470d-a3ab-b57403e4508b",
   "metadata": {},
   "outputs": [],
   "source": [
    "input_data = dataset.get_direct_forecast_input(initialization_time, 1)"
   ]
  },
  {
   "cell_type": "code",
   "execution_count": null,
   "id": "72e369a9-7b4d-41c1-9f45-7f61c6807545",
   "metadata": {},
   "outputs": [],
   "source": [
    "plt.pcolormesh(input_data[\"obs\"][0, 0, 4, 0, 0, 0])\n",
    "plt.colorbar()"
   ]
  },
  {
   "cell_type": "markdown",
   "id": "62f65ef0-a9ce-401c-966e-6f905070a66a",
   "metadata": {},
   "source": [
    "Visualizing a single tile is generally not very helpful so the ``prithvi_precip`` package also provides a function to visualize the full grid of tiles. We use this function below to visualize all of the 32 observation layers.\n",
    "\n",
    "Note that you may want to load the image in a new tab (right click + open image in new tab) and zoom in to make out any detail."
   ]
  },
  {
   "cell_type": "code",
   "execution_count": null,
   "id": "3e9f36d0-e188-4a33-aef2-e2fda548d574",
   "metadata": {},
   "outputs": [],
   "source": [
    "obs, meta = dataset.obs_loader.load_observations(np.datetime64(\"2020-08-26T12:00:00\"), randomize=False)"
   ]
  },
  {
   "cell_type": "code",
   "execution_count": null,
   "id": "b75dd22f-99c2-476a-920b-cbe6272ebc10",
   "metadata": {},
   "outputs": [],
   "source": [
    "from prithvi_precip.plotting import plot_tiles\n",
    "\n",
    "import torch\n",
    "from matplotlib.gridspec import GridSpec\n",
    "from prithvi_precip.plotting import plot_tiles, set_style\n",
    "from matplotlib import colormaps\n",
    "set_style()\n",
    "\n",
    "cmap = colormaps.get_cmap(\"magma\")\n",
    "cmap.set_bad(\"grey\")\n",
    "fig = plt.figure(figsize=(20, 8))\n",
    "gs = GridSpec(4, 8, wspace=0.2, hspace=0.2)\n",
    "\n",
    "for row_ind in range(4):\n",
    "    for col_ind in range(8):\n",
    "        layer_ind = row_ind * 8 + col_ind\n",
    "        ax = fig.add_subplot(gs[row_ind, col_ind])\n",
    "        ax.set_title(f\"Layer {layer_ind + 1}\")\n",
    "        tile = obs[:, :, layer_ind, 0].clone()\n",
    "        tile[tile < -1] = torch.nan\n",
    "        plot_tiles(tile, 0, 1, 2, 3, ax=ax, colorbar=False, cmap=cmap)\n",
    "\n",
    "        ax.set_xticks([])\n",
    "        ax.set_yticks([])"
   ]
  },
  {
   "cell_type": "markdown",
   "id": "b0b11c4d-5ba2-4d2f-88e8-59dafa449aec",
   "metadata": {},
   "source": [
    "## Forecast with observations"
   ]
  },
  {
   "cell_type": "code",
   "execution_count": null,
   "id": "8b424d59-698a-4ec1-a708-15b30a1a39c0",
   "metadata": {},
   "outputs": [],
   "source": [
    "import torch\n",
    "from tqdm import tqdm\n",
    "\n",
    "device = \"cuda:1\"\n",
    "dtype = torch.float32\n",
    "forecast_steps = 32\n",
    "\n",
    "model = model.to(device=device, dtype=dtype)\n",
    "\n",
    "batch_iterator = dataset.get_batched_direct_forecast_input(initialization_time, n_steps=forecast_steps, batch_size=1)\n",
    "results_obs = []\n",
    "\n",
    "step = 1\n",
    "for inpt in tqdm(batch_iterator, total=forecast_steps, desc=\"Running forecast\"):\n",
    "    lats = np.rad2deg(inpt[\"static\"][0, 0].float().cpu().numpy())[:, 0]\n",
    "    lons = np.rad2deg(inpt[\"static\"][0, 1].float().cpu().numpy())[0]\n",
    "    valid_time = initialization_time + np.timedelta64(3, \"h\") * step\n",
    "    step += 1\n",
    "\n",
    "    # Move input to GPU and case to target dtype.\n",
    "    inpt = {\n",
    "        name: tnsr.to(device=device, dtype=dtype) for name,tnsr in inpt.items()\n",
    "    }\n",
    "\n",
    "    # Run inference\n",
    "    with torch.no_grad():\n",
    "        pred = model(inpt, model_only=False)[\"surface_precip\"]\n",
    "        expected_value = pred.expected_value().cpu().float().numpy()[0, 0] # Drop batch and feature dimensions.\n",
    "        p_1 = pred.probability_greater_than(1.0).cpu().float().numpy()[0, 0]\n",
    "        p_10 = pred.probability_greater_than(10.0).cpu().float().numpy()[0, 0]\n",
    "\n",
    "    result = xr.Dataset({\n",
    "        \"latitude\": ((\"latitude\",), lats),\n",
    "        \"longitude\": ((\"longitude\",), lons),\n",
    "        \"valid_time\": valid_time,\n",
    "        \"surface_precip\": ((\"latitude\", \"longitude\"), expected_value),\n",
    "        \"p_1mm\": ((\"latitude\", \"longitude\"), p_1,),\n",
    "        \"p_10mm\": ((\"latitude\", \"longitude\"), p_10)\n",
    "    })\n",
    "    results_obs.append(result)\n",
    "    \n",
    "results_obs = xr.concat(results_obs, dim=\"valid_time\")\n",
    "results_obs[\"initialization_time\"] = initialization_time\n",
    "results_obs_roi = results_obs[{\"latitude\": lat_mask.data, \"longitude\": lon_mask.data}]"
   ]
  },
  {
   "cell_type": "code",
   "execution_count": null,
   "id": "7e1d7a54-d0b2-4f69-b878-5f30ac602882",
   "metadata": {},
   "outputs": [],
   "source": [
    "from prithvi_precip.plotting import set_style, animate_results\n",
    "from IPython.display import HTML\n",
    "\n",
    "ani = animate_results(\n",
    "    {\n",
    "        \"IMERG\": results_imerg,\n",
    "        \"MERRA-2\": results_merra,\n",
    "        \"Prithvi Precip\": results,\n",
    "        \"Prithvi Precip (Obs)\": results_obs,\n",
    "    },\n",
    "    include_metrics=True,\n",
    "    panel_width=8,\n",
    "    n_cols=2\n",
    ")\n",
    "HTML(ani.to_jshtml())"
   ]
  },
  {
   "cell_type": "code",
   "execution_count": null,
   "id": "92d5bf85-a93b-4bea-ba19-5b6266d5b43d",
   "metadata": {},
   "outputs": [],
   "source": [
    "from prithvi_precip.plotting import set_style, animate_results\n",
    "from IPython.display import HTML\n",
    "\n",
    "ani = animate_results(\n",
    "    {\n",
    "        \"IMERG\": results_imerg_roi,\n",
    "        \"MERRA-2\": results_merra_roi,\n",
    "        \"Prithvi Precip\": results_roi,\n",
    "        \"Prithvi Precip (Obs)\": results_obs_roi,\n",
    "    },\n",
    "    include_metrics=True,\n",
    "    n_cols=2\n",
    ")\n",
    "HTML(ani.to_jshtml())"
   ]
  },
  {
   "cell_type": "markdown",
   "id": "dfa6ac92-44cf-4c69-8148-d495695000a7",
   "metadata": {},
   "source": [
    "## Observation-only forecast\n",
    "\n",
    "Finally we also run an observation-only forecast. We do this by setting the ``obs_only`` flag to ``True``."
   ]
  },
  {
   "cell_type": "code",
   "execution_count": null,
   "id": "5d5f2a93-249e-46b8-aa9d-0adb11b11e47",
   "metadata": {},
   "outputs": [],
   "source": [
    "import torch\n",
    "from tqdm import tqdm\n",
    "\n",
    "device = \"cuda:1\"\n",
    "dtype = torch.float32\n",
    "forecast_steps = 32\n",
    "\n",
    "model = model.to(device=device, dtype=dtype)\n",
    "\n",
    "batch_iterator = dataset.get_batched_direct_forecast_input(initialization_time, n_steps=forecast_steps, batch_size=1)\n",
    "results_obs_only = []\n",
    "\n",
    "step = 1\n",
    "for inpt in tqdm(batch_iterator, total=forecast_steps, desc=\"Running forecast\"):\n",
    "    lats = np.rad2deg(inpt[\"static\"][0, 0].float().cpu().numpy())[:, 0]\n",
    "    lons = np.rad2deg(inpt[\"static\"][0, 1].float().cpu().numpy())[0]\n",
    "    valid_time = initialization_time + np.timedelta64(3, \"h\") * step\n",
    "    step += 1\n",
    "\n",
    "    # Move input to GPU and case to target dtype.\n",
    "    inpt = {\n",
    "        name: tnsr.to(device=device, dtype=dtype) for name,tnsr in inpt.items()\n",
    "    }\n",
    "\n",
    "    # Run inference\n",
    "    with torch.no_grad():\n",
    "        pred = model(inpt, obs_only=True)[\"surface_precip\"]\n",
    "        expected_value = pred.expected_value().cpu().float().numpy()[0, 0] # Drop batch and feature dimensions.\n",
    "        p_1 = pred.probability_greater_than(1.0).cpu().float().numpy()[0, 0]\n",
    "        p_10 = pred.probability_greater_than(10.0).cpu().float().numpy()[0, 0]\n",
    "\n",
    "    result = xr.Dataset({\n",
    "        \"latitude\": ((\"latitude\",), lats),\n",
    "        \"longitude\": ((\"longitude\",), lons),\n",
    "        \"valid_time\": valid_time,\n",
    "        \"surface_precip\": ((\"latitude\", \"longitude\"), expected_value),\n",
    "        \"p_1mm\": ((\"latitude\", \"longitude\"), p_1,),\n",
    "        \"p_10mm\": ((\"latitude\", \"longitude\"), p_10)\n",
    "    })\n",
    "    results_obs_only.append(result)\n",
    "    \n",
    "results_obs_only = xr.concat(results_obs_only, dim=\"valid_time\")\n",
    "results_obs_only[\"initialization_time\"] = initialization_time\n",
    "results_obs_only_roi = results_obs_only[{\"latitude\": lat_mask.data, \"longitude\": lon_mask.data}]"
   ]
  },
  {
   "cell_type": "code",
   "execution_count": null,
   "id": "13de269b-2897-4927-adc8-4953a973ff0e",
   "metadata": {},
   "outputs": [],
   "source": [
    "results_obs_only_roi = results_obs_only[{\"latitude\": lat_mask.data, \"longitude\": lon_mask.data}]"
   ]
  },
  {
   "cell_type": "code",
   "execution_count": null,
   "id": "3fbbf067-e6b6-4436-be85-17a2beb56a10",
   "metadata": {},
   "outputs": [],
   "source": []
  },
  {
   "cell_type": "code",
   "execution_count": null,
   "id": "bce28df3-22b3-4fe5-b2ae-40112f68d55d",
   "metadata": {},
   "outputs": [],
   "source": []
  },
  {
   "cell_type": "markdown",
   "id": "31997da2-418f-4843-98ba-08399a53eecf",
   "metadata": {},
   "source": [
    "## Global"
   ]
  },
  {
   "cell_type": "code",
   "execution_count": null,
   "id": "2ecb9ab9-f84c-408c-967d-934e67a355ab",
   "metadata": {},
   "outputs": [],
   "source": [
    "from prithvi_precip.plotting import set_style, animate_results\n",
    "from IPython.display import HTML\n",
    "\n",
    "ani = animate_results(\n",
    "    {\n",
    "        \"IMERG\": results_imerg,\n",
    "        \"Prithvi Precip\": results,\n",
    "        \"Prithvi Precip (Obs)\": results_obs,\n",
    "        \"Prithvi Precip (Obs only)\": results_obs_only,\n",
    "    },\n",
    "    include_metrics=True,\n",
    "    n_cols=2,\n",
    "    panel_width=8\n",
    ")\n",
    "HTML(ani.to_jshtml())"
   ]
  },
  {
   "cell_type": "markdown",
   "id": "d84096b4-ad10-4907-b055-91caffee6bbb",
   "metadata": {},
   "source": [
    "## Local"
   ]
  },
  {
   "cell_type": "code",
   "execution_count": null,
   "id": "74a324f0-a956-4805-9c82-073c5c57ab75",
   "metadata": {},
   "outputs": [],
   "source": [
    "from prithvi_precip.plotting import set_style, animate_results\n",
    "from IPython.display import HTML\n",
    "\n",
    "ani = animate_results(\n",
    "    {\n",
    "        \"IMERG\": results_imerg_roi,\n",
    "        \"MERRA-2\": results_merra_roi,\n",
    "        \"Prithvi Precip\": results_roi,\n",
    "        \"Prithvi Precip (Obs)\": results_obs_roi,\n",
    "        \"Prithvi Precip (Obs only)\": results_obs_only_roi,\n",
    "    },\n",
    "    include_metrics=True,\n",
    "    n_cols=2\n",
    ")\n",
    "HTML(ani.to_jshtml())"
   ]
  }
 ],
 "metadata": {
  "kernelspec": {
   "display_name": "prithvi_wxc",
   "language": "python",
   "name": "prithvi_wxc"
  },
  "language_info": {
   "codemirror_mode": {
    "name": "ipython",
    "version": 3
   },
   "file_extension": ".py",
   "mimetype": "text/x-python",
   "name": "python",
   "nbconvert_exporter": "python",
   "pygments_lexer": "ipython3",
   "version": "3.10.12"
  }
 },
 "nbformat": 4,
 "nbformat_minor": 5
}
