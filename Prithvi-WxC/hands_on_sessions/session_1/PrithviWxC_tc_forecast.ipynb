{
 "cells": [
  {
   "cell_type": "markdown",
   "id": "46e878bd-d151-46ee-a027-d95d93a74cf1",
   "metadata": {},
   "source": [
    "# Tropical Cyclone forecast\n",
    "\n",
    "This notebook demonstrates how to use the Prithvi-WxC model to perform global weather forecasts. The specific case we will be looking at is the evolution of Hurricane Ida August 27 to September 2."
   ]
  },
  {
   "cell_type": "code",
   "execution_count": 1,
   "id": "448e7b70-fff1-4dad-84f1-36a84fc6c688",
   "metadata": {},
   "outputs": [],
   "source": [
    "%load_ext autoreload\n",
    "%autoreload 2\n",
    "from pathlib import Path\n",
    "\n",
    "import numpy as np\n",
    "import matplotlib.pyplot as plt\n",
    "import xarray as xr"
   ]
  },
  {
   "cell_type": "markdown",
   "id": "be56aa40-248d-4910-8c3a-20d443da9f86",
   "metadata": {},
   "source": [
    "## Input data\n",
    "\n",
    "We will initialize the forecast at 0Z on August 2021-08-27. To perform long-range forecasts with the Prithvi-WxC model, we need to unroll the model. That means we will perform multiple forecasts reusing the predicted state as input for the next forecast. For this we will need static input data as well as climatology data for all intermediate forecast steps. We can download all required data using the ``get_prithvi_wxc_input`` function.\n",
    "\n",
    "> **Note:** To download the data you will need your NASA EarthData account again. Please see the ``PrithviWxC_input_data.ipynb`` notebook for instruction on how to do this."
   ]
  },
  {
   "cell_type": "code",
   "execution_count": 2,
   "id": "b145493a-5395-4791-bfb0-517d4e8b7f7d",
   "metadata": {
    "scrolled": true
   },
   "outputs": [
    {
     "name": "stdin",
     "output_type": "stream",
     "text": [
      "GES DISC username:  pansat\n",
      "GES DISC password:  ········\n"
     ]
    },
    {
     "name": "stderr",
     "output_type": "stream",
     "text": [
      "Downloading MERRA-2 files.: 100%|██████████████████████████████████████████████████████████████████████████| 41/41 [09:25<00:00, 13.80s/it]\n",
      "Extracting input data: 100%|███████████████████████████████████████████████████████████████████████████████| 8/8 [00:00<00:00, 2626.16it/s]\n"
     ]
    },
    {
     "data": {
      "application/vnd.jupyter.widget-view+json": {
       "model_id": "fbb2367aaebc4757950b4f6f71392998",
       "version_major": 2,
       "version_minor": 0
      },
      "text/plain": [
       "climatology/climate_vertical_doy238_hour(…):   0%|          | 0.00/116M [00:00<?, ?B/s]"
      ]
     },
     "metadata": {},
     "output_type": "display_data"
    },
    {
     "data": {
      "application/vnd.jupyter.widget-view+json": {
       "model_id": "dc9d6f8769b74d73ac02298471b11710",
       "version_major": 2,
       "version_minor": 0
      },
      "text/plain": [
       "climatology/climate_surface_doy238_hour1(…):   0%|          | 0.00/20.8M [00:00<?, ?B/s]"
      ]
     },
     "metadata": {},
     "output_type": "display_data"
    },
    {
     "data": {
      "application/vnd.jupyter.widget-view+json": {
       "model_id": "69736419334643109cf8440d0cfa9153",
       "version_major": 2,
       "version_minor": 0
      },
      "text/plain": [
       "climatology/climate_vertical_doy239_hour(…):   0%|          | 0.00/116M [00:00<?, ?B/s]"
      ]
     },
     "metadata": {},
     "output_type": "display_data"
    },
    {
     "data": {
      "application/vnd.jupyter.widget-view+json": {
       "model_id": "5d6c0489bca440059ff3d335dea033b5",
       "version_major": 2,
       "version_minor": 0
      },
      "text/plain": [
       "climatology/climate_surface_doy239_hour0(…):   0%|          | 0.00/20.8M [00:00<?, ?B/s]"
      ]
     },
     "metadata": {},
     "output_type": "display_data"
    },
    {
     "data": {
      "application/vnd.jupyter.widget-view+json": {
       "model_id": "1d07f93554a74ccdb34a3d3c19f51524",
       "version_major": 2,
       "version_minor": 0
      },
      "text/plain": [
       "climatology/climate_vertical_doy239_hour(…):   0%|          | 0.00/116M [00:00<?, ?B/s]"
      ]
     },
     "metadata": {},
     "output_type": "display_data"
    },
    {
     "data": {
      "application/vnd.jupyter.widget-view+json": {
       "model_id": "00c980fd6cee41f482691b17236f69c2",
       "version_major": 2,
       "version_minor": 0
      },
      "text/plain": [
       "climatology/climate_surface_doy239_hour0(…):   0%|          | 0.00/20.8M [00:00<?, ?B/s]"
      ]
     },
     "metadata": {},
     "output_type": "display_data"
    },
    {
     "data": {
      "application/vnd.jupyter.widget-view+json": {
       "model_id": "fdcae673d1f341ddbdf9ec0e23915ef7",
       "version_major": 2,
       "version_minor": 0
      },
      "text/plain": [
       "climatology/climate_vertical_doy239_hour(…):   0%|          | 0.00/116M [00:00<?, ?B/s]"
      ]
     },
     "metadata": {},
     "output_type": "display_data"
    },
    {
     "data": {
      "application/vnd.jupyter.widget-view+json": {
       "model_id": "e65dfb721177441787b9a566ebc08b41",
       "version_major": 2,
       "version_minor": 0
      },
      "text/plain": [
       "climatology/climate_surface_doy239_hour1(…):   0%|          | 0.00/20.8M [00:00<?, ?B/s]"
      ]
     },
     "metadata": {},
     "output_type": "display_data"
    },
    {
     "data": {
      "application/vnd.jupyter.widget-view+json": {
       "model_id": "1f8f2a5b887244c8af3051edab6c26c8",
       "version_major": 2,
       "version_minor": 0
      },
      "text/plain": [
       "climatology/climate_vertical_doy239_hour(…):   0%|          | 0.00/116M [00:00<?, ?B/s]"
      ]
     },
     "metadata": {},
     "output_type": "display_data"
    },
    {
     "data": {
      "application/vnd.jupyter.widget-view+json": {
       "model_id": "9ba261ef56184bb098a61ef1924271bd",
       "version_major": 2,
       "version_minor": 0
      },
      "text/plain": [
       "climatology/climate_surface_doy239_hour1(…):   0%|          | 0.00/20.8M [00:00<?, ?B/s]"
      ]
     },
     "metadata": {},
     "output_type": "display_data"
    },
    {
     "data": {
      "application/vnd.jupyter.widget-view+json": {
       "model_id": "ad10511bd25644b494948038d28cc204",
       "version_major": 2,
       "version_minor": 0
      },
      "text/plain": [
       "climatology/climate_vertical_doy240_hour(…):   0%|          | 0.00/116M [00:00<?, ?B/s]"
      ]
     },
     "metadata": {},
     "output_type": "display_data"
    },
    {
     "data": {
      "application/vnd.jupyter.widget-view+json": {
       "model_id": "0a82393335394555994f648a335efa34",
       "version_major": 2,
       "version_minor": 0
      },
      "text/plain": [
       "climatology/climate_surface_doy240_hour0(…):   0%|          | 0.00/20.8M [00:00<?, ?B/s]"
      ]
     },
     "metadata": {},
     "output_type": "display_data"
    },
    {
     "data": {
      "application/vnd.jupyter.widget-view+json": {
       "model_id": "91eecf9362584cef8987adb22f6183b6",
       "version_major": 2,
       "version_minor": 0
      },
      "text/plain": [
       "climatology/climate_vertical_doy240_hour(…):   0%|          | 0.00/116M [00:00<?, ?B/s]"
      ]
     },
     "metadata": {},
     "output_type": "display_data"
    },
    {
     "data": {
      "application/vnd.jupyter.widget-view+json": {
       "model_id": "4b002811d13a42a2b8f8d993e4d705f1",
       "version_major": 2,
       "version_minor": 0
      },
      "text/plain": [
       "climatology/climate_surface_doy240_hour0(…):   0%|          | 0.00/20.8M [00:00<?, ?B/s]"
      ]
     },
     "metadata": {},
     "output_type": "display_data"
    },
    {
     "data": {
      "application/vnd.jupyter.widget-view+json": {
       "model_id": "70843047a2bb44f78866509a592bb3b5",
       "version_major": 2,
       "version_minor": 0
      },
      "text/plain": [
       "climatology/climate_vertical_doy240_hour(…):   0%|          | 0.00/116M [00:00<?, ?B/s]"
      ]
     },
     "metadata": {},
     "output_type": "display_data"
    },
    {
     "data": {
      "application/vnd.jupyter.widget-view+json": {
       "model_id": "b170e0f142c1462ab78764105aeb7b8a",
       "version_major": 2,
       "version_minor": 0
      },
      "text/plain": [
       "climatology/climate_surface_doy240_hour1(…):   0%|          | 0.00/20.8M [00:00<?, ?B/s]"
      ]
     },
     "metadata": {},
     "output_type": "display_data"
    },
    {
     "data": {
      "application/vnd.jupyter.widget-view+json": {
       "model_id": "c83e0c46c80e41e9a47a25af00c9f8fa",
       "version_major": 2,
       "version_minor": 0
      },
      "text/plain": [
       "climatology/climate_vertical_doy240_hour(…):   0%|          | 0.00/116M [00:00<?, ?B/s]"
      ]
     },
     "metadata": {},
     "output_type": "display_data"
    },
    {
     "data": {
      "application/vnd.jupyter.widget-view+json": {
       "model_id": "578ddc1401d24f53a8d0b49404858ad3",
       "version_major": 2,
       "version_minor": 0
      },
      "text/plain": [
       "climatology/climate_surface_doy240_hour1(…):   0%|          | 0.00/20.8M [00:00<?, ?B/s]"
      ]
     },
     "metadata": {},
     "output_type": "display_data"
    },
    {
     "data": {
      "application/vnd.jupyter.widget-view+json": {
       "model_id": "4324ddd0e06a4c12a80f63a59df26b40",
       "version_major": 2,
       "version_minor": 0
      },
      "text/plain": [
       "climatology/climate_vertical_doy241_hour(…):   0%|          | 0.00/116M [00:00<?, ?B/s]"
      ]
     },
     "metadata": {},
     "output_type": "display_data"
    },
    {
     "data": {
      "application/vnd.jupyter.widget-view+json": {
       "model_id": "ea08865bfc554026aead283f1f67fec9",
       "version_major": 2,
       "version_minor": 0
      },
      "text/plain": [
       "climatology/climate_surface_doy241_hour0(…):   0%|          | 0.00/20.8M [00:00<?, ?B/s]"
      ]
     },
     "metadata": {},
     "output_type": "display_data"
    },
    {
     "data": {
      "application/vnd.jupyter.widget-view+json": {
       "model_id": "57c00c14eba5461ebb9b2b4d6c079557",
       "version_major": 2,
       "version_minor": 0
      },
      "text/plain": [
       "climatology/climate_vertical_doy241_hour(…):   0%|          | 0.00/116M [00:00<?, ?B/s]"
      ]
     },
     "metadata": {},
     "output_type": "display_data"
    },
    {
     "data": {
      "application/vnd.jupyter.widget-view+json": {
       "model_id": "6bee6a89cbe64a7583c5818a9ceeeb2b",
       "version_major": 2,
       "version_minor": 0
      },
      "text/plain": [
       "climatology/climate_surface_doy241_hour0(…):   0%|          | 0.00/20.8M [00:00<?, ?B/s]"
      ]
     },
     "metadata": {},
     "output_type": "display_data"
    },
    {
     "data": {
      "application/vnd.jupyter.widget-view+json": {
       "model_id": "aa3c7be237cc46d485114c36b4f47d3c",
       "version_major": 2,
       "version_minor": 0
      },
      "text/plain": [
       "climatology/climate_vertical_doy241_hour(…):   0%|          | 0.00/116M [00:00<?, ?B/s]"
      ]
     },
     "metadata": {},
     "output_type": "display_data"
    },
    {
     "data": {
      "application/vnd.jupyter.widget-view+json": {
       "model_id": "b171dcc2831146f498a7c965f6189d44",
       "version_major": 2,
       "version_minor": 0
      },
      "text/plain": [
       "climatology/climate_surface_doy241_hour1(…):   0%|          | 0.00/20.8M [00:00<?, ?B/s]"
      ]
     },
     "metadata": {},
     "output_type": "display_data"
    },
    {
     "data": {
      "application/vnd.jupyter.widget-view+json": {
       "model_id": "29a397dec9dc4424a21fba2a0c2ce1ca",
       "version_major": 2,
       "version_minor": 0
      },
      "text/plain": [
       "climatology/climate_vertical_doy241_hour(…):   0%|          | 0.00/116M [00:00<?, ?B/s]"
      ]
     },
     "metadata": {},
     "output_type": "display_data"
    },
    {
     "data": {
      "application/vnd.jupyter.widget-view+json": {
       "model_id": "2bae8a58e0a24595baf9e5243e33494a",
       "version_major": 2,
       "version_minor": 0
      },
      "text/plain": [
       "climatology/climate_surface_doy241_hour1(…):   0%|          | 0.00/20.8M [00:00<?, ?B/s]"
      ]
     },
     "metadata": {},
     "output_type": "display_data"
    },
    {
     "data": {
      "application/vnd.jupyter.widget-view+json": {
       "model_id": "f5b14e5ed2724374b6ad4171df9d6ca0",
       "version_major": 2,
       "version_minor": 0
      },
      "text/plain": [
       "climatology/climate_vertical_doy242_hour(…):   0%|          | 0.00/116M [00:00<?, ?B/s]"
      ]
     },
     "metadata": {},
     "output_type": "display_data"
    },
    {
     "data": {
      "application/vnd.jupyter.widget-view+json": {
       "model_id": "ad68b72beab342d0b39d867fd77d80fe",
       "version_major": 2,
       "version_minor": 0
      },
      "text/plain": [
       "climatology/climate_surface_doy242_hour0(…):   0%|          | 0.00/20.8M [00:00<?, ?B/s]"
      ]
     },
     "metadata": {},
     "output_type": "display_data"
    },
    {
     "data": {
      "application/vnd.jupyter.widget-view+json": {
       "model_id": "0fdd18b478f343a38277f405b16cb75a",
       "version_major": 2,
       "version_minor": 0
      },
      "text/plain": [
       "climatology/climate_vertical_doy242_hour(…):   0%|          | 0.00/116M [00:00<?, ?B/s]"
      ]
     },
     "metadata": {},
     "output_type": "display_data"
    },
    {
     "data": {
      "application/vnd.jupyter.widget-view+json": {
       "model_id": "6534a54b997e4c43af29879f8074acc3",
       "version_major": 2,
       "version_minor": 0
      },
      "text/plain": [
       "climatology/climate_surface_doy242_hour0(…):   0%|          | 0.00/20.8M [00:00<?, ?B/s]"
      ]
     },
     "metadata": {},
     "output_type": "display_data"
    },
    {
     "data": {
      "application/vnd.jupyter.widget-view+json": {
       "model_id": "d609582028694b8e8240e27eb2afcb89",
       "version_major": 2,
       "version_minor": 0
      },
      "text/plain": [
       "climatology/climate_vertical_doy242_hour(…):   0%|          | 0.00/116M [00:00<?, ?B/s]"
      ]
     },
     "metadata": {},
     "output_type": "display_data"
    },
    {
     "data": {
      "application/vnd.jupyter.widget-view+json": {
       "model_id": "27d3acdef4054335bcfe851120c1b634",
       "version_major": 2,
       "version_minor": 0
      },
      "text/plain": [
       "climatology/climate_surface_doy242_hour1(…):   0%|          | 0.00/20.8M [00:00<?, ?B/s]"
      ]
     },
     "metadata": {},
     "output_type": "display_data"
    },
    {
     "data": {
      "application/vnd.jupyter.widget-view+json": {
       "model_id": "0a441d14986749c4a146244ec9720553",
       "version_major": 2,
       "version_minor": 0
      },
      "text/plain": [
       "climatology/climate_vertical_doy242_hour(…):   0%|          | 0.00/116M [00:00<?, ?B/s]"
      ]
     },
     "metadata": {},
     "output_type": "display_data"
    },
    {
     "data": {
      "application/vnd.jupyter.widget-view+json": {
       "model_id": "61d1daa154b248fdadeaa01ebc2bd386",
       "version_major": 2,
       "version_minor": 0
      },
      "text/plain": [
       "climatology/climate_surface_doy242_hour1(…):   0%|          | 0.00/20.8M [00:00<?, ?B/s]"
      ]
     },
     "metadata": {},
     "output_type": "display_data"
    },
    {
     "data": {
      "application/vnd.jupyter.widget-view+json": {
       "model_id": "4a22fe3c448c4318880d022599636b3f",
       "version_major": 2,
       "version_minor": 0
      },
      "text/plain": [
       "climatology/climate_vertical_doy243_hour(…):   0%|          | 0.00/116M [00:00<?, ?B/s]"
      ]
     },
     "metadata": {},
     "output_type": "display_data"
    },
    {
     "data": {
      "application/vnd.jupyter.widget-view+json": {
       "model_id": "f7eb6eaa3a6f4ed3b70e33c4e5ddce03",
       "version_major": 2,
       "version_minor": 0
      },
      "text/plain": [
       "climatology/climate_surface_doy243_hour0(…):   0%|          | 0.00/20.8M [00:00<?, ?B/s]"
      ]
     },
     "metadata": {},
     "output_type": "display_data"
    },
    {
     "data": {
      "application/vnd.jupyter.widget-view+json": {
       "model_id": "a49c4c9165cc411e82d416e745d6c36b",
       "version_major": 2,
       "version_minor": 0
      },
      "text/plain": [
       "climatology/climate_vertical_doy243_hour(…):   0%|          | 0.00/116M [00:00<?, ?B/s]"
      ]
     },
     "metadata": {},
     "output_type": "display_data"
    },
    {
     "data": {
      "application/vnd.jupyter.widget-view+json": {
       "model_id": "9e6e5a9a8b8e4c07a17d458ef7c7d284",
       "version_major": 2,
       "version_minor": 0
      },
      "text/plain": [
       "climatology/climate_surface_doy243_hour0(…):   0%|          | 0.00/20.8M [00:00<?, ?B/s]"
      ]
     },
     "metadata": {},
     "output_type": "display_data"
    },
    {
     "data": {
      "application/vnd.jupyter.widget-view+json": {
       "model_id": "85f952ffb5ec4975b4457a32c2005858",
       "version_major": 2,
       "version_minor": 0
      },
      "text/plain": [
       "climatology/climate_vertical_doy243_hour(…):   0%|          | 0.00/116M [00:00<?, ?B/s]"
      ]
     },
     "metadata": {},
     "output_type": "display_data"
    },
    {
     "data": {
      "application/vnd.jupyter.widget-view+json": {
       "model_id": "c79a00bfd481424a8325ca7b190a8f41",
       "version_major": 2,
       "version_minor": 0
      },
      "text/plain": [
       "climatology/climate_surface_doy243_hour1(…):   0%|          | 0.00/20.8M [00:00<?, ?B/s]"
      ]
     },
     "metadata": {},
     "output_type": "display_data"
    },
    {
     "data": {
      "application/vnd.jupyter.widget-view+json": {
       "model_id": "8c4bcf6066b44e6191780c16f1a8be1a",
       "version_major": 2,
       "version_minor": 0
      },
      "text/plain": [
       "climatology/climate_vertical_doy243_hour(…):   0%|          | 0.00/116M [00:00<?, ?B/s]"
      ]
     },
     "metadata": {},
     "output_type": "display_data"
    },
    {
     "data": {
      "application/vnd.jupyter.widget-view+json": {
       "model_id": "93c36e3f623c4b3c89fd15a111c8e7ec",
       "version_major": 2,
       "version_minor": 0
      },
      "text/plain": [
       "climatology/climate_surface_doy243_hour1(…):   0%|          | 0.00/20.8M [00:00<?, ?B/s]"
      ]
     },
     "metadata": {},
     "output_type": "display_data"
    },
    {
     "data": {
      "application/vnd.jupyter.widget-view+json": {
       "model_id": "230ffc89d9804ef9b4152ff1edd31cca",
       "version_major": 2,
       "version_minor": 0
      },
      "text/plain": [
       "climatology/climate_vertical_doy244_hour(…):   0%|          | 0.00/116M [00:00<?, ?B/s]"
      ]
     },
     "metadata": {},
     "output_type": "display_data"
    },
    {
     "data": {
      "application/vnd.jupyter.widget-view+json": {
       "model_id": "334697b5a45b49e7a8d70d66a728cfa2",
       "version_major": 2,
       "version_minor": 0
      },
      "text/plain": [
       "climatology/climate_surface_doy244_hour0(…):   0%|          | 0.00/20.8M [00:00<?, ?B/s]"
      ]
     },
     "metadata": {},
     "output_type": "display_data"
    },
    {
     "data": {
      "application/vnd.jupyter.widget-view+json": {
       "model_id": "ac751d14ed284f35b0e46cf708b2ebc9",
       "version_major": 2,
       "version_minor": 0
      },
      "text/plain": [
       "climatology/climate_vertical_doy244_hour(…):   0%|          | 0.00/116M [00:00<?, ?B/s]"
      ]
     },
     "metadata": {},
     "output_type": "display_data"
    },
    {
     "data": {
      "application/vnd.jupyter.widget-view+json": {
       "model_id": "7a94e17e4e854d54a2eb8e1c8fbe61c6",
       "version_major": 2,
       "version_minor": 0
      },
      "text/plain": [
       "climatology/climate_surface_doy244_hour0(…):   0%|          | 0.00/20.8M [00:00<?, ?B/s]"
      ]
     },
     "metadata": {},
     "output_type": "display_data"
    },
    {
     "data": {
      "application/vnd.jupyter.widget-view+json": {
       "model_id": "623f9789af2d43cdad28d3108648f593",
       "version_major": 2,
       "version_minor": 0
      },
      "text/plain": [
       "climatology/climate_vertical_doy244_hour(…):   0%|          | 0.00/116M [00:00<?, ?B/s]"
      ]
     },
     "metadata": {},
     "output_type": "display_data"
    },
    {
     "data": {
      "application/vnd.jupyter.widget-view+json": {
       "model_id": "b988f8346bd44e988c5c17ed651d9b02",
       "version_major": 2,
       "version_minor": 0
      },
      "text/plain": [
       "climatology/climate_surface_doy244_hour1(…):   0%|          | 0.00/20.8M [00:00<?, ?B/s]"
      ]
     },
     "metadata": {},
     "output_type": "display_data"
    },
    {
     "data": {
      "application/vnd.jupyter.widget-view+json": {
       "model_id": "36a49c3e39ce4a15bb0952b0541b861a",
       "version_major": 2,
       "version_minor": 0
      },
      "text/plain": [
       "climatology/climate_vertical_doy244_hour(…):   0%|          | 0.00/116M [00:00<?, ?B/s]"
      ]
     },
     "metadata": {},
     "output_type": "display_data"
    },
    {
     "data": {
      "application/vnd.jupyter.widget-view+json": {
       "model_id": "c9b4b2044e1a4e51919af5dce3d19c82",
       "version_major": 2,
       "version_minor": 0
      },
      "text/plain": [
       "climatology/climate_surface_doy244_hour1(…):   0%|          | 0.00/20.8M [00:00<?, ?B/s]"
      ]
     },
     "metadata": {},
     "output_type": "display_data"
    },
    {
     "data": {
      "application/vnd.jupyter.widget-view+json": {
       "model_id": "72d40b6ff43a4283ae992214d67f8311",
       "version_major": 2,
       "version_minor": 0
      },
      "text/plain": [
       "climatology/climate_vertical_doy245_hour(…):   0%|          | 0.00/116M [00:00<?, ?B/s]"
      ]
     },
     "metadata": {},
     "output_type": "display_data"
    },
    {
     "data": {
      "application/vnd.jupyter.widget-view+json": {
       "model_id": "aec5a03a3e8e46ada4aca8b0b8a269ef",
       "version_major": 2,
       "version_minor": 0
      },
      "text/plain": [
       "climatology/climate_surface_doy245_hour0(…):   0%|          | 0.00/20.8M [00:00<?, ?B/s]"
      ]
     },
     "metadata": {},
     "output_type": "display_data"
    }
   ],
   "source": [
    "import numpy as np\n",
    "from PrithviWxC.download import get_prithvi_wxc_input\n",
    "\n",
    "initialization_time =np.datetime64(\"2021-08-27\")\n",
    "get_prithvi_wxc_input(\n",
    "    initialization_time,\n",
    "    6, # The time difference in hours between consecutive model steps.\n",
    "    6 * 24, # Total maximum lead time.\n",
    "    \"../../data/merra-2\",\n",
    "    \"../../data/raw\"\n",
    ")"
   ]
  },
  {
   "cell_type": "markdown",
   "id": "576ceb53-992a-4fe7-9d23-7b393b9b8282",
   "metadata": {},
   "source": [
    "## Loading the input data\n",
    "\n",
    "To load the input data for the roll-out forecast, we use the ``Merra2RolloutDataset``."
   ]
  },
  {
   "cell_type": "code",
   "execution_count": 4,
   "id": "1d2a3d94-e6fa-4008-8a6a-b3e2f0f8ebd2",
   "metadata": {
    "scrolled": true
   },
   "outputs": [
    {
     "data": {
      "text/plain": [
       "9"
      ]
     },
     "execution_count": 4,
     "metadata": {},
     "output_type": "execute_result"
    }
   ],
   "source": [
    "from PrithviWxC.configs import get_model_config\n",
    "from PrithviWxC.dataloaders.merra2_rollout import Merra2RolloutDataset\n",
    "\n",
    "# Workshop participants can use the 'small' Prithvi-WxC model\n",
    "# Remote users will need to use 'large_rollout'.\n",
    "config_name = \"small\"\n",
    "prithvi_config = get_model_config(config_name, data_dir=\"../../data\")\n",
    "\n",
    "dataset = Merra2RolloutDataset(\n",
    "    time_range=(\"2021-08-26\", \"2021-09-18\"),\n",
    "    lead_time=96,\n",
    "    input_time=-6,\n",
    "    data_path_surface=\"../../data/merra-2\",\n",
    "    data_path_vertical=\"../../data/merra-2\",\n",
    "    climatology_path_surface=\"../../data/merra-2/climatology/climatology\",\n",
    "    climatology_path_vertical=\"../../data/merra-2/climatology/climatology\",\n",
    "    surface_vars=prithvi_config.surface_vars,\n",
    "    static_surface_vars=prithvi_config.static_surface_vars,\n",
    "    vertical_vars=prithvi_config.vertical_vars,\n",
    "    levels=prithvi_config.levels,\n",
    "    positional_encoding=\"fourier\",\n",
    ")\n",
    "len(dataset) > 0, \"There doesn't seem to be any valid data.\""
   ]
  },
  {
   "cell_type": "markdown",
   "id": "719c3164-ba2a-478c-8f6d-ebaa211cd505",
   "metadata": {},
   "source": [
    "## Loading the model\n",
    "\n",
    "In the cell below we first create the model instance and then load the pre-trained weights."
   ]
  },
  {
   "cell_type": "code",
   "execution_count": 8,
   "id": "5ea83771-88c4-45c6-8eb8-cff1ab3f47ac",
   "metadata": {
    "scrolled": true
   },
   "outputs": [],
   "source": [
    "import torch\n",
    "from PrithviWxC.configs import load_model\n",
    "\n",
    "config_name = \"small\"\n",
    "device = \"cuda\" if torch.cuda.is_available() else \"cpu\"\n",
    "\n",
    "if config_name == \"large\":\n",
    "    model = load_model(config_name, data_dir=\"../data\", load_weights=True)\n",
    "else:\n",
    "    model = load_model(config_name, data_dir=\"../data\", load_weights=False)\n",
    "    weights_path = \"../../data/weights/prithvi.wxc.rollout.600m.v1.pt\"\n",
    "    state_dict = torch.load(weights_path, weights_only=False)\n",
    "    if \"model_state\" in state_dict:\n",
    "        state_dict = state_dict[\"model_state\"]\n",
    "    model.load_state_dict(state_dict, strict=True)\n",
    "    \n",
    "if (hasattr(model, \"device\") and model.device != device) or not hasattr(\n",
    "    model, \"device\"\n",
    "):\n",
    "    model = model.to(device)"
   ]
  },
  {
   "cell_type": "markdown",
   "id": "1975574f-7a4e-458d-923f-0fb29a32a51f",
   "metadata": {},
   "source": [
    "## Running the forecast\n",
    "\n",
    "To perform forecasts that extend over several days with the Prithvi-WxC model, we need to unroll the model. That means the forecast is produced by repeatedly forcasting the next atmospheric state with a fixed, given lead time, and reusing the resulting forecasted state to forecast the next state. Since the ``Prithvi-WxC`` package provides a function that perform the unrolling for us, we don't need to worry to much about the details."
   ]
  },
  {
   "cell_type": "code",
   "execution_count": 6,
   "id": "950824af-7732-4be2-a784-d28c8cec613b",
   "metadata": {},
   "outputs": [],
   "source": [
    "import torch\n",
    "from torch import Tensor, nn\n",
    "\n",
    "\n",
    "def rollout_iter(\n",
    "    nsteps: int,\n",
    "    model: nn.Module,\n",
    "    batch: dict[str, Tensor | int | float],\n",
    "    return_intermediate: bool = False\n",
    ") -> Tensor:\n",
    "    \"\"\"A helper function for performing autoregressive rollout.\n",
    "\n",
    "    Args:\n",
    "        nsteps (int): The number of rollout steps to take\n",
    "        model (nn.Module): A model.\n",
    "        batch (dict): A data dictionary common to the Prithvi models.\n",
    "\n",
    "    Raises:\n",
    "        ValueError: If the number of steps isn't positive.\n",
    "\n",
    "    Returns:\n",
    "        Tensor: the output of the model after nsteps autoregressive iterations.\n",
    "    \"\"\"\n",
    "    if nsteps < 1:\n",
    "        raise ValueError(\"'nsteps' shouold be a positive int.\")\n",
    "\n",
    "    xlast = batch[\"x\"][:, 1]\n",
    "    batch[\"lead_time\"] = batch[\"lead_time\"][..., 0]\n",
    "\n",
    "    # Save the masking ratio to be restored later\n",
    "    mask_ratio_tmp = model.mask_ratio_inputs\n",
    "\n",
    "    preds = []\n",
    "\n",
    "    for step in range(nsteps):\n",
    "        # After first step, turn off masking\n",
    "        if step > 0:\n",
    "            model.mask_ratio_inputs = 0.0\n",
    "\n",
    "        batch[\"static\"] = batch[\"statics\"][:, step]\n",
    "        batch[\"climate\"] = batch[\"climates\"][:, step]\n",
    "        batch[\"y\"] = batch[\"ys\"][:, step]\n",
    "\n",
    "        out = model(batch)\n",
    "        if return_intermediate:\n",
    "            preds.append(out.cpu().numpy())\n",
    "\n",
    "        batch[\"x\"] = torch.cat((xlast[:, None], out[:, None]), dim=1)\n",
    "        xlast = out\n",
    "\n",
    "    # Restore the masking ratio\n",
    "    model.mask_ratio_inputs = mask_ratio_tmp\n",
    "\n",
    "    if return_intermediate:\n",
    "        return preds\n",
    "\n",
    "    return out\n"
   ]
  },
  {
   "cell_type": "code",
   "execution_count": 9,
   "id": "137d16bb-1b14-4bbd-af9f-2a2ee2243f64",
   "metadata": {},
   "outputs": [],
   "source": [
    "import torch\n",
    "from PrithviWxC.dataloaders.merra2_rollout import preproc\n",
    "\n",
    "padding = {\"level\": [0, 0], \"lat\": [0, -1], \"lon\": [0, 0]}\n",
    "data = next(iter(dataset))\n",
    "batch = preproc([data], padding)\n",
    "\n",
    "for k, v in batch.items():\n",
    "    if isinstance(v, torch.Tensor):\n",
    "        batch[k] = v.to(device)\n",
    "\n",
    "rng_state_1 = torch.get_rng_state()\n",
    "with torch.no_grad():\n",
    "    model.eval()\n",
    "    forecast = rollout_iter(dataset.nsteps, model, batch, return_intermediate=True)\n",
    "valid_times = initialization_time + np.timedelta64(6, \"h\") * np.arange(1, len(forecast) + 1)"
   ]
  },
  {
   "cell_type": "markdown",
   "id": "5a0d7401-9290-4aba-9c2e-c0ec1dd8a20e",
   "metadata": {},
   "source": [
    "## Display results\n",
    "\n",
    "Since we are primarily interested in Hurricane Ida's track, we extract a domain over the west Atlantic from the results."
   ]
  },
  {
   "cell_type": "code",
   "execution_count": 10,
   "id": "af36d6cb-32c6-431a-b9f7-bc50b2664a2e",
   "metadata": {},
   "outputs": [],
   "source": [
    "lats = np.rad2deg(batch[\"static\"][0, 0, :, 0].cpu().numpy())\n",
    "lons = np.rad2deg(batch[\"static\"][0, 1, 0, :].cpu().numpy())\n",
    "\n",
    "lon_min = -100\n",
    "lon_max = -70\n",
    "lat_min = 15\n",
    "lat_max = 40\n",
    "\n",
    "lat_mask = (lat_min < lats) * (lats < lat_max)\n",
    "lon_mask = (lon_min < lons) * (lons < lon_max)\n",
    "\n",
    "forecast = [tnsr[..., lat_mask, :][..., lon_mask] for tnsr in forecast]\n",
    "lats = lats[lat_mask]\n",
    "lons = lons[lon_mask]"
   ]
  },
  {
   "cell_type": "markdown",
   "id": "81433d88-8e16-4b50-a8b2-f7439704359b",
   "metadata": {},
   "source": [
    "Below we extract the Hurricane track from the forecasts by tracking the location of the sea-level-pressure minimum throughout the forecast. We also load Ida's actual track from the HURDAT 2 database."
   ]
  },
  {
   "cell_type": "code",
   "execution_count": 12,
   "id": "d90e3867-3cea-4bb4-92dd-21d299f1af2e",
   "metadata": {},
   "outputs": [],
   "source": [
    "slp_fcst = [tnsr[0, 9] for tnsr in forecast]\n",
    "track = []\n",
    "for slp in slp_fcst:\n",
    "    row_ind, col_ind = np.unravel_index(np.argmin(slp), slp.shape)\n",
    "    track.append([lons[col_ind], lats[row_ind]])\n",
    "\n",
    "track = np.array(track)"
   ]
  },
  {
   "cell_type": "markdown",
   "id": "681df536-d80f-45af-9d0c-a04d0902b295",
   "metadata": {},
   "source": [
    "## Get HURDAT reference track"
   ]
  },
  {
   "cell_type": "code",
   "execution_count": 13,
   "id": "ee360999-98b5-406e-9fe0-5d16ff723baf",
   "metadata": {},
   "outputs": [],
   "source": [
    "import pandas as pd\n",
    "import requests\n",
    "\n",
    "\n",
    "def download_hurdat2() -> Path:\n",
    "    \"\"\"\n",
    "    Download HURDAT 2 database.\n",
    "\n",
    "    Return:\n",
    "        A path object pointing to the download data if it isn't already present locally.\n",
    "    \"\"\"\n",
    "    dest = Path() / \"hurdat2.txt\"\n",
    "    if not dest.exists():\n",
    "        url = \"https://www.nhc.noaa.gov/data/hurdat/hurdat2-1851-2024-040425.txt\"\n",
    "        response = requests.get(url)\n",
    "        response.raise_for_status()\n",
    "        with open(dest, \"wb\") as output:\n",
    "            output.write(response.content)\n",
    "    return dest\n",
    "\n",
    "\n",
    "def parse_single_storm_xarray(filename, storm_id):\n",
    "    storm_id = storm_id.strip().upper()\n",
    "\n",
    "    with open(filename, 'r') as f:\n",
    "        while True:\n",
    "            header = f.readline()\n",
    "            if not header:\n",
    "                raise ValueError(f\"Storm '{storm_id}' not found in file.\")\n",
    "\n",
    "            parts = [p.strip() for p in header.strip().split(',')]\n",
    "            s_id, name, n_lines = parts[0], parts[1], int(parts[2])\n",
    "\n",
    "            if s_id.upper() != storm_id:\n",
    "                # Skip this storm\n",
    "                for _ in range(n_lines):\n",
    "                    f.readline()\n",
    "                continue\n",
    "\n",
    "            # Matching storm found\n",
    "            times, record_ids, lats, lons, winds, pressures = [], [], [], [], [], []\n",
    "\n",
    "            for _ in range(n_lines):\n",
    "                line = f.readline().strip()\n",
    "                fields = [x.strip() for x in line.split(',')]\n",
    "\n",
    "                dt = pd.to_datetime(f\"{fields[0]} {fields[1]}\", format=\"%Y%m%d %H%M\")\n",
    "                lat = float(fields[4][:-1]) * (1 if fields[4][-1] == 'N' else -1)\n",
    "                lon = float(fields[5][:-1]) * (1 if fields[5][-1] == 'E' else -1)\n",
    "                wind = int(fields[6])\n",
    "                pressure = fields[7]\n",
    "                pressure = int(pressure) if pressure else np.nan\n",
    "                record_id = fields[2]\n",
    "\n",
    "                times.append(dt)\n",
    "                lats.append(lat)\n",
    "                lons.append(lon)\n",
    "                winds.append(wind)\n",
    "                pressures.append(pressure)\n",
    "                record_ids.append(record_id)\n",
    "\n",
    "            # Return as xarray\n",
    "            return xr.Dataset(\n",
    "                data_vars={\n",
    "                    \"lat\": (\"time\", lats),\n",
    "                    \"lon\": (\"time\", lons),\n",
    "                    \"wind\": (\"time\", winds),\n",
    "                    \"pressure\": (\"time\", pressures),\n",
    "                    \"record_id\": (\"time\", record_ids),\n",
    "                },\n",
    "                coords={\n",
    "                    \"time\": times,\n",
    "                    \"storm_id\": s_id,\n",
    "                    \"storm_name\": name,\n",
    "                }\n",
    "            )\n",
    "\n",
    "\n",
    "def get_hurdat_track(storm_id: str) -> xr.Dataset:\n",
    "    \"\"\"\n",
    "    Get HURDAT track for a storm with a given storm_id.\n",
    "    \"\"\"\n",
    "    hurdat_file = download_hurdat2()\n",
    "    return parse_single_storm_xarray(hurdat_file, storm_id)\n"
   ]
  },
  {
   "cell_type": "code",
   "execution_count": 14,
   "id": "fe9eaf2e-1fd7-4780-a3a1-dc4ffed38322",
   "metadata": {},
   "outputs": [],
   "source": [
    "hurdat = get_hurdat_track(\"AL092021\")\n",
    "time_mask = (valid_times.min() <= hurdat.time) * (hurdat.time <= valid_times.max())\n",
    "hurdat = hurdat[{\"time\": time_mask}]"
   ]
  },
  {
   "cell_type": "markdown",
   "id": "e4ca1ea9-8066-4529-8c09-de90b86752e7",
   "metadata": {},
   "source": [
    "## Visualize the results"
   ]
  },
  {
   "cell_type": "code",
   "execution_count": 15,
   "id": "b2741395-b686-4704-b004-078e78246d15",
   "metadata": {},
   "outputs": [
    {
     "data": {
      "text/plain": [
       "<matplotlib.colorbar.Colorbar at 0x7ee3982c7fa0>"
      ]
     },
     "execution_count": 15,
     "metadata": {},
     "output_type": "execute_result"
    },
    {
     "data": {
      "image/png": "[encoded data removed]",
      "text/plain": [
       "<Figure size 800x500 with 2 Axes>"
      ]
     },
     "metadata": {},
     "output_type": "display_data"
    }
   ],
   "source": [
    "import cartopy.crs as ccrs\n",
    "\n",
    "crs = ccrs.PlateCarree()\n",
    "fig = plt.figure(figsize=(8, 5))\n",
    "\n",
    "step = 8\n",
    "valid_time = valid_times[step].astype(\"datetime64[s]\").item()\n",
    "\n",
    "ax = fig.add_subplot(1, 1, 1, projection=crs)\n",
    "m = ax.contourf(lons, lats, slp_fcst[step])\n",
    "ax.plot(track[:, 0], track[:, 1], c=\"red\", label=\"Prithvi-WxC\")\n",
    "ax.plot(hurdat.lon, hurdat.lat, ls=\"--\", color=\"grey\", label=\"HURDAT 2\")\n",
    "ax.set_title(valid_time.strftime(\"Prithvi-WxC forecast at %Y-%m-%d %H:%M:%S\"))\n",
    "\n",
    "ax.coastlines()\n",
    "ax.legend()\n",
    "\n",
    "plt.colorbar(m, label=\"SLP [Pa]\", ax=ax)"
   ]
  }
 ],
 "metadata": {
  "kernelspec": {
   "display_name": "Python 3 (ipykernel)",
   "language": "python",
   "name": "python3"
  },
  "language_info": {
   "codemirror_mode": {
    "name": "ipython",
    "version": 3
   },
   "file_extension": ".py",
   "mimetype": "text/x-python",
   "name": "python",
   "nbconvert_exporter": "python",
   "pygments_lexer": "ipython3",
   "version": "3.10.18"
  }
 },
 "nbformat": 4,
 "nbformat_minor": 5
}
